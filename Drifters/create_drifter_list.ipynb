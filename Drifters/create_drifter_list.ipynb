{
 "cells": [
  {
   "cell_type": "markdown",
   "metadata": {},
   "source": [
    "Goal: generate a text file containing the drifter deployments for a given period. The file will contain, for each deployment:\n",
    " * Name of the platform,\n",
    " * type of instrument,\n",
    " * deployment date,\n",
    " * initial latitude and longitude,\n",
    " * OPEnDAP url of the file.\n",
    "Note that we use the function *get_variables_by_attributes* of the netCDF4 module, only available in the recent versions."
   ]
  },
  {
   "cell_type": "code",
   "execution_count": 95,
   "metadata": {
    "collapsed": false
   },
   "outputs": [
    {
     "data": {
      "text/plain": [
       "'1.2.4'"
      ]
     },
     "execution_count": 95,
     "metadata": {},
     "output_type": "execute_result"
    }
   ],
   "source": [
    "import urllib2, json\n",
    "import netCDF4\n",
    "netCDF4.__version__"
   ]
  },
  {
   "cell_type": "code",
   "execution_count": 104,
   "metadata": {
    "collapsed": false
   },
   "outputs": [],
   "source": [
    "year = 2016\n",
    "listfilename = \"./drifterlist{0}.txt\".format(year)"
   ]
  },
  {
   "cell_type": "code",
   "execution_count": 105,
   "metadata": {
    "collapsed": true
   },
   "outputs": [],
   "source": [
    "response = urllib2.urlopen('http://apps.socib.es/DataDiscovery/list-deployments?'\n",
    "                           'platformType=surface_drifter&'\n",
    "                           'init_datetime={0}-01-01T000000&'\n",
    "                           'end_datetime={1}-01-01T000000'.format(year, year+1))\n",
    "deploymentlist = json.loads(response.read())"
   ]
  },
  {
   "cell_type": "markdown",
   "metadata": {},
   "source": [
    "## Function to get initial coordinates"
   ]
  },
  {
   "cell_type": "code",
   "execution_count": 106,
   "metadata": {
    "collapsed": false
   },
   "outputs": [],
   "source": [
    "def get_initial_position(datafile):\n",
    "    with netCDF4.Dataset(opendaplink) as nc:\n",
    "        lonvariable = nc.get_variables_by_attributes(standard_name='longitude')[0].name\n",
    "        latvariable = nc.get_variables_by_attributes(standard_name='latitude')[0].name\n",
    "        lon_init = nc.variables[lonvariable][0]\n",
    "        lat_init = nc.variables[latvariable][0]\n",
    "        return lon_init, lat_init"
   ]
  },
  {
   "cell_type": "markdown",
   "metadata": {},
   "source": [
    "# Loop on the deployments"
   ]
  },
  {
   "cell_type": "code",
   "execution_count": 107,
   "metadata": {
    "collapsed": false
   },
   "outputs": [
    {
     "name": "stdout",
     "output_type": "stream",
     "text": [
      "SCB-ODi013, Surface drifter, SOCIB, 2016-07-28T15:23:00+00:00, 38.9644ºN, 1.2248ºE\n",
      "SCB-ODi015, Surface drifter, SOCIB, 2016-07-28T15:00:00+00:00, 38.5852ºN, 1.125ºE\n",
      "SCB-ODi016, Surface drifter, SOCIB, 2016-07-28T14:36:00+00:00, 38.5846ºN, 0.9916ºE\n",
      "SCB-ODi014, Surface drifter, SOCIB, 2016-07-28T14:10:00+00:00, 38.7524ºN, 0.99ºE\n",
      "SCB-SVP030, Surface drifter, SOCIB, 2016-07-14T08:00:00+00:00, 38.8956ºN, 0.4725ºE\n",
      "SCB-ODi012, Surface drifter, SOCIB, 2016-07-13T10:00:00+00:00, 39.2842ºN, 2.6392ºE\n",
      "SCB-ODi013, Surface drifter, SOCIB, 2016-07-13T10:00:00+00:00, 39.2858ºN, 2.6394ºE\n",
      "SCB-ODi014, Surface drifter, SOCIB, 2016-07-13T10:00:00+00:00, 39.2836ºN, 2.6398ºE\n",
      "SCB-ODi012, Surface drifter, SOCIB, 2016-05-10T09:30:00+00:00, 39.2668ºN, 1.944ºE\n",
      "SCB-SVP027, Surface drifter, SOCIB, 2016-05-07T10:30:00+00:00, 38.8036ºN, 0.7448ºE\n",
      "SCB-SVP029, Surface drifter, SOCIB, 2016-02-25T11:00:00+00:00, 38.8876ºN, 0.5892ºE\n"
     ]
    }
   ],
   "source": [
    "with open(listfilename, \"w\") as drifterfile:\n",
    "    for deployments in deploymentlist:\n",
    "        initdate = deployments['initialDate']\n",
    "\n",
    "        # Check the platform type:\n",
    "        if deployments['platform']['jsonInstrumentList'][0]['instrumentType'] == u'Surface drifter':\n",
    "            opendaplink = deployments['platform']['jsonInstrumentList'][0]['ncOpendapLink']\n",
    "            displayName = deployments['platform']['jsonInstrumentList'][0]['displayName']\n",
    "            lon_init, lat_init = get_initial_position(opendaplink)\n",
    "            print(\"{0}, Surface drifter, SOCIB, {1}, {2}ºN, {3}ºE\".format(\n",
    "                    displayName, initdate, lat_init, lon_init))\n",
    "            drifterfile.write(\"{0}, Surface drifter, SOCIB, {1}, {2}ºN, {3}ºE, {4}\\n\".format(\n",
    "                    displayName, initdate, lat_init, lon_init, opendaplink))"
   ]
  }
 ],
 "metadata": {
  "kernelspec": {
   "display_name": "Python 2",
   "language": "python",
   "name": "python2"
  },
  "language_info": {
   "codemirror_mode": {
    "name": "ipython",
    "version": 2
   },
   "file_extension": ".py",
   "mimetype": "text/x-python",
   "name": "python",
   "nbconvert_exporter": "python",
   "pygments_lexer": "ipython2",
   "version": "2.7.5+"
  }
 },
 "nbformat": 4,
 "nbformat_minor": 0
}
