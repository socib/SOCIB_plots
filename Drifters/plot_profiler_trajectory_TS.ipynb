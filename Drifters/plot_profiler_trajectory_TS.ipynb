{
 "cells": [
  {
   "cell_type": "code",
   "execution_count": 1,
   "metadata": {
    "collapsed": false
   },
   "outputs": [
    {
     "name": "stderr",
     "output_type": "stream",
     "text": [
      "/usr/local/lib/python2.7/dist-packages/matplotlib/__init__.py:872: UserWarning: axes.color_cycle is deprecated and replaced with axes.prop_cycle; please use the latter.\n",
      "  warnings.warn(self.msg_depr % (key, alt_key))\n"
     ]
    }
   ],
   "source": [
    "import os\n",
    "import numpy as np\n",
    "import load_functions\n",
    "import plot_functions\n",
    "import matplotlib.pyplot as plt\n",
    "%matplotlib inline\n",
    "plt.style.use('../stylefiles/socib.mplstyle')"
   ]
  },
  {
   "cell_type": "code",
   "execution_count": 2,
   "metadata": {
    "collapsed": false
   },
   "outputs": [],
   "source": [
    "figdir = \"/home/ctroupin/Pictures/SOCIB\"\n",
    "cmap = plt.cm.viridis"
   ]
  },
  {
   "cell_type": "code",
   "execution_count": 3,
   "metadata": {
    "collapsed": true
   },
   "outputs": [],
   "source": [
    "datafile = (\"http://thredds.socib.es/thredds/dodsC/drifter/profiler_drifter/\"\n",
    "            \"argo_drifter_apex009-scb_apex006/L1/2015/\"\n",
    "            \"dep0001_argo-drifter-apex009_scb-apex006_L1_2015-11-27.nc\")\n",
    "datafile = (\"http://thredds.socib.es/thredds/dodsC/drifter/profiler_drifter/\"\n",
    "            \"argo_drifter_apex007-scb_apex005/L1/2014/\"\n",
    "            \"dep0001_argo-drifter-apex007_scb-apex005_L1_2014-11-22.nc\")"
   ]
  },
  {
   "cell_type": "code",
   "execution_count": 4,
   "metadata": {
    "collapsed": false
   },
   "outputs": [],
   "source": [
    "lon, lat, depth, time, temp, psal = load_functions.read_profiler_data(datafile)\n",
    "figname = os.path.join(figdir, os.path.basename(datafile)[:-3])\n",
    "plot_functions.plot_profiler_TS(temp, psal, depth, figname, vmin=0, vmax=600., cmap=cmap)"
   ]
  },
  {
   "cell_type": "code",
   "execution_count": null,
   "metadata": {
    "collapsed": true
   },
   "outputs": [],
   "source": []
  }
 ],
 "metadata": {
  "kernelspec": {
   "display_name": "Python 2",
   "language": "python",
   "name": "python2"
  },
  "language_info": {
   "codemirror_mode": {
    "name": "ipython",
    "version": 2
   },
   "file_extension": ".py",
   "mimetype": "text/x-python",
   "name": "python",
   "nbconvert_exporter": "python",
   "pygments_lexer": "ipython2",
   "version": "2.7.5+"
  }
 },
 "nbformat": 4,
 "nbformat_minor": 0
}
