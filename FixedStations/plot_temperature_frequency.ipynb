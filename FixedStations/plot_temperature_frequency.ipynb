{
 "cells": [
  {
   "cell_type": "code",
   "execution_count": 3,
   "metadata": {
    "collapsed": false
   },
   "outputs": [],
   "source": [
    "import os\n",
    "import numpy as np\n",
    "import netCDF4\n",
    "import matplotlib.pyplot as plt\n",
    "from matplotlib import rcParams\n",
    "import calendar\n",
    "%matplotlib inline\n",
    "rcParams.update({'font.size': 22})"
   ]
  },
  {
   "cell_type": "code",
   "execution_count": null,
   "metadata": {
    "collapsed": true
   },
   "outputs": [],
   "source": [
    "yearmin, yearmax = 2016, 2016\n",
    "N = 3     # N most frequent values will be plotted\n",
    "figdir = '/home/ctroupin/Projects/1-Internal/20141201_QC/figures'"
   ]
  },
  {
   "cell_type": "code",
   "execution_count": null,
   "metadata": {
    "collapsed": false
   },
   "outputs": [],
   "source": [
    "for years in range(yearmin, yearmax + 1):\n",
    "    for months in range(1, 13):\n",
    "        yyyy = str(years)\n",
    "        mm = str(months).zfill(2)\n",
    "        datafile = (\"http://thredds.priv.socib.es/thredds/dodsC/mooring/\"\n",
    "                    \"weather_station/station_parcbit-scb_met004/L1/{0}/\"\n",
    "                    \"dep0002_station-parcbit_scb-met004_L1_{1}-{2}.nc\".format(yyyy, yyyy, mm))\n",
    "        figname = datafile.split('/')[-1][:-3]\n",
    "        print(figname)\n",
    "        \n",
    "        try:\n",
    "            # Load temperature form netCDF\n",
    "            with netCDF4.Dataset(datafile) as nc:\n",
    "                temperature = nc.variables['AIR_TEM'][:]\n",
    "                temperatureQC = nc.variables['QC_AIR_TEM'][:]\n",
    "                filetitle = nc.title\n",
    "\n",
    "            # Count each occurence of the temperature values\n",
    "            unique_temperature, counts = np.unique(temperature, return_counts=True)\n",
    "\n",
    "            # Get the N most frequent values\n",
    "            index_max = np.argsort(counts)[-N:]\n",
    "\n",
    "            # Make the plot\n",
    "            fig = plt.figure(figsize=(10, 8))\n",
    "            plt.plot(unique_temperature, counts, 'ko', ms=2)\n",
    "            plt.plot(unique_temperature[index_max], counts[index_max], 'ro')\n",
    "\n",
    "            for ii in index_max:\n",
    "                plt.text(unique_temperature[ii] + 0.2, counts[ii], \n",
    "                         str(np.round(unique_temperature[ii], 3)))\n",
    "            plt.xlabel('Temperature ($^{\\circ}$C)')\n",
    "            plt.ylabel('Number of\\n occurences', rotation=0, ha='right')\n",
    "            plt.title(filetitle + '\\n' + calendar.month_name[months] + ' ' + yyyy)\n",
    "            plt.xlim(0., 30.)\n",
    "            plt.savefig(os.path.join(figdir, figname), dpi=300)\n",
    "            plt.close()\n",
    "        except RuntimeError:\n",
    "            print(\"File {0} doesn't exist\".format(datafile))"
   ]
  },
  {
   "cell_type": "markdown",
   "metadata": {},
   "source": [
    "# Histogram"
   ]
  },
  {
   "cell_type": "code",
   "execution_count": null,
   "metadata": {
    "collapsed": false
   },
   "outputs": [],
   "source": [
    "bins = np.arange(0, 30., 0.05)\n",
    "fig = plt.figure(figsize=(12, 12))\n",
    "plt.hist(temperature, bins=bins)\n",
    "plt.vlines(19.1, 0., 1600., color='r', linestyle='--', alpha=0.5)\n",
    "plt.show()"
   ]
  },
  {
   "cell_type": "code",
   "execution_count": 95,
   "metadata": {
    "collapsed": false
   },
   "outputs": [
    {
     "data": {
      "text/plain": [
       "array([  4.9,   5. ,   5.1,   5.2,   5.3,   5.4,   5.5,   5.6,   5.7,\n",
       "         5.8,   5.9,   6. ,   6.1,   6.2,   6.3,   6.4,   6.5,   6.6,\n",
       "         6.7,   6.8,   6.9,   7. ,   7.1,   7.2,   7.3,   7.4,   7.5,\n",
       "         7.6,   7.7,   7.8,   7.9,   8. ,   8.1,   8.2,   8.3,   8.4,\n",
       "         8.5,   8.6,   8.7,   8.8,   8.9,   9. ,   9.1,   9.2,   9.3,\n",
       "         9.4,   9.5,   9.6,   9.7,   9.8,   9.9,  10. ,  10.1,  10.2,\n",
       "        10.3,  10.4,  10.5,  10.6,  10.7,  10.8,  10.9,  11. ,  11.1,\n",
       "        11.2,  11.3,  11.4,  11.5,  11.6,  11.7,  11.8,  11.9,  12. ,\n",
       "        12.1,  12.2,  12.3,  12.4,  12.5,  12.6,  12.7,  12.8,  12.9,\n",
       "        13. ,  13.1,  13.2,  13.3,  13.4,  13.5,  13.6,  13.7,  13.8,\n",
       "        13.9,  14. ,  14.1,  14.2,  14.3,  14.4,  14.5,  14.6,  14.7,\n",
       "        14.8,  14.9,  15. ,  15.1,  15.2,  15.3,  15.4,  15.5,  15.6,\n",
       "        15.7,  15.8,  15.9,  16. ,  16.1,  16.2,  16.3,  16.4,  16.5,\n",
       "        16.6,  16.7,  16.8,  16.9,  17. ,  17.1,  17.2,  17.3,  17.4,\n",
       "        17.5,  17.6,  17.7,  17.8,  17.9,  18. ,  18.1,  18.2,  18.3,\n",
       "        18.4,  18.5,  18.6,  18.7,  18.8,  18.9,  19. ,  19.1,  19.2,\n",
       "        19.3,  19.4,  19.5,  19.6,  19.7,  19.8,  19.9,  20. ,  20.1,\n",
       "        20.2,  20.3,  20.4,  20.5,  20.6,  20.7,  20.8,  20.9,  21. ,\n",
       "        21.1,  21.2,  21.3,  21.4,  21.5,  21.6,  21.7,  21.8])"
      ]
     },
     "execution_count": 95,
     "metadata": {},
     "output_type": "execute_result"
    }
   ],
   "source": [
    "unique_temperature"
   ]
  },
  {
   "cell_type": "code",
   "execution_count": null,
   "metadata": {
    "collapsed": true
   },
   "outputs": [],
   "source": []
  }
 ],
 "metadata": {
  "kernelspec": {
   "display_name": "Python 2",
   "language": "python",
   "name": "python2"
  },
  "language_info": {
   "codemirror_mode": {
    "name": "ipython",
    "version": 2
   },
   "file_extension": ".py",
   "mimetype": "text/x-python",
   "name": "python",
   "nbconvert_exporter": "python",
   "pygments_lexer": "ipython2",
   "version": "2.7.5+"
  }
 },
 "nbformat": 4,
 "nbformat_minor": 0
}
