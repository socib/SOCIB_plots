{
 "cells": [
  {
   "cell_type": "markdown",
   "metadata": {},
   "source": [
    "# Plot sea water and air temperature at Buoy \"Bahia de Palma\""
   ]
  },
  {
   "cell_type": "markdown",
   "metadata": {},
   "source": [
    "The temperature time series is represented for selected months and years, the months are overlaid in order to make easier the comparison."
   ]
  },
  {
   "cell_type": "code",
   "execution_count": 1,
   "metadata": {
    "collapsed": false
   },
   "outputs": [],
   "source": [
    "%matplotlib inline\n",
    "import glob\n",
    "import os\n",
    "import numpy as np\n",
    "import netCDF4\n",
    "import matplotlib.pyplot as plt\n",
    "from mpl_toolkits.basemap import Basemap\n",
    "from matplotlib import colors\n",
    "from matplotlib import dates\n",
    "import datetime, time, calendar\n",
    "import matplotlib as mpl\n",
    "import locale\n",
    "import matplotlib.font_manager as fm\n",
    "import matplotlib.image as image\n",
    "locale.setlocale(locale.LC_ALL, 'en_US.utf8')\n",
    "mpl.rcParams.update({'font.size': 20})\n",
    "prop = fm.FontProperties(fname='/home/ctroupin/.fonts/Cube-Regular2.ttf')"
   ]
  },
  {
   "cell_type": "code",
   "execution_count": 72,
   "metadata": {
    "collapsed": true
   },
   "outputs": [],
   "source": [
    "figdir = \"/home/ctroupin/Pictures/SOCIB\"\n",
    "timenow = datetime.datetime.now().strftime('%Y%m%d_%H%M')\n",
    "figname = \"temp_bahiadepalma_{0}\".format(timenow) "
   ]
  },
  {
   "cell_type": "code",
   "execution_count": 37,
   "metadata": {
    "collapsed": false
   },
   "outputs": [],
   "source": [
    "file_basename = \"http://thredds.socib.es/thredds/dodsC/mooring/conductivity_and_temperature_recorder/\"\n",
    "file_list = ['buoy_bahiadepalma-scb_sbe37005/L1/2014/dep0002_buoy-bahiadepalma_scb-sbe37005_L1_2014-06.nc',\n",
    "             'buoy_bahiadepalma-scb_sbe37005/L1/2014/dep0002_buoy-bahiadepalma_scb-sbe37005_L1_2014-07.nc',\n",
    "             'buoy_bahiadepalma-scb_sbe37005/L1/2014/dep0002_buoy-bahiadepalma_scb-sbe37005_L1_2014-08.nc',\n",
    "             'buoy_bahiadepalma-scb_sbe37005/L1/2015/dep0002_buoy-bahiadepalma_scb-sbe37005_L1_2015-06.nc',\n",
    "             'buoy_bahiadepalma-scb_sbe37005/L1/2015/dep0002_buoy-bahiadepalma_scb-sbe37005_L1_2015-07.nc',\n",
    "             'buoy_bahiadepalma-scb_sbe37005/L1/2015/dep0002_buoy-bahiadepalma_scb-sbe37005_L1_2015-08.nc',\n",
    "             'buoy_bahiadepalma-scb_sbe37007/L1/2016/dep0001_buoy-bahiadepalma_scb-sbe37007_L1_2016-06.nc',\n",
    "             'buoy_bahiadepalma-scb_sbe37007/L1/2016/dep0001_buoy-bahiadepalma_scb-sbe37007_L1_2016-07.nc',\n",
    "             'buoy_bahiadepalma-scb_sbe37007/L1/2016/dep0001_buoy-bahiadepalma_scb-sbe37007_L1_2016-08.nc']\n",
    "file_list = [file_basename + s for s in file_list]"
   ]
  },
  {
   "cell_type": "code",
   "execution_count": 38,
   "metadata": {
    "collapsed": true
   },
   "outputs": [],
   "source": [
    "file_basename2 = \"http://thredds.socib.es/thredds/dodsC/mooring/weather_station/\"\n",
    "file_list2 = ['buoy_bahiadepalma-scb_met008/L1/2014/dep0002_buoy-bahiadepalma_scb-met008_L1_2014-06.nc',\n",
    "              'buoy_bahiadepalma-scb_met008/L1/2014/dep0002_buoy-bahiadepalma_scb-met008_L1_2014-07.nc',\n",
    "              'buoy_bahiadepalma-scb_met008/L1/2014/dep0002_buoy-bahiadepalma_scb-met008_L1_2014-08.nc',\n",
    "              'buoy_bahiadepalma-scb_met008/L1/2015/dep0002_buoy-bahiadepalma_scb-met008_L1_2015-06.nc',\n",
    "              'buoy_bahiadepalma-scb_met008/L1/2015/dep0002_buoy-bahiadepalma_scb-met008_L1_2015-07.nc',\n",
    "              'buoy_bahiadepalma-scb_met008/L1/2015/dep0002_buoy-bahiadepalma_scb-met008_L1_2015-08.nc',\n",
    "              'buoy_bahiadepalma-scb_met008/L1/2016/dep0002_buoy-bahiadepalma_scb-met008_L1_2016-06.nc',\n",
    "              'buoy_bahiadepalma-scb_met008/L1/2016/dep0002_buoy-bahiadepalma_scb-met008_L1_2016-07.nc',\n",
    "              'buoy_bahiadepalma-scb_met008/L1/2016/dep0002_buoy-bahiadepalma_scb-met008_L1_2016-08.nc']\n",
    "file_list2 = [file_basename2 + s for s in file_list2]"
   ]
  },
  {
   "cell_type": "markdown",
   "metadata": {},
   "source": [
    "# Load data"
   ]
  },
  {
   "cell_type": "code",
   "execution_count": null,
   "metadata": {
    "collapsed": true
   },
   "outputs": [],
   "source": [
    "def read_variable_time_list(filelist, variable_name):\n",
    "    '''\n",
    "    Read the variable and time from a list\n",
    "    INPUTS: variable standard name and file list\n",
    "    OUTPUTS: variable, time, date and year\n",
    "    '''\n",
    "    variable = np.array([])\n",
    "    variableQC = np.array([])\n",
    "    vartime = np.array([])\n",
    "    vardate = np.array([])\n",
    "    varyear = np.array([])\n",
    "    \n",
    "    for datafiles in filelist:\n",
    "        # print(datafiles)\n",
    "        with netCDF4.Dataset(datafiles) as nc:\n",
    "            vname = nc.get_variables_by_attributes(standard_name=variable_name)[0]\n",
    "            varname = vname.name\n",
    "            varnameQC = vname.ancillary_variables\n",
    "            varnameQC = np.hstack((varnameQC, nc.variables[varnameQC][:]))\n",
    "            variable = np.hstack((variable, nc.variables[varname][:]))\n",
    "            time = nc.variables['time'][:]\n",
    "            vartime = np.hstack((vartime, time))\n",
    "            timeunits = nc.variables['time'].units\n",
    "            varyear = np.hstack((varyear, netCDF4.num2date(time[0], timeunits).year * np.ones_like(time)))\n",
    "    variable = np.ma.masked_where(variableQC !=1, variable)\n",
    "    vardate = netCDF4.num2date(vartime, timeunits)\n",
    "    \n",
    "    return variable, vartime, vardate, varyear"
   ]
  },
  {
   "cell_type": "markdown",
   "metadata": {},
   "source": [
    "Read data from the mooring "
   ]
  },
  {
   "cell_type": "code",
   "execution_count": 42,
   "metadata": {
    "collapsed": false
   },
   "outputs": [],
   "source": [
    "watertemperature, watertime, waterdate, wateryear = read_variable_time_list(file_list, 'sea_water_temperature')"
   ]
  },
  {
   "cell_type": "markdown",
   "metadata": {},
   "source": [
    "Read data from weather station"
   ]
  },
  {
   "cell_type": "code",
   "execution_count": 43,
   "metadata": {
    "collapsed": false
   },
   "outputs": [],
   "source": [
    "airtemperature, airtime, airdate, airyear = read_variable_time_list(file_list2, 'air_temperature')"
   ]
  },
  {
   "cell_type": "markdown",
   "metadata": {},
   "source": [
    "Here we modify the dates to simulate that all the time series are measured the same year (offset) to make the comparison easier."
   ]
  },
  {
   "cell_type": "code",
   "execution_count": 44,
   "metadata": {
    "collapsed": false
   },
   "outputs": [],
   "source": [
    "waterdate = np.array([dd.replace(year=int(wateryear.min())) for dd in waterdate])\n",
    "airdate = np.array([dd.replace(year=int(airyear.min())) for dd in airdate])"
   ]
  },
  {
   "cell_type": "markdown",
   "metadata": {},
   "source": [
    "# Make the plot"
   ]
  },
  {
   "cell_type": "code",
   "execution_count": 45,
   "metadata": {
    "collapsed": false
   },
   "outputs": [],
   "source": [
    "colorlist = ['c', 'y', 'b']"
   ]
  },
  {
   "cell_type": "code",
   "execution_count": 46,
   "metadata": {
    "collapsed": false
   },
   "outputs": [],
   "source": [
    "im = image.imread('/home/ctroupin/Presentations/figures4presentations/logo/logo_socib_square.png')"
   ]
  },
  {
   "cell_type": "code",
   "execution_count": 75,
   "metadata": {
    "collapsed": false
   },
   "outputs": [],
   "source": [
    "#mpl.rcParams['font.family'] = prop.get_name()\n",
    "hfmt = dates.DateFormatter('%B')\n",
    "\n",
    "fig, ax= plt.subplots(num=None, figsize=(15, 8))\n",
    "\n",
    "NN = 144\n",
    "i=0\n",
    "for years in np.unique(wateryear):\n",
    "    \n",
    "    indices = np.where(wateryear == years)[0]\n",
    "    plotwater = plt.plot(waterdate[indices], \n",
    "                         watertemperature[indices],\n",
    "                         marker = 'o',\n",
    "                         linewidth = 3,\n",
    "                         markeredgecolor = colorlist[i],\n",
    "                         color = colorlist[i], ms=1, label=int(years))\n",
    "    i += 1\n",
    "    \n",
    "hl1 = plt.legend(loc=2, prop=prop)\n",
    "hl1.set_title('Sea water', prop=prop)\n",
    "for label in hl1.get_lines():\n",
    "    label.set_linewidth(3)  \n",
    "axhl = plt.gca().add_artist(hl1)\n",
    "\n",
    "i = 0\n",
    "for years in np.unique(wateryear):\n",
    "    indices = np.where(airyear == years)[0]\n",
    "    plotair = plt.plot(airdate[indices][NN/2:-NN/2+1], \n",
    "                       np.convolve(airtemperature[indices], np.ones(NN)/NN, 'valid'),\n",
    "                       marker = '.',\n",
    "                       linewidth = 1,\n",
    "                       linestyle = '-',\n",
    "                       markeredgecolor = colorlist[i],\n",
    "                       color = colorlist[i], ms=0.5)  \n",
    "    i += 1\n",
    "    \n",
    "hl2 = plt.legend(loc=4, prop=prop, title='Air')\n",
    "hl2.set_title('Air', prop=prop)\n",
    "for label in hl2.get_lines():\n",
    "    label.set_linewidth(1)  # the legend line width\n",
    "    \n",
    "ax.xaxis.set_major_locator(dates.MonthLocator())\n",
    "ax.xaxis.set_minor_locator(dates.DayLocator())\n",
    "ax.xaxis.set_major_formatter(hfmt)\n",
    "plt.title('Sea water and air temperature ($^{\\circ}$C)\\n at Bahia de Palma buoy', fontproperties=prop)\n",
    "#fig.autofmt_xdate()\n",
    "\n",
    "plt.grid()\n",
    "newax = fig.add_axes([0.8, 0.9, 0.1, 0.1], anchor='NE', zorder=1)\n",
    "newax.imshow(im)\n",
    "newax.axis('off')\n",
    "for label in ax.get_xticklabels():\n",
    "    label.set_fontproperties(prop)\n",
    "\n",
    "for label in ax.get_yticklabels():\n",
    "    label.set_fontproperties(prop)\n",
    "\n",
    "plt.savefig(os.path.join(figdir, figname), dpi=300)\n",
    "# plt.show()\n",
    "plt.close()"
   ]
  },
  {
   "cell_type": "code",
   "execution_count": 48,
   "metadata": {
    "collapsed": false
   },
   "outputs": [
    {
     "data": {
      "text/plain": [
       "('/home/ctroupin/Pictures/SOCIB', 'temp_bahiadepalma_20160826_1516')"
      ]
     },
     "execution_count": 48,
     "metadata": {},
     "output_type": "execute_result"
    }
   ],
   "source": [
    "figdir, figname"
   ]
  },
  {
   "cell_type": "code",
   "execution_count": null,
   "metadata": {
    "collapsed": true
   },
   "outputs": [],
   "source": []
  }
 ],
 "metadata": {
  "kernelspec": {
   "display_name": "Python 2",
   "language": "python",
   "name": "python2"
  },
  "language_info": {
   "codemirror_mode": {
    "name": "ipython",
    "version": 2
   },
   "file_extension": ".py",
   "mimetype": "text/x-python",
   "name": "python",
   "nbconvert_exporter": "python",
   "pygments_lexer": "ipython2",
   "version": "2.7.5+"
  }
 },
 "nbformat": 4,
 "nbformat_minor": 0
}
