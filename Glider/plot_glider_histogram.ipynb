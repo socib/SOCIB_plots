{
 "cells": [
  {
   "cell_type": "markdown",
   "metadata": {},
   "source": [
    "Plot the histogram of the temperature measured by the glider."
   ]
  },
  {
   "cell_type": "code",
   "execution_count": 10,
   "metadata": {
    "collapsed": true
   },
   "outputs": [],
   "source": [
    "import matplotlib.pyplot as plt\n",
    "import os\n",
    "import numpy as np\n",
    "import netCDF4\n",
    "from matplotlib import rcParams\n",
    "%matplotlib inline\n",
    "plt.style.use('../stylefiles/socib.mplstyle')"
   ]
  },
  {
   "cell_type": "code",
   "execution_count": 11,
   "metadata": {
    "collapsed": true
   },
   "outputs": [],
   "source": [
    "figdir = '/home/ctroupin/SOCIB/Facilities/Glider/TSdiagrams'\n",
    "gliderfile = (\"http://thredds.priv.socib.es/thredds/dodsC/auv/glider/icoast00-ime_slcost000/\"\n",
    "              \"L1/2016/dep0006_icoast00_ime-slcost000_L1_2016-07-13_data_dt.nc\")\n",
    "gliderfile2 = (\"http://thredds.socib.es/thredds/dodsC/auv/glider/sdeep00-scb_sldeep000/L1/\"\n",
    "               \"2015/dep0015_sdeep00_scb-sldeep000_L1_2015-08-19_data_dt.nc\")"
   ]
  },
  {
   "cell_type": "markdown",
   "metadata": {},
   "source": [
    "# Load data"
   ]
  },
  {
   "cell_type": "code",
   "execution_count": 12,
   "metadata": {
    "collapsed": true
   },
   "outputs": [],
   "source": [
    "def load_glider_TS_corr(gliderfile):\n",
    "    with netCDF4.Dataset(gliderfile) as nc:\n",
    "        temp = nc.variables['temperature'][:]\n",
    "        psal = nc.variables['salinity'][:]\n",
    "        temp_corr = nc.variables['temperature_corrected_thermal'][:]\n",
    "        psal_coor = nc.variables['salinity_corrected_thermal'][:]\n",
    "    return temp, psal, temp_corr, psal_coor"
   ]
  },
  {
   "cell_type": "code",
   "execution_count": 13,
   "metadata": {
    "collapsed": false
   },
   "outputs": [],
   "source": [
    "def plot_TS_histo_comparison(temp, psal, temp_corr, psal_coor, figname=None, figtitle=None):\n",
    "    \n",
    "    bins_temp = np.arange(10, 30., 0.25)\n",
    "    bins_psal = np.arange(36., 39., 0.1)\n",
    "\n",
    "    fig, ax = plt.subplots()\n",
    "    rcParams.update({'font.size': 14})\n",
    "    plt.suptitle(figtitle)\n",
    "    \n",
    "    plt.subplot(221)\n",
    "    plt.title('Temperature')\n",
    "    plt.hist(temp.compressed(), bins=bins_temp, color='0.7')\n",
    "    plt.tick_params(axis='x', which='both', bottom='on', top='on', labelbottom='off') #\n",
    "\n",
    "    plt.subplot(222)\n",
    "    plt.title('Salinity')\n",
    "\n",
    "    plt.hist(psal.compressed(), bins=bins_psal, color='0.7')\n",
    "    plt.tick_params(axis='x', which='both', bottom='on', top='on', labelbottom='off') #\n",
    "    #plt.tick_params(axis='y', which='both', labelleft='off') #\n",
    "\n",
    "\n",
    "    plt.subplot(223)\n",
    "    plt.title('Corrected temperature')\n",
    "    plt.hist(temp_corr.compressed(), bins=bins_temp, color='0.7')\n",
    "    plt.xlabel('($^{\\circ}$C)')\n",
    "\n",
    "    plt.subplot(224)\n",
    "    plt.title('Corrected salinity')\n",
    "\n",
    "    plt.hist(psal_coor.compressed(), bins=bins_psal, color='0.7')\n",
    "    #plt.tick_params(axis='y', which='both', labelleft='off') #\n",
    "\n",
    "    # plt.xlabel('Sea water salinity')\n",
    "    if figname == None:\n",
    "        plt.show()\n",
    "    else:\n",
    "        plt.savefig(figname, dpi=300)\n",
    "    \n",
    "    plt.close()"
   ]
  },
  {
   "cell_type": "code",
   "execution_count": 17,
   "metadata": {
    "collapsed": false
   },
   "outputs": [],
   "source": [
    "def plot_TS_diagram_comparison(temp, psal, temp_corr, psal_coor, figname=None, \n",
    "                               figtitle=None, smin=35, smax=40):\n",
    "    fig, ax = plt.subplots(sharex=True)\n",
    "    plt.suptitle(figtitle)\n",
    "    plt.subplot(221)\n",
    "    plt.plot(psal, temp, 'ko', ms=0.5)\n",
    "    plt.ylabel('Temperature\\n($^{\\circ}$C)', rotation=0, ha='right')\n",
    "    plt.xlim(smin, smax)\n",
    "    plt.subplot(222)\n",
    "    plt.plot(psal_coor, temp_corr, 'ko', ms=0.25)\n",
    "    plt.xlim(smin, smax)\n",
    "    #plt.tick_params(axis='y', which='both', labelleft='off') #\n",
    "    plt.xlabel('Salinity')\n",
    "    if figname == None:\n",
    "        plt.show()\n",
    "    else:\n",
    "        plt.savefig(figname, dpi=300)\n",
    "    plt.close()"
   ]
  },
  {
   "cell_type": "markdown",
   "metadata": {},
   "source": [
    "# Load the data"
   ]
  },
  {
   "cell_type": "code",
   "execution_count": 15,
   "metadata": {
    "collapsed": false
   },
   "outputs": [],
   "source": [
    "temp, psal, temp_corr, psal_coor = load_glider_TS_corr(gliderfile)"
   ]
  },
  {
   "cell_type": "markdown",
   "metadata": {},
   "source": [
    "# Make the plots"
   ]
  },
  {
   "cell_type": "code",
   "execution_count": 18,
   "metadata": {
    "collapsed": false
   },
   "outputs": [],
   "source": [
    "glidername = gliderfile.split('/')[-1].split('.')[0]\n",
    "figname = os.path.join(figdir, 'histogram_' + glidername)\n",
    "plot_TS_histo_comparison(temp, psal, temp_corr, psal_coor, \n",
    "                         figname=figname, figtitle=glidername)\n",
    "figname = os.path.join(figdir, 'TSdiagram_' + glidername)\n",
    "plot_TS_diagram_comparison(temp, psal, temp_corr, psal_coor, \n",
    "                           figname=figname, figtitle=glidername, smin=37, smax=38.5)"
   ]
  },
  {
   "cell_type": "code",
   "execution_count": null,
   "metadata": {
    "collapsed": true
   },
   "outputs": [],
   "source": []
  }
 ],
 "metadata": {
  "kernelspec": {
   "display_name": "Python 2",
   "language": "python",
   "name": "python2"
  },
  "language_info": {
   "codemirror_mode": {
    "name": "ipython",
    "version": 2
   },
   "file_extension": ".py",
   "mimetype": "text/x-python",
   "name": "python",
   "nbconvert_exporter": "python",
   "pygments_lexer": "ipython2",
   "version": "2.7.5+"
  }
 },
 "nbformat": 4,
 "nbformat_minor": 0
}
