{
 "cells": [
  {
   "cell_type": "code",
   "execution_count": 47,
   "metadata": {
    "collapsed": true
   },
   "outputs": [],
   "source": [
    "import requests\n",
    "import shutil\n",
    "import datetime\n",
    "import os"
   ]
  },
  {
   "cell_type": "markdown",
   "metadata": {},
   "source": [
    "Download images from https://worldview.earthdata.nasa.gov"
   ]
  },
  {
   "cell_type": "code",
   "execution_count": 57,
   "metadata": {
    "collapsed": false
   },
   "outputs": [],
   "source": [
    "urlbase = (\"http://map2.vis.earthdata.nasa.gov/image-download\"\n",
    "       \"?TIME=timeimage&\"\n",
    "       \"extent=-3.0847678764712523,34.724051833786476,5.669138373528748,41.017020583786476&\"\n",
    "       \"epsg=4326&\"\n",
    "       \"layers=LAYER,Coastlines&\"\n",
    "       \"opacities=1,1&\"\n",
    "       \"worldfile=false&\"\n",
    "       \"format=image/jpeg&\"\n",
    "       \"width=996&height=716\")\n",
    "layerlist = ['MODIS_Aqua_CorrectedReflectance_TrueColor', \n",
    "             'VIIRS_SNPP_CorrectedReflectance_TrueColor',\n",
    "             'MODIS_Terra_CorrectedReflectance_TrueColor']            "
   ]
  },
  {
   "cell_type": "code",
   "execution_count": 51,
   "metadata": {
    "collapsed": true
   },
   "outputs": [],
   "source": [
    "figdir = \"/home/ctroupin/Projects/1-Internal/201530627_Rissaga/images/visible/\""
   ]
  },
  {
   "cell_type": "code",
   "execution_count": 52,
   "metadata": {
    "collapsed": true
   },
   "outputs": [],
   "source": [
    "rissagadates = [(2016, 2, 7, 11, 13, 0), (2016, 4, 1, 5, 41, 0), (2015, 9, 19, 4, 0, 0), (2015, 8, 1, 2, 21, 0),\n",
    "                (2015, 7, 30, 15, 56, 0), (2015, 6, 14, 19, 5, 0), (2015, 6, 12, 4, 50, 0), (2015, 5, 6, 3, 3, 0),\n",
    "                (2015, 5, 5, 23, 4, 0), (2015, 4, 22, 13, 50, 0)]"
   ]
  },
  {
   "cell_type": "code",
   "execution_count": 59,
   "metadata": {
    "collapsed": true
   },
   "outputs": [],
   "source": [
    "def generate_timefile(datetuple):\n",
    "    ddate = datetime.datetime(datetuple[0], datetuple[1], datetuple[2])\n",
    "    return str(dd[0]) + str(ddate.timetuple().tm_yday).zfill(3)"
   ]
  },
  {
   "cell_type": "code",
   "execution_count": 60,
   "metadata": {
    "collapsed": false
   },
   "outputs": [],
   "source": [
    "def generate_figname(datetuple, layer, figdir):\n",
    "    sensor = layer.split('_')[0]\n",
    "    timestring = str(datetuple[0]) + str(datetuple[1]).zfill(2) \\\n",
    "                 + str(datetuple[2]).zfill(2) + '_' + sensor + '_visible.jpg'\n",
    "    figname = os.path.join(figdir, timestring)\n",
    "    return figname"
   ]
  },
  {
   "cell_type": "code",
   "execution_count": 61,
   "metadata": {
    "collapsed": true
   },
   "outputs": [],
   "source": [
    "def download_fig(url, figname):\n",
    "    r = requests.get(url, stream=True)\n",
    "    if r.status_code == 200:\n",
    "        with open(figname, 'wb') as f:\n",
    "            r.raw.decode_content = True\n",
    "            shutil.copyfileobj(r.raw, f)   "
   ]
  },
  {
   "cell_type": "code",
   "execution_count": 63,
   "metadata": {
    "collapsed": false
   },
   "outputs": [
    {
     "name": "stdout",
     "output_type": "stream",
     "text": [
      "/home/ctroupin/Projects/1-Internal/201530627_Rissaga/images/visible/20160207_MODIS_visible\n",
      "/home/ctroupin/Projects/1-Internal/201530627_Rissaga/images/visible/20160207_VIIRS_visible\n",
      "/home/ctroupin/Projects/1-Internal/201530627_Rissaga/images/visible/20160207_MODIS_visible\n",
      "/home/ctroupin/Projects/1-Internal/201530627_Rissaga/images/visible/20160401_MODIS_visible\n",
      "/home/ctroupin/Projects/1-Internal/201530627_Rissaga/images/visible/20160401_VIIRS_visible\n",
      "/home/ctroupin/Projects/1-Internal/201530627_Rissaga/images/visible/20160401_MODIS_visible\n"
     ]
    }
   ],
   "source": [
    "for timetuple in rissagadates[:2]:\n",
    "    timefile = generate_timefile(timetuple)\n",
    "    for layer in layerlist:\n",
    "        url2load = urlbase.replace('timeimage', timefile)\n",
    "        url2load = url2load.replace('LAYER', layer)\n",
    "        figname = generate_figname(timetuple, layer, figdir)\n",
    "        print figname\n",
    "        download_fig(url2load, figname)"
   ]
  },
  {
   "cell_type": "code",
   "execution_count": null,
   "metadata": {
    "collapsed": true
   },
   "outputs": [],
   "source": []
  }
 ],
 "metadata": {
  "kernelspec": {
   "display_name": "Python 2",
   "language": "python",
   "name": "python2"
  },
  "language_info": {
   "codemirror_mode": {
    "name": "ipython",
    "version": 2
   },
   "file_extension": ".py",
   "mimetype": "text/x-python",
   "name": "python",
   "nbconvert_exporter": "python",
   "pygments_lexer": "ipython2",
   "version": "2.7.5+"
  }
 },
 "nbformat": 4,
 "nbformat_minor": 0
}
