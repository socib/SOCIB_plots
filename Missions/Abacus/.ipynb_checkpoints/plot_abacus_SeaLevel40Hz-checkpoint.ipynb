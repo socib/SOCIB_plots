{
 "cells": [
  {
   "cell_type": "code",
   "execution_count": 15,
   "metadata": {
    "collapsed": true
   },
   "outputs": [],
   "source": [
    "import numpy as np\n",
    "import glob\n",
    "import os\n",
    "import netCDF4\n",
    "import matplotlib.pyplot as plt\n",
    "from scipy import signal\n",
    "from scipy import interpolate\n",
    "from scipy import ndimage\n",
    "from mpl_toolkits.basemap import Basemap\n",
    "from matplotlib import rcParams\n",
    "%matplotlib inline"
   ]
  },
  {
   "cell_type": "code",
   "execution_count": 19,
   "metadata": {
    "collapsed": true
   },
   "outputs": [],
   "source": [
    "rcParams.update({'font.size': 18})"
   ]
  },
  {
   "cell_type": "code",
   "execution_count": 60,
   "metadata": {
    "collapsed": true
   },
   "outputs": [],
   "source": [
    "datadir = \"/data_local/DataOceano/AVISO/ABACUS\"\n",
    "datafilelist = sorted(glob.glob(os.path.join(datadir, '*nc')))\n",
    "figdir = \"/home/ctroupin/Projects/3-European/201603_Abacus/figures/Peachi/\"\n",
    "mdtfile = \"/home/ctroupin/DataOceano/AVISO/MDT/MDT_SOCIB_CLS2.nc\"\n",
    "lonmin, lonmax = 1.0, 5.0"
   ]
  },
  {
   "cell_type": "code",
   "execution_count": 7,
   "metadata": {
    "collapsed": false
   },
   "outputs": [],
   "source": [
    "def readSLA40(datafile):\n",
    "    with netCDF4.Dataset(datafilelist[0]) as nc:\n",
    "        cycle_number = nc.cycle_number\n",
    "        pass_number = nc.pass_number\n",
    "        slatime = nc.variables['time_40hz'][:].ravel()\n",
    "        lon = nc.variables['longitude_40hz'][:].ravel()\n",
    "        lat = nc.variables['latitude_40hz'][:].ravel()\n",
    "        sla = nc.variables['sea_level_anomaly_alti_40hz'][:].ravel()\n",
    "        slaunits = nc.variables['sea_level_anomaly_alti_40hz'].units\n",
    "        timeunits = nc.variables['time_40hz'].units\n",
    "        sladate = netCDF4.num2date(slatime.min(), timeunits)\n",
    "        return cycle_number, pass_number, lon, lat, sla, slatime, sladate"
   ]
  },
  {
   "cell_type": "code",
   "execution_count": 8,
   "metadata": {
    "collapsed": false
   },
   "outputs": [],
   "source": [
    "def select_region(lon, lat, sla, slatime, lonmin, latmin):\n",
    "    # Select data in region of interest\n",
    "    goodcoord = np.where(((lon>=lonmin) & (lon<=lonmax)) | (lon>360.))\n",
    "    slatime = slatime[goodcoord]\n",
    "    lon = lon[goodcoord]\n",
    "    lat = lat[goodcoord]\n",
    "    sla = sla[goodcoord]\n",
    "    return lon, lat, sla, slatime"
   ]
  },
  {
   "cell_type": "code",
   "execution_count": 9,
   "metadata": {
    "collapsed": true
   },
   "outputs": [],
   "source": [
    "def create_title(sladate, cycle_number, pass_number):\n",
    "    # Create title based on the info\n",
    "    return (\"%s\\nCycle number: %s\\n Pass number: %s\" \\\n",
    "             %(sladate.strftime(\"%Y-%m-%d %H:%M:%S\"), cycle_number, pass_number))"
   ]
  },
  {
   "cell_type": "code",
   "execution_count": 10,
   "metadata": {
    "collapsed": true
   },
   "outputs": [],
   "source": [
    "def createmap():\n",
    "    m = Basemap(projection='merc',llcrnrlat=36.,urcrnrlat=42.,\\\n",
    "           llcrnrlon=-1.,urcrnrlon=6.,lat_ts=38,resolution='f')\n",
    "    return m"
   ]
  },
  {
   "cell_type": "code",
   "execution_count": 11,
   "metadata": {
    "collapsed": false
   },
   "outputs": [],
   "source": [
    "def scatterplot_sla(m, lon, lat, sla, titletext, figname):\n",
    "    lon2plot, lat2plot = m(lon, lat)\n",
    "    fig = plt.figure(figsize=(10, 10))\n",
    "    ax = fig.add_axes()\n",
    "    m.scatter(lon2plot, lat2plot, 5, sla, edgecolor='None')\n",
    "    m.drawcoastlines(ax=ax, linewidth=0.5, zorder=3)\n",
    "    m.fillcontinents(ax=ax, zorder=2)\n",
    "    m.drawparallels(np.arange(36., 42., 1.0), linewidth=0.2, labels=[1, 0, 0, 0], zorder=1)\n",
    "    m.drawmeridians(np.arange(-5., 6., 1.), linewidth=0.2, labels=[0, 0, 0, 1], zorder=1)\n",
    "    plt.title(titletext, fontsize=22)\n",
    "    cbar = plt.colorbar(ax=ax, shrink=0.85, extend='both')\n",
    "    cbar.set_label('SLA (m)', rotation=0, ha='left')\n",
    "    plt.savefig(figname, dpi=300)\n",
    "    plt.close()"
   ]
  },
  {
   "cell_type": "code",
   "execution_count": 56,
   "metadata": {
    "collapsed": false
   },
   "outputs": [],
   "source": [
    "def plot_latsla(lat, sla, titletext, figname):\n",
    "    fig = plt.figure(figsize=(10, 10))\n",
    "    ax = fig.add_axes()\n",
    "    plt.plot(lat, sla, linewidth=0.2)\n",
    "    plt.xlabel('Latitude ($^{\\circ}$N)')\n",
    "    plt.ylabel('SLA\\n(m)', rotation=0, ha='right')\n",
    "    plt.xlim(37.0, 39.5)\n",
    "    plt.ylim(-0.15, 0.15)\n",
    "    plt.title(titletext, fontsize=22)\n",
    "    plt.savefig(figname, dpi=300)\n",
    "    plt.close()"
   ]
  },
  {
   "cell_type": "code",
   "execution_count": 57,
   "metadata": {
    "collapsed": true
   },
   "outputs": [],
   "source": [
    "def plot_latsla_filtered(lat, sla, filteredsla, n1, titletext, figname):\n",
    "    fig = plt.figure(figsize=(10, 10))\n",
    "    ax = fig.add_axes()\n",
    "    plt.plot(lat, sla, linewidth=0.2)\n",
    "    plt.plot(lat[:-n1/2], filteredsla[n1/2:], 'r')\n",
    "    plt.xlabel('Latitude ($^{\\circ}$N)')\n",
    "    plt.ylabel('SLA\\n(m)', rotation=0, ha='right')\n",
    "    plt.xlim(37.0, 39.5)\n",
    "    plt.ylim(-0.15, 0.15)\n",
    "    plt.title(titletext, fontsize=22)\n",
    "    plt.savefig(figname, dpi=300)\n",
    "    plt.close()"
   ]
  },
  {
   "cell_type": "code",
   "execution_count": 58,
   "metadata": {
    "collapsed": true
   },
   "outputs": [],
   "source": [
    "def apply_filter(data):\n",
    "    # For the filter, it is necessary to set:\n",
    "    #  * the cutoff frequency,\n",
    "    #  * the filter length,\n",
    "    #  * the window applied to the filter\n",
    "    n1 = 128  # filter length\n",
    "    windowsname = 'blackman'  # windows name\n",
    "    sample_rate = 40.  # 40 Hz data\n",
    "    nyq_rate = sample_rate / 2.0  # Nyquist rate\n",
    "    frqcut = 1.0 / (30 * 3600.)  # cutoff frequency\n",
    "    cutoff = frqcut / nyq_rate  # Cutoff relative to Nyquist rate\n",
    "    taps1 = signal.firwin(n1, cutoff=cutoff, window=(windowsname))\n",
    "    filtereddata = signal.lfilter(taps1, 1.0, data)\n",
    "    delay = 0.5 * (n1 - 1) / sample_rate\n",
    "    filtereddata = np.ma.masked_outside(filtereddata, -1, 1)\n",
    "    return filtereddata, delay, n1"
   ]
  },
  {
   "cell_type": "code",
   "execution_count": 62,
   "metadata": {
    "collapsed": false
   },
   "outputs": [
    {
     "ename": "IndentationError",
     "evalue": "expected an indented block (<ipython-input-62-7e6d9d9e21c1>, line 3)",
     "output_type": "error",
     "traceback": [
      "\u001b[1;36m  File \u001b[1;32m\"<ipython-input-62-7e6d9d9e21c1>\"\u001b[1;36m, line \u001b[1;32m3\u001b[0m\n\u001b[1;33m    \u001b[0m\n\u001b[1;37m    ^\u001b[0m\n\u001b[1;31mIndentationError\u001b[0m\u001b[1;31m:\u001b[0m expected an indented block\n"
     ]
    }
   ],
   "source": [
    "def extractMDT(mdtfile, lon2interp, lat2interp):\n",
    "    # interpolate the MDT on a list of coordinates\n",
    "    with netCDF4.Dataset(mdtfile) as nc:\n",
    "        lonMDT = nc.variables['longitude'][:]\n",
    "        latMDT = nc.variables['latitude'][:]\n",
    "        MDT = nc.variables['MDT'][:]\n",
    "    # Grid necessary for interpolating\n",
    "    llonMDT, llatMDT = np.meshgrid(lonMDT, latMDT)\n",
    "    lonMDT2 = llonMDT.flatten(1)\n",
    "    latMDT2 = llatMDT.flatten(1)\n",
    "    dlonMDT = lonMDT[1] - lonMDT[0]\n",
    "    dlatMDT = latMDT[1] - latMDT[0]\n",
    "    lontrack_mapcoord = (lon2interp - lonMDT[0]) / dlonMDT\n",
    "    lattrack_mapcoord = (lat2interp - latMDT[0]) / dlatMDT\n",
    "    MDTinterp = ndimage.map_coordinates(MDT.T, np.array((lontrack_mapcoord, lattrack_mapcoord)), order=1)\n",
    "    MDTinterp[np.abs(MDTvalues) > 10.] = 0.0\n",
    "\n"
   ]
  },
  {
   "cell_type": "code",
   "execution_count": 59,
   "metadata": {
    "collapsed": false
   },
   "outputs": [
    {
     "name": "stdout",
     "output_type": "stream",
     "text": [
      "Working on /data_local/DataOceano/AVISO/ABACUS/PEACHI_ClipSLA_40Hz_C0016_P0773.nc\n",
      "Working on /data_local/DataOceano/AVISO/ABACUS/PEACHI_ClipSLA_40Hz_C0018_P0773.nc\n",
      "Working on /data_local/DataOceano/AVISO/ABACUS/PEACHI_ClipSLA_40Hz_C0019_P0229.nc\n"
     ]
    }
   ],
   "source": [
    "for datafiles in datafilelist:\n",
    "    print(\"Working on %s\" %(datafiles))\n",
    "    figname1 = os.path.join(figdir, os.path.basename(datafiles)[:-3] + '_map')\n",
    "    figname2 = os.path.join(figdir, os.path.basename(datafiles)[:-3] + '_track')\n",
    "    figname3 = os.path.join(figdir, os.path.basename(datafiles)[:-3] + '_trackfiltered')\n",
    "    \n",
    "    cycle_number, pass_number, lon, lat, sla, slatime, sladate = readSLA40(readSLA40)\n",
    "    lon, lat, sla, slatime = select_region(lon, lat, sla, slatime, lonmin, lonmax)\n",
    "    titletext = create_title(sladate, cycle_number, pass_number)\n",
    "    #m = createmap()\n",
    "    #scatterplot_sla(m, lon, lat, sla, titletext, figname1)\n",
    "    filteredsla, delay, n1 = apply_filter(sla)\n",
    "    plot_latsla(lat, sla, titletext, figname2)\n",
    "    plot_latsla_filtered(lat, sla, filteredsla, n1, titletext, figname3)\n",
    "    "
   ]
  },
  {
   "cell_type": "code",
   "execution_count": null,
   "metadata": {
    "collapsed": true
   },
   "outputs": [],
   "source": []
  }
 ],
 "metadata": {
  "kernelspec": {
   "display_name": "Python 2",
   "language": "python",
   "name": "python2"
  },
  "language_info": {
   "codemirror_mode": {
    "name": "ipython",
    "version": 2
   },
   "file_extension": ".py",
   "mimetype": "text/x-python",
   "name": "python",
   "nbconvert_exporter": "python",
   "pygments_lexer": "ipython2",
   "version": "2.7.5+"
  }
 },
 "nbformat": 4,
 "nbformat_minor": 0
}
