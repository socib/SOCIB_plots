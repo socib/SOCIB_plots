{
 "cells": [
  {
   "cell_type": "code",
   "execution_count": 1,
   "metadata": {
    "collapsed": true
   },
   "outputs": [],
   "source": [
    "import numpy as np\n",
    "import glob\n",
    "import os\n",
    "import netCDF4\n",
    "import matplotlib.pyplot as plt\n",
    "from scipy import signal\n",
    "from scipy import interpolate\n",
    "from scipy import ndimage\n",
    "from mpl_toolkits.basemap import Basemap\n",
    "from matplotlib import rcParams\n",
    "%matplotlib inline"
   ]
  },
  {
   "cell_type": "code",
   "execution_count": 64,
   "metadata": {
    "collapsed": true
   },
   "outputs": [],
   "source": [
    "sstdir = \"/data_local/Satellite/MODIS/data/L2/ABACUS\"\n",
    "sstfile = \"A2014261012000.L2_LAC_SST4.nc\"\n",
    "figdir = \"/home/ctroupin/Projects/3-European/201603_Abacus/figures/SST_Modis\""
   ]
  },
  {
   "cell_type": "code",
   "execution_count": 36,
   "metadata": {
    "collapsed": false
   },
   "outputs": [],
   "source": [
    "def load_sst_flag_L2(sstfile):\n",
    "    if 'SST4' in os.path.basename(sstfile):\n",
    "        sstname = 'sst4'\n",
    "        sstflagname = 'qual_sst4'\n",
    "    else:\n",
    "        sstname = 'sst'\n",
    "        sstflagname = 'qual_sst'\n",
    "\n",
    "    with netCDF4.Dataset(sstfile, 'r') as nc:\n",
    "        lon = nc.groups['navigation_data'].variables['longitude'][:]\n",
    "        lat = nc.groups['navigation_data'].variables['latitude'][:]\n",
    "        sst = nc.groups['geophysical_data'].variables[sstname][:]\n",
    "        sstflag = nc.groups['geophysical_data'].variables[sstflagname][:]\n",
    "        timesst = nc.time_coverage_start\n",
    "    return lon, lat, sst, sstflag, timesst"
   ]
  },
  {
   "cell_type": "code",
   "execution_count": 78,
   "metadata": {
    "collapsed": true
   },
   "outputs": [],
   "source": [
    "def masksst(sst, sstflag, flagvalue):\n",
    "    sst = np.ma.masked_where(sstflag > flagvalue, sst)\n",
    "    return sst"
   ]
  },
  {
   "cell_type": "code",
   "execution_count": 79,
   "metadata": {
    "collapsed": true
   },
   "outputs": [],
   "source": [
    "def createmap():\n",
    "    m = Basemap(projection='merc',llcrnrlat=36.,urcrnrlat=42.,\\\n",
    "           llcrnrlon=-1.,urcrnrlon=6.,lat_ts=38,resolution='l')\n",
    "    return m"
   ]
  },
  {
   "cell_type": "code",
   "execution_count": 80,
   "metadata": {
    "collapsed": false
   },
   "outputs": [],
   "source": [
    "def pcolor_field(m, lon, lat, field, figtitle, figname):\n",
    "    lon2plot, lat2plot = m(lon, lat)\n",
    "    fig = plt.figure(figsize=(10, 10))\n",
    "    ax = fig.add_axes()\n",
    "    m.pcolormesh(lon2plot, lat2plot, field, cmap=plt.cm.RdYlBu_r)\n",
    "    m.drawcoastlines(ax=ax, linewidth=0.5, zorder=3)\n",
    "    m.fillcontinents(ax=ax, zorder=2)\n",
    "    m.drawparallels(np.arange(36., 42., 1.0), linewidth=0.2, labels=[1, 0, 0, 0], zorder=1)\n",
    "    m.drawmeridians(np.arange(-5., 6., 1.), linewidth=0.2, labels=[0, 0, 0, 1], zorder=1)\n",
    "    plt.title(figtitle, fontsize=22)\n",
    "    cbar = plt.colorbar(ax=ax, shrink=0.85, extend='both')\n",
    "    cbar.set_label('$^{\\circ}$C', rotation=0, ha='left')\n",
    "    plt.savefig(figname, dpi=300)\n",
    "    plt.close()"
   ]
  },
  {
   "cell_type": "code",
   "execution_count": 81,
   "metadata": {
    "collapsed": false
   },
   "outputs": [
    {
     "name": "stdout",
     "output_type": "stream",
     "text": [
      "Working on A2014261012000.L2_LAC_SST4.nc\n",
      "Working on A2014330124500.L2_LAC_SST.nc\n",
      "Working on A2014331022500.L2_LAC_SST4.nc\n",
      "Working on A2014346124500.L2_LAC_SST.nc\n",
      "Working on A2014347022500.L2_LAC_SST4.nc\n",
      "Working on T2014330110500.L2_LAC_SST.nc\n",
      "Working on T2014330221000.L2_LAC_SST4.nc\n",
      "Working on T2014346110500.L2_LAC_SST.nc\n",
      "Working on T2014346221000.L2_LAC_SST4.nc\n"
     ]
    }
   ],
   "source": [
    "rcParams.update({'font.size': 18})\n",
    "filelist = sorted(glob.glob(os.path.join(sstdir, 'T2014346221000_L2_LAC_SST4.nc')))\n",
    "for sstfile in filelist:\n",
    "    print(\"Working on %s\" %(os.path.basename(sstfile)))\n",
    "    fname = os.path.basename(sstfile)[:-3]\n",
    "    fname = fname.replace('.', '_')\n",
    "    figname1 = os.path.join(figdir, fname)\n",
    "    lon, lat, sst, sstflag, timesst = load_sst_flag_L2(sstfile)\n",
    "    sst = masksst(sst, sstflag, 1)\n",
    "    m = createmap()\n",
    "    pcolor_field(m, lon, lat, sst, timesst, figname1)"
   ]
  },
  {
   "cell_type": "code",
   "execution_count": null,
   "metadata": {
    "collapsed": true
   },
   "outputs": [],
   "source": []
  },
  {
   "cell_type": "code",
   "execution_count": null,
   "metadata": {
    "collapsed": true
   },
   "outputs": [],
   "source": []
  }
 ],
 "metadata": {
  "kernelspec": {
   "display_name": "Python 2",
   "language": "python",
   "name": "python2"
  },
  "language_info": {
   "codemirror_mode": {
    "name": "ipython",
    "version": 2
   },
   "file_extension": ".py",
   "mimetype": "text/x-python",
   "name": "python",
   "nbconvert_exporter": "python",
   "pygments_lexer": "ipython2",
   "version": "2.7.5+"
  }
 },
 "nbformat": 4,
 "nbformat_minor": 0
}
