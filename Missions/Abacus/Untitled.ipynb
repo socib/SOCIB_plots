{
 "cells": [
  {
   "cell_type": "code",
   "execution_count": 1,
   "metadata": {
    "collapsed": true
   },
   "outputs": [],
   "source": [
    "import numpy as np\n",
    "import folium"
   ]
  },
  {
   "cell_type": "code",
   "execution_count": 4,
   "metadata": {
    "collapsed": true
   },
   "outputs": [],
   "source": [
    "indexfile = \"/data_local/DataOceano/CMEMS/IndexFiles/index_history.txt\""
   ]
  },
  {
   "cell_type": "code",
   "execution_count": 5,
   "metadata": {
    "collapsed": false
   },
   "outputs": [],
   "source": [
    "dataindex = np.genfromtxt(indexfile, skip_header=6, unpack=True, delimiter=',', dtype=None, \\\n",
    "              names=['catalog_id', 'file_name', 'geospatial_lat_min', 'geospatial_lat_max',\n",
    "                     'geospatial_lon_min', 'geospatial_lon_max',\n",
    "                     'time_coverage_start', 'time_coverage_end', \n",
    "                     'provider', 'date_update', 'data_mode', 'parameters'])"
   ]
  },
  {
   "cell_type": "code",
   "execution_count": 6,
   "metadata": {
    "collapsed": false
   },
   "outputs": [
    {
     "data": {
      "text/plain": [
       "array(['2000-06-23T08:04:00Z', '2002-03-07T12:27:19Z',\n",
       "       '2003-01-07T05:25:57Z', ..., '2011-06-01T00:00:00Z',\n",
       "       '2011-06-01T00:00:00Z', '2011-06-01T00:00:00Z'], \n",
       "      dtype='|S20')"
      ]
     },
     "execution_count": 6,
     "metadata": {},
     "output_type": "execute_result"
    }
   ],
   "source": [
    "dataindex['time_coverage_start']"
   ]
  },
  {
   "cell_type": "code",
   "execution_count": 7,
   "metadata": {
    "collapsed": false
   },
   "outputs": [
    {
     "data": {
      "text/plain": [
       "('MYO-AR-01', 'ftp://ftp1.ifremer.fr/Core/INSITU_GLO_NRT_OBSERVATIONS_013_030/history/vessel/AR_PR_CT_MYO_AR_58AA_2000.nc', 64.9488, 65.0215, 4.7663, 5.1693, '2000-06-23T08:04:00Z', '2000-06-29T07:40:00Z', 'Institute of Marine Research', '2013-02-13T08:37:25Z', 'D', 'DEPH PSAL CNDC TEMP')"
      ]
     },
     "execution_count": 7,
     "metadata": {},
     "output_type": "execute_result"
    }
   ],
   "source": [
    "dataindex[0]"
   ]
  },
  {
   "cell_type": "code",
   "execution_count": 8,
   "metadata": {
    "collapsed": false
   },
   "outputs": [
    {
     "data": {
      "text/plain": [
       "dtype([('catalog_id', 'S15'), ('file_name', 'S118'), ('geospatial_lat_min', '<f8'), ('geospatial_lat_max', '<f8'), ('geospatial_lon_min', '<f8'), ('geospatial_lon_max', '<f8'), ('time_coverage_start', 'S20'), ('time_coverage_end', 'S20'), ('provider', 'S99'), ('date_update', 'S20'), ('data_mode', 'S1'), ('parameters', 'S169')])"
      ]
     },
     "execution_count": 8,
     "metadata": {},
     "output_type": "execute_result"
    }
   ],
   "source": [
    "dataindex.dtype"
   ]
  },
  {
   "cell_type": "code",
   "execution_count": null,
   "metadata": {
    "collapsed": true
   },
   "outputs": [],
   "source": []
  }
 ],
 "metadata": {
  "kernelspec": {
   "display_name": "Python 2",
   "language": "python",
   "name": "python2"
  },
  "language_info": {
   "codemirror_mode": {
    "name": "ipython",
    "version": 2
   },
   "file_extension": ".py",
   "mimetype": "text/x-python",
   "name": "python",
   "nbconvert_exporter": "python",
   "pygments_lexer": "ipython2",
   "version": "2.7.5+"
  }
 },
 "nbformat": 4,
 "nbformat_minor": 0
}
