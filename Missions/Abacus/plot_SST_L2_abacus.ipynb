{
 "cells": [
  {
   "cell_type": "code",
   "execution_count": 1,
   "metadata": {
    "collapsed": false
   },
   "outputs": [
    {
     "name": "stderr",
     "output_type": "stream",
     "text": [
      "/usr/local/lib/python2.7/dist-packages/matplotlib/__init__.py:872: UserWarning: axes.color_cycle is deprecated and replaced with axes.prop_cycle; please use the latter.\n",
      "  warnings.warn(self.msg_depr % (key, alt_key))\n"
     ]
    }
   ],
   "source": [
    "from alborex_functions import *\n",
    "import glob\n",
    "import os\n",
    "%matplotlib inline"
   ]
  },
  {
   "cell_type": "code",
   "execution_count": 10,
   "metadata": {
    "collapsed": true
   },
   "outputs": [],
   "source": [
    "figdir = '/home/ctroupin/Projects/Abacus/SST'\n",
    "sstdir = '/home/ctroupin/DataOceano/Satellite/SST/Abacus2014'\n",
    "gliderfile = ('http://thredds.socib.es/thredds/dodsC/auv/glider/'\n",
    "              'sdeep01-scb_sldeep001/L1/2014/'\n",
    "              'dep0017_sdeep01_scb-sldeep001_L1_2014-09-15_data_dt.nc')\n",
    "sstfilelist = sorted(glob.glob(os.path.join(sstdir, '*nc')))\n",
    "coordinates = [0., 6., 36., 40.]"
   ]
  },
  {
   "cell_type": "code",
   "execution_count": 3,
   "metadata": {
    "collapsed": false
   },
   "outputs": [],
   "source": [
    "with netcdf.Dataset(gliderfile) as nc:\n",
    "    lon_g = nc.variables['longitude'][:]\n",
    "    lat_g = nc.variables['latitude'][:]"
   ]
  },
  {
   "cell_type": "code",
   "execution_count": 5,
   "metadata": {
    "collapsed": true
   },
   "outputs": [],
   "source": [
    "with netcdf.Dataset(sstfiles) as nc:\n",
    "    lon = nc.groups['navigation_data'].variables['longitude'][:]\n",
    "    lat = nc.groups['navigation_data'].variables['latitude'][:]\n",
    "    sst = nc.groups['geophysical_data'].variables['sst4'][:]\n",
    "    qualsst = nc.groups['geophysical_data'].variables['qual_sst4'][:]\n",
    "    # apply filter\n",
    "    sst = np.ma.masked_where(qualsst > 1, sst)"
   ]
  },
  {
   "cell_type": "code",
   "execution_count": 6,
   "metadata": {
    "collapsed": false
   },
   "outputs": [
    {
     "name": "stderr",
     "output_type": "stream",
     "text": [
      "/usr/lib/python2.7/dist-packages/numpy/ma/core.py:931: RuntimeWarning: overflow encountered in multiply\n",
      "  result = self.f(da, db, *args, **kwargs)\n"
     ]
    }
   ],
   "source": [
    "m = Basemap(projection='merc', llcrnrlon=coordinates[0], llcrnrlat=coordinates[2],\n",
    "                urcrnrlon=coordinates[1], urcrnrlat=coordinates[3],\n",
    "                lat_ts=0.5 * (coordinates[2] + coordinates[3]), resolution='h')\n",
    "llon, llat = m(lon, lat)\n",
    "llon_g, llat_g = m(lon_g, lat_g)"
   ]
  },
  {
   "cell_type": "code",
   "execution_count": 13,
   "metadata": {
    "collapsed": false
   },
   "outputs": [
    {
     "name": "stdout",
     "output_type": "stream",
     "text": [
      "/home/ctroupin/DataOceano/Satellite/SST/Abacus2014/T2014268215500.L2_LAC_SST4.nc\n",
      "\n"
     ]
    }
   ],
   "source": [
    "for sstfiles in sstfilelist:\n",
    "    print(sstfiles + '\\n')\n",
    "    figname = os.path.basename(sstfiles)[:-3].replace('.', '_')\n",
    "    fig = plt.figure(figsize=(12, 12))\n",
    "    ax = plt.subplot(111)\n",
    "    m.ax = ax\n",
    "\n",
    "    pcm = m.pcolormesh(llon, llat, sst, vmin=23, vmax=27)\n",
    "    m.plot(llon_g, llat_g, 'ko', ms=1)\n",
    "    m.drawcoastlines(linewidth=.5)\n",
    "    m.fillcontinents()\n",
    "    m.drawmeridians(np.arange(coordinates[0], coordinates[1]), labels=[False,False,False,True], fontsize=18)\n",
    "    m.drawparallels(np.arange(coordinates[2], coordinates[3]), labels=[True,False,False,False])\n",
    "\n",
    "    plt.colorbar(pcm, extend='both', shrink=.7)\n",
    "    plt.savefig(os.path.join(figdir, figname))\n",
    "    plt.close()"
   ]
  },
  {
   "cell_type": "code",
   "execution_count": null,
   "metadata": {
    "collapsed": true
   },
   "outputs": [],
   "source": []
  }
 ],
 "metadata": {
  "kernelspec": {
   "display_name": "Python 2",
   "language": "python",
   "name": "python2"
  },
  "language_info": {
   "codemirror_mode": {
    "name": "ipython",
    "version": 2
   },
   "file_extension": ".py",
   "mimetype": "text/x-python",
   "name": "python",
   "nbconvert_exporter": "python",
   "pygments_lexer": "ipython2",
   "version": "2.7.3"
  }
 },
 "nbformat": 4,
 "nbformat_minor": 0
}
