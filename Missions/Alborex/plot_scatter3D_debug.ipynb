{
 "cells": [
  {
   "cell_type": "code",
   "execution_count": 37,
   "metadata": {
    "collapsed": false
   },
   "outputs": [],
   "source": [
    "#!/usr/bin/python\n",
    "#\n",
    "# -------------------------------------------------------------------------\n",
    "import os\n",
    "import numpy as np\n",
    "import matplotlib.pyplot as plt\n",
    "from matplotlib import colors\n",
    "from mpl_toolkits.mplot3d import Axes3D\n",
    "from alborex_functions import *\n",
    "import logging\n",
    "from matplotlib import rcParams\n",
    "rcParams.update({'font.size': 16, 'font.family': 'Times New Roman'})\n",
    "plottemp, plotsalinity, plotchloro = 0, 0, 1"
   ]
  },
  {
   "cell_type": "code",
   "execution_count": 2,
   "metadata": {
    "collapsed": true
   },
   "outputs": [],
   "source": [
    "def configure_logging():\n",
    "    logger = logging.getLogger(\"alborex_3Dscatter_logger\")\n",
    "    logger.setLevel(logging.DEBUG)\n",
    "    # Format for our loglines\n",
    "    formatter = logging.Formatter(\"%(asctime)s - %(name)s - %(levelname)s - %(message)s\")\n",
    "    # Setup console logging\n",
    "    ch = logging.StreamHandler()\n",
    "    ch.setLevel(logging.DEBUG)\n",
    "    ch.setFormatter(formatter)\n",
    "    logger.addHandler(ch)\n",
    "    # Setup file logging as well\n",
    "    fh = logging.FileHandler('/home/ctroupin/logs/alborex_3Dscatter_plot.log')\n",
    "    fh.setLevel(logging.DEBUG)\n",
    "    fh.setFormatter(formatter)\n",
    "    logger.addHandler(fh)\n",
    "    return logger\n",
    "logger = configure_logging()"
   ]
  },
  {
   "cell_type": "code",
   "execution_count": 26,
   "metadata": {
    "collapsed": true
   },
   "outputs": [],
   "source": [
    "# Plot configuration\n",
    "dlon, dlat = 1., 1.\n",
    "coordinates = np.array((-0.775, -0.3, 36.71, 37.19))\n",
    "depthmin = 0.0\n",
    "depthmax = 300.0\n",
    "\n",
    "# Glider files: can be local or through the thredds server\n",
    "gliderfile1 = 'dep0012_ideep00_ime-sldeep000_L1_2014-05-25_data_dt.nc'\n",
    "gliderfile2 = 'dep0005_icoast00_ime-slcost000_L1_2014-05-25_data_dt.nc'\n",
    "\n",
    "if 'gher' in os.uname()[1]:\n",
    "    gliderdir = '/home/ctroupin/DataOceano/Alborex/Glider'\n",
    "    gliderfile1 = os.path.join(gliderdir, gliderfile1)\n",
    "    gliderfile2 = os.path.join(gliderdir, gliderfile2)\n",
    "    figdir = '/home/ctroupin/IMEDEA/Alborex/figures/201610/'\n",
    "else:\n",
    "    gliderdir = 'http://thredds.priv.socib.es/thredds/dodsC/auv/glider/'\n",
    "    gliderfile1 = (gliderdir, 'ideep00-ime_sldeep000/L1/2014/dep0012_ideep00_ime-sldeep000_L1_2014-05-25_data_dt.nc')\n",
    "    gliderfile2 = (gliderdir, 'icoast00-ime_slcost000/L1/2014/dep0005_icoast00_ime-slcost000_L1_2014-05-25_data_dt.nc')\n",
    "    ctdfile = ('http://thredds.priv.socib.es/thredds/dodsC/research_vessel/ctd/',\n",
    "           'socib_rv-scb_sbe9002/L1/2014/dep0007_socib-rv_scb-sbe9002_L1_2014-05-25.nc')\n",
    "    figdir = '/home/ctroupin/public_html/Alborex/figures_20161006/'"
   ]
  },
  {
   "cell_type": "code",
   "execution_count": 5,
   "metadata": {
    "collapsed": false
   },
   "outputs": [
    {
     "name": "stderr",
     "output_type": "stream",
     "text": [
      "2016-10-11 14:15:43,434 - alborex_3Dscatter_logger - INFO - ---Reading data---\n",
      "2016-10-11 14:15:43,469 - alborex_3Dscatter_logger - INFO - Loading coast\n",
      "2016-10-11 14:15:43,885 - alborex_3Dscatter_logger - INFO - Loading CTD data\n",
      "2016-10-11 14:15:43,886 - alborex_3Dscatter_logger - INFO - Loading coordinates and temperature data from gliders (with sub-sampling)\n",
      "2016-10-11 14:15:50,101 - alborex_3Dscatter_logger - INFO - Loading chloro from glider\n",
      "2016-10-11 14:15:50,201 - alborex_3Dscatter_logger - INFO - Loading salinity from glider\n",
      "2016-10-11 14:15:50,301 - alborex_3Dscatter_logger - INFO - Remove infinite values in the coordinate arrays\n"
     ]
    }
   ],
   "source": [
    "logger.info('---Reading data---')\n",
    "\n",
    "logger.info('Loading coast')\n",
    "loncoast, latcoast = alborex_load_coast(coastdir, coastfile, valex)\n",
    "\n",
    "logger.info('Loading CTD data')\n",
    "# lonCTD, latCTD, depthCTD, tempCTD, chloroCTD = alborex_load_ctd(ctdfile)\n",
    "\n",
    "logger.info('Loading coordinates and temperature data from gliders (with sub-sampling)')\n",
    "NN = 5\n",
    "longlider1, latglider1, depthglider1, temperatureglider1 = alborex_loadglider_subsample(gliderfile1, NN)\n",
    "longlider2, latglider2, depthglider2, temperatureglider2 = alborex_loadglider_subsample(gliderfile2, NN)\n",
    "\n",
    "logger.info('Loading chloro from glider')\n",
    "chloroglider1 = alborex_loadglider_varname(gliderfile1, 'chlorophyll', NN)\n",
    "chloroglider2 = alborex_loadglider_varname(gliderfile2, 'chlorophyll', NN)\n",
    "\n",
    "logger.info('Loading salinity from glider')\n",
    "salinityglider1 = alborex_loadglider_varname(gliderfile1, 'salinity_corrected_thermal', NN)\n",
    "salinityglider2 = alborex_loadglider_varname(gliderfile2, 'salinity_corrected_thermal', NN)\n",
    "\n",
    "logger.info('Remove infinite values in the coordinate arrays')\n",
    "longlider1[longlider1 > coordinates[1]] = np.nan\n",
    "longlider2[longlider2 > coordinates[1]] = np.nan"
   ]
  },
  {
   "cell_type": "markdown",
   "metadata": {},
   "source": [
    "# Make the plots"
   ]
  },
  {
   "cell_type": "code",
   "execution_count": 6,
   "metadata": {
    "collapsed": true
   },
   "outputs": [],
   "source": [
    "# Parameters for the plot\n",
    "props = dict(boxstyle='round', facecolor='white', alpha=0.99)\n",
    "angles = np.array((55, -40))"
   ]
  },
  {
   "cell_type": "markdown",
   "metadata": {},
   "source": [
    "## Function go get the 3D scatter plots"
   ]
  },
  {
   "cell_type": "code",
   "execution_count": 31,
   "metadata": {
    "collapsed": false
   },
   "outputs": [],
   "source": [
    "def alborex_scatter_3D(lonlist, latlist, depthlist, fieldlist, \n",
    "                       varunits, varmin, varmax, dvar, cmap, \n",
    "                       coordinates, depths, \n",
    "                       figdir, figname): \n",
    "    \n",
    "    bounds = np.arange(varmin, varmax + .0001, dvar)\n",
    "    \n",
    "    if varmin == 0.01:\n",
    "        norm = colors.LogNorm(vmin=varmin, vmax=varmax)\n",
    "    else:\n",
    "        norm = colors.Normalize(vmin=varmin, vmax=varmax)\n",
    "\n",
    "    fig = plt.figure(num=None, figsize=(14, 8))\n",
    "    ax = fig.gca(projection='3d')\n",
    "    fig.patch.set_facecolor('white')\n",
    "\n",
    "    # Plot the glider profiles\n",
    "    for lon, lat, field, depth in zip(lonlist, latlist, fieldlist, depthlist):\n",
    "        scat3D = ax.scatter(lon, lat, -depth, s=5, c=field, edgecolor='None', cmap=cmap,\n",
    "                            norm=norm, zorder=4)\n",
    "\n",
    "    # Add the colorbar\n",
    "    cbar = fig.colorbar(scat3D, cmap=cmap, orientation='vertical', pad=0.05, aspect=15, \n",
    "                        shrink=0.8, extend='both')\n",
    "    cbar.set_label(varunits, fontname='Times New Roman', fontsize=18)\n",
    "    cbar.set_clim(varmin, varmax)\n",
    "    \n",
    "    if varmin != 0.01:\n",
    "        cbar.set_ticks(bounds)\n",
    "        cbar.ax.set_yticklabels(bounds, fontname='Times New Roman', fontsize=16)\n",
    "\n",
    "    # Plot coastline\n",
    "    # ax.plot3D(loncoast,latcoast,0,color='k',lw=0.5,zorder=6)\n",
    "    plt.xlabel('\\nLongitude')\n",
    "    plt.ylabel('\\nLatitude')\n",
    "\n",
    "    # Change wall properties\n",
    "    change_wall_prop(ax, coordinates, depths, angles)\n",
    "\n",
    "    plt.savefig(os.path.join(figdir, figname), dpi=300, facecolor='w', edgecolor='w', transparent=False,\n",
    "                bbox_inches='tight', pad_inches=0.1)\n",
    "    # plt.show()\n",
    "    plt.close()"
   ]
  },
  {
   "cell_type": "markdown",
   "metadata": {},
   "source": [
    "## Some parameters for the plots"
   ]
  },
  {
   "cell_type": "code",
   "execution_count": 20,
   "metadata": {
    "collapsed": false
   },
   "outputs": [],
   "source": [
    "valex = 999\n",
    "\n",
    "tempmin, tempmax, deltatemp = 13., 19., 1.0\n",
    "cmaptemp = plt.cm.spectral\n",
    "\n",
    "psalmin, psalmax, deltapsal = 36.5, 38.5, 0.5\n",
    "cmapCTDpsal = plt.cm.RdYlBu_r\n",
    "\n",
    "chloromin, chloromax, deltachloro = 0.01, 1.5, 0.3\n",
    "cmapchloro = plt.cm.YlGnBu_r"
   ]
  },
  {
   "cell_type": "markdown",
   "metadata": {},
   "source": [
    "## Plots for the deep glider"
   ]
  },
  {
   "cell_type": "code",
   "execution_count": 21,
   "metadata": {
    "collapsed": false
   },
   "outputs": [
    {
     "name": "stderr",
     "output_type": "stream",
     "text": [
      "2016-10-11 14:34:45,770 - alborex_3Dscatter_logger - INFO - -- Generating the plots for the deep glider\n",
      "2016-10-11 14:34:45,773 - alborex_3Dscatter_logger - INFO - -- Working on temperature\n",
      "2016-10-11 14:34:58,243 - alborex_3Dscatter_logger - INFO - -- Working on salinity\n",
      "2016-10-11 14:35:09,838 - alborex_3Dscatter_logger - INFO - -- Working on chlorophyll concentration\n"
     ]
    }
   ],
   "source": [
    "coordinates = np.array((-0.775, -0.3, 36.71, 37.19))\n",
    "depthmin = -500.0\n",
    "depthmax = 0.0\n",
    "deltadepth = 100.0\n",
    "depths = np.array((depthmin, depthmax, deltadepth))\n",
    "\n",
    "logger.info('-- Generating the plots for the deep glider')\n",
    "\n",
    "if plottemp:\n",
    "    logger.info('-- Working on temperature')\n",
    "    alborex_scatter_3D(longlider1, latglider1, depthglider1, temperatureglider1, '$^{\\circ}$C', \n",
    "                       tempmin, tempmax, deltatemp, cmaptemp, \n",
    "                       coordinates, depths, \n",
    "                       figdir, 'Alborex_scatter3D_temperature_ideep')\n",
    "\n",
    "if plotsalinity:\n",
    "    logger.info('-- Working on salinity')\n",
    "    alborex_scatter_3D(longlider1, latglider1, depthglider1, salinityglider1, '', \n",
    "                       psalmin, psalmax, deltapsal, cmappsal, \n",
    "                       coordinates, depths, \n",
    "                       figdir, 'Alborex_scatter3D_salinity_ideep')\n",
    "\n",
    "if plotchloro:\n",
    "    logger.info('-- Working on chlorophyll concentration')\n",
    "    alborex_scatter_3D(longlider1, latglider1, depthglider1, chloroglider1, 'mg/m$^{3}$', \n",
    "                       chloromin, chloromax, deltachloro, cmapchloro, \n",
    "                       coordinates, depths, \n",
    "                       figdir, 'Alborex_scatter3D_chlorophyll_ideep')"
   ]
  },
  {
   "cell_type": "markdown",
   "metadata": {},
   "source": [
    "## Plots for the coastal glider"
   ]
  },
  {
   "cell_type": "code",
   "execution_count": 25,
   "metadata": {
    "collapsed": false
   },
   "outputs": [
    {
     "name": "stderr",
     "output_type": "stream",
     "text": [
      "2016-10-11 14:37:47,641 - alborex_3Dscatter_logger - INFO - -- Generating the plots for the coastal glider\n",
      "2016-10-11 14:37:47,643 - alborex_3Dscatter_logger - INFO - -- Working on temperature\n",
      "2016-10-11 14:37:55,949 - alborex_3Dscatter_logger - INFO - -- Working on salinity\n",
      "2016-10-11 14:38:04,021 - alborex_3Dscatter_logger - INFO - -- Working on chlorophyll concentration\n"
     ]
    }
   ],
   "source": [
    "coordinates = np.array((-0.82, -0.3, 36.76, 37.15))\n",
    "depthmin = -200.0\n",
    "depthmax = 0.0\n",
    "deltadepth = 50.0\n",
    "depths = np.array((depthmin, depthmax, deltadepth))\n",
    "\n",
    "logger.info('-- Generating the plots for the coastal glider')\n",
    "\n",
    "if plottemp:\n",
    "    logger.info('-- Working on temperature')\n",
    "    alborex_scatter_3D(longlider2, latglider2, depthglider2, temperatureglider2, '$^{\\circ}$C', \n",
    "                       tempmin, tempmax, deltatemp, cmaptemp, \n",
    "                       coordinates, depths, \n",
    "                       figdir, 'Alborex_scatter3D_temperature_icoast')\n",
    "    \n",
    "if plotsalinity:\n",
    "    logger.info('-- Working on salinity')\n",
    "    alborex_scatter_3D(longlider2, latglider2, depthglider2, salinityglider2, '', \n",
    "                       psalmin, psalmax, deltapsal, cmappsal, \n",
    "                       coordinates, depths, \n",
    "                       figdir, 'Alborex_scatter3D_salinity_icoast')\n",
    "\n",
    "if plotchloro:\n",
    "    logger.info('-- Working on chlorophyll concentration')\n",
    "    alborex_scatter_3D(longlider2, latglider2, depthglider2, chloroglider2, 'mg/m$^{3}$', \n",
    "                       chloromin, chloromax, deltachloro, cmapchloro, \n",
    "                       coordinates, depths, \n",
    "                       figdir, 'Alborex_scatter3D_chlorophyll_icoast')"
   ]
  },
  {
   "cell_type": "markdown",
   "metadata": {},
   "source": [
    "## Both gliders at the same time"
   ]
  },
  {
   "cell_type": "code",
   "execution_count": 39,
   "metadata": {
    "collapsed": false
   },
   "outputs": [
    {
     "name": "stderr",
     "output_type": "stream",
     "text": [
      "2016-10-11 15:07:07,606 - alborex_3Dscatter_logger - INFO - -- Generating the plots for the two glider at the same time\n",
      "2016-10-11 15:07:07,608 - alborex_3Dscatter_logger - INFO - -- Working on chlorophyll concentration\n"
     ]
    }
   ],
   "source": [
    "coordinates = np.array((-0.775, -0.3, 36.71, 37.19))\n",
    "depthmin = -500.0\n",
    "depthmax = 0.0\n",
    "deltadepth = 100.0\n",
    "depths = np.array((depthmin, depthmax, deltadepth))\n",
    "\n",
    "logger.info('-- Generating the plots for the two glider at the same time')\n",
    "\n",
    "lonlist = [longlider1, longlider2]\n",
    "latlist = [latglider1, latglider2]\n",
    "depthlist = [depthglider1, depthglider2]\n",
    "\n",
    "if plottemp:\n",
    "    templist = [temperatureglider1, temperatureglider2]\n",
    "    logger.info('-- Working on temperature')\n",
    "    alborex_scatter_3D(lonlist, latlist, depthlist, templist, '$^{\\circ}$C', \n",
    "                       tempmin, tempmax, deltatemp, cmaptemp, \n",
    "                       coordinates, depths, \n",
    "                       figdir, 'Alborex_scatter3D_temperature_ideep_icoast')\n",
    "\n",
    "if plotsalinity:\n",
    "    psallist = [salinityglider1, salinityglider2]\n",
    "    logger.info('-- Working on salinity')\n",
    "    alborex_scatter_3D(lonlist, latlist, depthlist, psallist, '', \n",
    "                       psalmin, psalmax, deltapsal, cmappsal, \n",
    "                       coordinates, depths, \n",
    "                       figdir, 'Alborex_scatter3D_salinity_ideep_icoast')\n",
    "\n",
    "if plotchloro:\n",
    "    chlorolist = [chloroglider1, chloroglider2]\n",
    "    logger.info('-- Working on chlorophyll concentration')\n",
    "    alborex_scatter_3D(lonlist, latlist, depthlist, chlorolist, '', \n",
    "                       chloromin, chloromax, deltachloro, cmapchloro, \n",
    "                       coordinates, depths, \n",
    "                       figdir, 'Alborex_scatter3D_chloro_ideep_icoast')"
   ]
  },
  {
   "cell_type": "code",
   "execution_count": null,
   "metadata": {
    "collapsed": true
   },
   "outputs": [],
   "source": []
  }
 ],
 "metadata": {
  "kernelspec": {
   "display_name": "Python 2",
   "language": "python",
   "name": "python2"
  },
  "language_info": {
   "codemirror_mode": {
    "name": "ipython",
    "version": 2
   },
   "file_extension": ".py",
   "mimetype": "text/x-python",
   "name": "python",
   "nbconvert_exporter": "python",
   "pygments_lexer": "ipython2",
   "version": "2.7.3"
  }
 },
 "nbformat": 4,
 "nbformat_minor": 0
}
