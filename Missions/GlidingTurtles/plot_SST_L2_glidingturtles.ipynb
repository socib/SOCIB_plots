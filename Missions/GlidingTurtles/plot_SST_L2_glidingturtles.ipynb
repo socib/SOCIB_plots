{
 "cells": [
  {
   "cell_type": "code",
   "execution_count": 7,
   "metadata": {
    "collapsed": false
   },
   "outputs": [],
   "source": [
    "from load_functions import *\n",
    "from plot_functions import *\n",
    "import glob\n",
    "import os\n",
    "from mpl_toolkits.basemap import Basemap\n",
    "import matplotlib.pyplot as plt\n",
    "from mpl_toolkits.axes_grid1 import make_axes_locatable\n",
    "from okean import gshhs\n",
    "%matplotlib inline"
   ]
  },
  {
   "cell_type": "code",
   "execution_count": 2,
   "metadata": {
    "collapsed": true
   },
   "outputs": [],
   "source": [
    "plt.style.use('/home/ctroupin/PycharmProjects/SOCIB_plots/stylefiles/socib.mplstyle')\n",
    "cmap = plt.cm.RdYlBu_r\n",
    "Nticks = 5"
   ]
  },
  {
   "cell_type": "code",
   "execution_count": 9,
   "metadata": {
    "collapsed": false
   },
   "outputs": [],
   "source": [
    "figdir = '/home/ctroupin/Projects/2-National/201606_GlidingTurtes/figures'\n",
    "sstdir = '/data_local/Satellite/MODIS/data/L2/GlidingTurtle'\n",
    "#gliderfile = ('http://thredds.socib.es/thredds/dodsC/auv/glider/'\n",
    "#              'sdeep01-scb_sldeep001/L1/2014/'\n",
    "#              'dep0017_sdeep01_scb-sldeep001_L1_2014-09-15_data_dt.nc')\n",
    "sstfilelist = sorted(glob.glob(os.path.join(sstdir, '*nc')))\n",
    "coastlinefile = './southMallorca.txt'\n",
    "coordinates = [0.5, 5, 38., 40.75]"
   ]
  },
  {
   "cell_type": "markdown",
   "metadata": {},
   "source": [
    "Extract coastlines from gshhs"
   ]
  },
  {
   "cell_type": "code",
   "execution_count": 8,
   "metadata": {
    "collapsed": true
   },
   "outputs": [],
   "source": [
    "loncoast, latcoast  = gshhs.get_coastline(xlim=[coordinates[0], coordinates[1]],\n",
    "                                          ylim=[coordinates[2], coordinates[3]],\n",
    "                                          res='h')"
   ]
  },
  {
   "cell_type": "code",
   "execution_count": null,
   "metadata": {
    "collapsed": true
   },
   "outputs": [],
   "source": []
  },
  {
   "cell_type": "code",
   "execution_count": 11,
   "metadata": {
    "collapsed": false
   },
   "outputs": [],
   "source": [
    "fname='my_coastline.npy'\n",
    "np.ma.vstack((loncoast, latcoast)).dump(coastlinefile)"
   ]
  },
  {
   "cell_type": "markdown",
   "metadata": {},
   "source": [
    "Prepare projection"
   ]
  },
  {
   "cell_type": "code",
   "execution_count": 12,
   "metadata": {
    "collapsed": false
   },
   "outputs": [],
   "source": [
    "m = Basemap(projection='merc', llcrnrlon=coordinates[0], llcrnrlat=coordinates[2],\n",
    "                urcrnrlon=coordinates[1], urcrnrlat=coordinates[3],\n",
    "                lat_ts=0.5 * (coordinates[2] + coordinates[3]), resolution='i')"
   ]
  },
  {
   "cell_type": "code",
   "execution_count": 13,
   "metadata": {
    "collapsed": true
   },
   "outputs": [],
   "source": [
    "def plot_field_map(m, lon, lat, field, coordinates, Nticks, figname, cmap, loncoast, latcoast):\n",
    "\n",
    "    lon, lat = m(lon, lat)\n",
    "    loncoast, latcoast = m(loncoast, latcoast)\n",
    "    \n",
    "    fig = plt.figure()\n",
    "    ax = plt.subplot(111)\n",
    "    m.ax = ax\n",
    "    divider = make_axes_locatable(ax)\n",
    "\n",
    "    cax = divider.append_axes(\"right\", size=\"5%\", pad=0.05)\n",
    "    pcm = m.pcolormesh(lon, lat, field, vmin=23, vmax=27, cmap=cmap)\n",
    "\n",
    "    #m.drawcoastlines(linewidth=.5, zorder=3)\n",
    "    m.plot(loncoast, latcoast, linewidth=.5, zorder=3)\n",
    "    m.fillcontinents(zorder=2)\n",
    "    m.drawmeridians(np.linspace(coordinates[0], coordinates[1], Nticks), labels=[False,False,False,True], zorder=1)\n",
    "    m.drawparallels(np.linspace(coordinates[2], coordinates[3], Nticks), labels=[True,False,False,False], zorder=1)\n",
    "\n",
    "    cbar = plt.colorbar(pcm, extend='both', cax=cax)\n",
    "    cbar.set_label('$^{\\circ}$C', rotation=0, ha='left')\n",
    "    # plt.show()\n",
    "    plt.savefig(figname)\n",
    "    plt.close()\n"
   ]
  },
  {
   "cell_type": "code",
   "execution_count": 14,
   "metadata": {
    "collapsed": false
   },
   "outputs": [
    {
     "name": "stdout",
     "output_type": "stream",
     "text": [
      "/data_local/Satellite/MODIS/data/L2/GlidingTurtle/A2016195131500.L2_LAC_SST.nc\n",
      "\n"
     ]
    }
   ],
   "source": [
    "for sstfiles in sstfilelist[0:1]:\n",
    "    print(sstfiles + '\\n')\n",
    "    \n",
    "    lon, lat, sst = load_sst_modis(sstfiles)\n",
    "    \n",
    "    figname = os.path.basename(sstfiles)[:-3].replace('.', '_')\n",
    "    figname = os.path.join(figdir, figname)\n",
    "    \n",
    "    plot_field_map(m, lon, lat, sst, coordinates, Nticks, figname, cmap, loncoast, latcoast)"
   ]
  },
  {
   "cell_type": "code",
   "execution_count": null,
   "metadata": {
    "collapsed": true
   },
   "outputs": [],
   "source": []
  },
  {
   "cell_type": "code",
   "execution_count": null,
   "metadata": {
    "collapsed": true
   },
   "outputs": [],
   "source": []
  },
  {
   "cell_type": "code",
   "execution_count": null,
   "metadata": {
    "collapsed": true
   },
   "outputs": [],
   "source": []
  }
 ],
 "metadata": {
  "kernelspec": {
   "display_name": "Python 2",
   "language": "python",
   "name": "python2"
  },
  "language_info": {
   "codemirror_mode": {
    "name": "ipython",
    "version": 2
   },
   "file_extension": ".py",
   "mimetype": "text/x-python",
   "name": "python",
   "nbconvert_exporter": "python",
   "pygments_lexer": "ipython2",
   "version": "2.7.5+"
  }
 },
 "nbformat": 4,
 "nbformat_minor": 0
}
