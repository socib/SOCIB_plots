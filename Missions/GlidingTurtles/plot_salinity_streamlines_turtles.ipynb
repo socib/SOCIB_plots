{
 "cells": [
  {
   "cell_type": "code",
   "execution_count": 1,
   "metadata": {
    "collapsed": true
   },
   "outputs": [],
   "source": [
    "#!/usr/bin/env python\n",
    "# -------------------------------------------------------------------------\n",
    "\n",
    "from matplotlib import colors\n",
    "import datetime\n",
    "import os\n",
    "from osgeo import gdal\n",
    "from alborex_functions import *\n",
    "%matplotlib inline"
   ]
  },
  {
   "cell_type": "code",
   "execution_count": 2,
   "metadata": {
    "collapsed": false
   },
   "outputs": [],
   "source": [
    "dd = datetime.datetime.now()\n",
    "figdate = str(dd.year) + str(dd.month) + str(dd.day)\n",
    "figtitle = dd.strftime(\"%d %B %Y\")\n",
    "timemin = (dd - datetime.datetime(1970,1,1)).total_seconds() - 15. * 86400"
   ]
  },
  {
   "cell_type": "markdown",
   "metadata": {},
   "source": [
    "# Files and directories"
   ]
  },
  {
   "cell_type": "code",
   "execution_count": 3,
   "metadata": {
    "collapsed": true
   },
   "outputs": [],
   "source": [
    "figname = \"Turtle_salinity_current2_\" + figdate\n",
    "visiblefile = \"/data_local/Satellite/Visible/nasa-worldview-2016-10-16.tiff\"\n",
    "romsfile = \"http://thredds.socib.es/thredds/dodsC/operational_models/oceanographical/hydrodynamics/wmop/latest.nc\"\n",
    "turtledir = \"http://thredds.priv.socib.es/thredds/dodsC/animal/turtle/\"\n",
    "turtlelist = ['turtle_earl-scb_splash005/L1/2016/07/dep0001_turtle-earl_scb-splash005_L1_2016-07-26.nc',\n",
    "              'turtle_eddy-scb_splash003/L1/2016/07/dep0001_turtle-eddy_scb-splash003_L1_2016-07-13.nc',\n",
    "              'turtle_chloe-scb_splash002/L1/2016/07/dep0001_turtle-chloe_scb-splash002_L1_2016-07-20.nc',\n",
    "              'turtle_pixel-scb_splash001/L1/2016/06/dep0001_turtle-pixel_scb-splash001_L1_2016-06-22.nc']\n",
    "turtlelogo = \"/home/ctroupin/Presentations/figures4presentations/logo/turtle.png\"\n",
    "figdir = '/home/ctroupin/Pictures/SOCIB/'"
   ]
  },
  {
   "cell_type": "markdown",
   "metadata": {},
   "source": [
    "# Configuration and options"
   ]
  },
  {
   "cell_type": "code",
   "execution_count": 14,
   "metadata": {
    "collapsed": true
   },
   "outputs": [],
   "source": [
    "projection = False\n",
    "\n",
    "# Regions of interest and box for the experiment\n",
    "dlon, dlat = 2.0, 1.0\n",
    "coordinates = (-6.0, 9.2001, 35, 44)\n",
    "res = 'i'\n",
    "valex = -999.\n",
    "\n",
    "variable1 = 'sea_surface_temperature'\n",
    "variable2 = 'sea_surface_salinity'\n",
    "cmap = plt.cm.RdYlBu_r\n",
    "\n",
    "vmin, vmax, dvar = 36.5, 38.5, 0.5\n",
    "normpsal = colors.Normalize(vmin=vmin, vmax=vmax)\n",
    "normvel = colors.Normalize(vmin=0.0, vmax=0.5)\n",
    "bounds = np.arange(vmin, vmax + .0001, dvar)\n",
    "\n",
    "# Compute min and max values \n",
    "sstmin, sstmax = 16., 21.\n",
    "normsst = colors.Normalize(vmin=sstmin, vmax=sstmax)\n",
    "boundsst = np.arange(sstmin, sstmax + .001, 1.0)\n",
    "\n",
    "if projection:\n",
    "    fig, m, ax = prepare_map(coordinates, res)\n",
    "    plt.close()"
   ]
  },
  {
   "cell_type": "markdown",
   "metadata": {},
   "source": [
    "# Load data "
   ]
  },
  {
   "cell_type": "code",
   "execution_count": 10,
   "metadata": {
    "collapsed": false
   },
   "outputs": [],
   "source": [
    "def get_turtle_coords(turtlefile, timemin):\n",
    "    with netcdf.Dataset(turtlefile) as nc:\n",
    "        timeturtle = nc.variables['time'][:]\n",
    "        goodtime = np.where(timeturtle > timemin)[0]\n",
    "        lonturtleQC = nc.variables['QC_LON'][goodtime]\n",
    "        latturtleQC = nc.variables['QC_LAT'][goodtime]\n",
    "        goodcoord = np.where( (lonturtleQC == 1 ) & (latturtleQC == 1))[0]\n",
    "        lonturtle = nc.variables['LON'][goodtime][goodcoord]\n",
    "        latturtle = nc.variables['LAT'][goodtime][goodcoord]\n",
    "    return lonturtle, latturtle"
   ]
  },
  {
   "cell_type": "markdown",
   "metadata": {},
   "source": [
    "## Read visible image"
   ]
  },
  {
   "cell_type": "code",
   "execution_count": 11,
   "metadata": {
    "collapsed": true
   },
   "outputs": [],
   "source": [
    "gtif = gdal.Open(visiblefile)\n",
    "gtif.GetProjectionRef()\n",
    "\n",
    "#Set the plot axis limits to the proper map coordinates.\n",
    "arr = gtif.ReadAsArray()\n",
    "trans = gtif.GetGeoTransform()\n",
    "extent = (trans[0], trans[0] + gtif.RasterXSize*trans[1],\n",
    "          trans[3] + gtif.RasterYSize*trans[5], trans[3])"
   ]
  },
  {
   "cell_type": "code",
   "execution_count": 12,
   "metadata": {
    "collapsed": false
   },
   "outputs": [],
   "source": [
    "# Load model salinity and temperature\n",
    "with netcdf.Dataset(romsfile) as nc:\n",
    "    latts = nc.variables['lat_rho'][:]\n",
    "    lonts = nc.variables['lon_rho'][:]\n",
    "    goodlat = np.where( (latts >= coordinates[2]) & (latts <= coordinates[3]))[0]\n",
    "    goodlon = np.where( (lonts >= coordinates[0]) & (lonts <= coordinates[1]))[0]\n",
    "    salinity = np.mean(nc.variables['salt'][:, goodlat, goodlon], axis=0)\n",
    "    temperature = np.mean(nc.variables['temp'][:, goodlat, goodlon], axis=0)\n",
    "    latts = latts[goodlat]\n",
    "    lonts = lonts[goodlon]\n",
    "    latuv = nc.variables['lat_uv'][:]\n",
    "    lonuv = nc.variables['lon_uv'][:]\n",
    "    goodlat = np.where( (latuv >= coordinates[2]) & (latuv <= coordinates[3]))[0]\n",
    "    goodlon = np.where( (lonuv >= coordinates[0]) & (lonuv <= coordinates[1]))[0]\n",
    "    u = np.mean(nc.variables['u'][:, goodlat, goodlon], axis=0)\n",
    "    v = np.mean(nc.variables['v'][:, goodlat, goodlon], axis=0)\n",
    "    latuv = latuv[goodlat]\n",
    "    lonuv = lonuv[goodlon]\n",
    "if projection:\n",
    "    lonts, latts = np.meshgrid(lonts, latts)\n",
    "    lonuv, latuv = np.meshgrid(lonuv, latuv)\n",
    "    lonts, latts = m(lonts, latts)\n",
    "    lonuv, latuv = m(lonuv, latuv)"
   ]
  },
  {
   "cell_type": "markdown",
   "metadata": {},
   "source": [
    "# Make the plot"
   ]
  },
  {
   "cell_type": "code",
   "execution_count": 15,
   "metadata": {
    "collapsed": false
   },
   "outputs": [],
   "source": [
    "#fig, m, ax = prepare_map(coordinates, res)\n",
    "\n",
    "fig = plt.figure()\n",
    "\n",
    "# Load turtle data\n",
    "for turtle in turtlelist[1:]:\n",
    "    turtlefile = turtledir + turtle\n",
    "    lonturtle, latturtle = get_turtle_coords(turtlefile, timemin)\n",
    "    \n",
    "    if projection:\n",
    "        lonturtle, latturtle = m(lonturtle, latturtle)\n",
    "\n",
    "    plt.plot(lonturtle, latturtle, 'ko-', zorder=5, markersize=0.2, linewidth=0.5)\n",
    "    plt.plot(lonturtle[-1], latturtle[-1], 'wo-', zorder=5, markersize=3, linewidth=0.5)\n",
    "\n",
    "N = 5\n",
    "speed = np.sqrt(u * u + v * v)\n",
    "speed = np.ma.masked_greater(speed, 1.5)\n",
    "\n",
    "plt.streamplot(lonuv, latuv, u, v, color=speed,\n",
    "                arrowsize=1.5, norm=normvel,cmap=plt.cm.gray_r,\n",
    "                density=10, linewidth=.25, zorder=5)\n",
    "\n",
    "pcm = plt.pcolormesh(lonts, latts, salinity, norm=normpsal, cmap=cmap, zorder=4)\n",
    "\n",
    "'''\n",
    "cbar = plt.colorbar(pcm, cmap=cmap, orientation='vertical', pad=0.05, aspect=15,\n",
    "                        shrink=0.75, extend='both')\n",
    "cbar.set_ticks(bounds)\n",
    "'''\n",
    "# x and y ticks (no line plotted for better visibility)\n",
    "'''\n",
    "m.drawparallels(np.arange(round(coordinates[2]), coordinates[3], dlat), linewidth=0.,\n",
    "               labels=[1, 0, 0, 0], fontname='Times New Roman', fontsize=16, zorder=1)\n",
    "m.drawmeridians(np.arange(round(coordinates[0]), coordinates[1], dlon), linewidth=0.,\n",
    "                labels=[0, 0, 0, 1], fontname='Times New Roman', fontsize=16, zorder=1)\n",
    "'''\n",
    "# m.drawmapscale(-0.45, 35.1, -0.25, 35.1, 100, barstyle='simple', units='km', fontsize=12, zorder=3)\n",
    "\n",
    "plt.imshow(arr[:3,:,:].transpose((1, 2, 0)), extent=extent, zorder=3, alpha=1)\n",
    "\n",
    "# Coastline and continent\n",
    "#m.fillcontinents(ax=ax, color='0.9', zorder=2)\n",
    "#m.drawcoastlines(ax=ax, linewidth=0.1, color='k', zorder=4)\n",
    "# plt.title(figtitle, fontsize=20)\n",
    "\n",
    "plt.xlim(coordinates[0], coordinates[1])\n",
    "plt.ylim(coordinates[2], coordinates[3])\n",
    "plt.axis('off')\n",
    "plt.savefig(os.path.join(figdir, figname + 'c'), dpi=300, facecolor='w', edgecolor='w',\n",
    "            transparent=False, bbox_inches='tight', pad_inches=0.1)\n",
    "\n",
    "# plt.show()\n",
    "plt.close()"
   ]
  }
 ],
 "metadata": {
  "kernelspec": {
   "display_name": "Python 2",
   "language": "python",
   "name": "python2"
  },
  "language_info": {
   "codemirror_mode": {
    "name": "ipython",
    "version": 2
   },
   "file_extension": ".py",
   "mimetype": "text/x-python",
   "name": "python",
   "nbconvert_exporter": "python",
   "pygments_lexer": "ipython2",
   "version": "2.7.5+"
  }
 },
 "nbformat": 4,
 "nbformat_minor": 0
}
