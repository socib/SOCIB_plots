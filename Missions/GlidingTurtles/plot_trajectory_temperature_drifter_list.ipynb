{
 "cells": [
  {
   "cell_type": "code",
   "execution_count": 33,
   "metadata": {
    "collapsed": false
   },
   "outputs": [],
   "source": [
    "import numpy as np\n",
    "import cf\n",
    "import os\n",
    "import netCDF4\n",
    "from mpl_toolkits.basemap import Basemap\n",
    "import matplotlib.pyplot as plt\n",
    "from matplotlib import colors\n",
    "from matplotlib import dates\n",
    "from mpl_toolkits.axes_grid1 import make_axes_locatable\n",
    "%matplotlib inline\n",
    "plt.style.use('/home/ctroupin/.config/matplotlib/stylelib/darkocean.mplstyle')"
   ]
  },
  {
   "cell_type": "code",
   "execution_count": 34,
   "metadata": {
    "collapsed": true
   },
   "outputs": [],
   "source": [
    "figdir = \"/home/ctroupin/Pictures/SOCIB/\"\n",
    "basedir = \"http://thredds.socib.es/thredds/dodsC/drifter/surface_drifter/\"\n",
    "drifterlist = [\"drifter_odi023-scb_odi012/L1/2016/dep0002_drifter-odi023_scb-odi012_L1_2016-07-13.nc\", \n",
    "               \"drifter_odi024-scb_odi013/L1/2016/dep0002_drifter-odi024_scb-odi013_L1_2016-07-13.nc\",\n",
    "               \"drifter_odi025-scb_odi014/L1/2016/dep0001_drifter-odi025_scb-odi014_L1_2016-07-13.nc\"\n",
    "              ]\n",
    "drifterlist = [basedir + s for s in drifterlist]"
   ]
  },
  {
   "cell_type": "code",
   "execution_count": 35,
   "metadata": {
    "collapsed": true
   },
   "outputs": [],
   "source": [
    "cmap = plt.cm.RdYlBu_r\n",
    "Nlon, Nlat = 5, 5"
   ]
  },
  {
   "cell_type": "code",
   "execution_count": 42,
   "metadata": {
    "collapsed": false
   },
   "outputs": [],
   "source": [
    "coordinates = [2.6, 2.76, 39.23, 39.4]\n",
    "# coordinates = [np.floor(lon.min()), np.ceil(lon.max()), np.floor(lat.min()), np.ceil(lat.max())]\n",
    "m = Basemap(projection='merc', llcrnrlon=coordinates[0], llcrnrlat=coordinates[2], urcrnrlon=coordinates[1],\n",
    "            urcrnrlat=coordinates[3], lat_ts=0.5*(coordinates[2]+coordinates[3]), resolution='i')"
   ]
  },
  {
   "cell_type": "markdown",
   "metadata": {},
   "source": [
    "Load all the data first, then make the plot.<br>\n",
    "To avoid the drifters to be mixed, we put a NaN before the \"append\".<br>\n",
    "Later: compute the coordinates of the region from the drifter positions."
   ]
  },
  {
   "cell_type": "code",
   "execution_count": 44,
   "metadata": {
    "collapsed": false
   },
   "outputs": [
    {
     "data": {
      "image/png": "[encoded data removed]",
      "text/plain": [
       "<matplotlib.figure.Figure at 0x7281890>"
      ]
     },
     "metadata": {},
     "output_type": "display_data"
    }
   ],
   "source": [
    "lon_all = np.array([])\n",
    "lat_all = np.array([])\n",
    "time_all = np.array([])\n",
    "temperature_all = np.array([])\n",
    "\n",
    "for datafile in drifterlist:\n",
    "    lon, lat, time, temperature = ReadDrifterData(datafile)\n",
    "    lon_all = np.append(lon_all, lon)\n",
    "    lat_all = np.append(lat_all, lat)\n",
    "    lon_all = np.append(lon_all, np.nan)\n",
    "    lat_all = np.append(lat_all, np.nan)\n",
    "    temperature_all = np.append(temperature_all, temperature)\n",
    "    temperature_all = np.append(temperature_all, np.nan)\n",
    "    \n",
    "figname = os.path.join(figdir, 'GlidingTurtles_TemperatureDrifters')\n",
    "PlotTemperatureDrifter(lon_all, lat_all, temperature_all, m, figname)\n"
   ]
  },
  {
   "cell_type": "code",
   "execution_count": 6,
   "metadata": {
    "collapsed": true
   },
   "outputs": [],
   "source": [
    "def ReadDrifterData(datafile):\n",
    "    f = cf.read(datafile)\n",
    "    temperature = f.select('sea_water_temperature')\n",
    "    lon = temperature[0].coord('lon').array\n",
    "    lat = temperature[0].coord('lat').array\n",
    "    time = temperature[0].coord('time').array\n",
    "    temperatureQC = temperature[0].ancillary_variables[0].array\n",
    "    temperature = temperature[0].array\n",
    "    cf.close_files()\n",
    "\n",
    "    temperature = np.ma.masked_where(temperatureQC != 1, temperature)\n",
    "    return lon, lat, time, temperature"
   ]
  },
  {
   "cell_type": "code",
   "execution_count": 38,
   "metadata": {
    "collapsed": false
   },
   "outputs": [],
   "source": [
    "def PlotTemperatureDrifter(lon, lat, temperature, m, figname):\n",
    "    \n",
    "    lon, lat = m(lon, lat)\n",
    "    fig = plt.figure(figsize=(15, 6))\n",
    "    \n",
    "    fmin, fmax = np.ceil(np.nanmin(temperature_all)), np.floor(np.nanmax(temperature_all))\n",
    "    norm = colors.Normalize(vmin=fmin, vmax=fmax)\n",
    "    bounds = np.linspace(fmin, fmax, 6)\n",
    "\n",
    "    ax = fig.add_subplot(111)\n",
    "    scat = m.scatter(lon, lat, s=7, c=temperature, edgecolor='None', cmap=cmap, norm=norm)\n",
    "    m.drawcoastlines(linewidth=0.3, color=\"0.7\", zorder=3)\n",
    "    m.drawcountries(linewidth=0.2, color=\"0.7\", zorder=3)\n",
    "\n",
    "    m.fillcontinents(color=\"0.3\", zorder=2)\n",
    "    m.drawparallels(np.linspace(coordinates[2], coordinates[3], Nlat), linewidth=0.,\n",
    "                    labels=[1, 0, 0, 0], fontname='Times New Roman', zorder=1)\n",
    "    m.drawmeridians(np.linspace(coordinates[0], coordinates[1], Nlon), linewidth=0.,\n",
    "                    labels=[0, 0, 1, 0], fontname='Times New Roman', zorder=1)\n",
    "    \n",
    "    divider = make_axes_locatable(plt.gca())\n",
    "    cax = divider.append_axes(\"right\", \"5%\", pad=\"3%\")\n",
    "\n",
    "    cbar = plt.colorbar(scat, cax=cax, extend='both', cmap=cmap, norm=norm, orientation='vertical')\n",
    "    cbar.set_ticks(bounds)\n",
    "    cbar.set_label('$^{\\circ}$C', rotation=0, ha='left')\n",
    "\n",
    "    plt.savefig(figname, dpi=300, facecolor=fig.get_facecolor(), edgecolor='none')\n",
    "    plt.show()\n",
    "    plt.close()"
   ]
  }
 ],
 "metadata": {
  "kernelspec": {
   "display_name": "Python 2",
   "language": "python",
   "name": "python2"
  },
  "language_info": {
   "codemirror_mode": {
    "name": "ipython",
    "version": 2
   },
   "file_extension": ".py",
   "mimetype": "text/x-python",
   "name": "python",
   "nbconvert_exporter": "python",
   "pygments_lexer": "ipython2",
   "version": "2.7.5+"
  }
 },
 "nbformat": 4,
 "nbformat_minor": 0
}
