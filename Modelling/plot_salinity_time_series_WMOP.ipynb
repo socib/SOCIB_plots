{
 "cells": [
  {
   "cell_type": "markdown",
   "metadata": {},
   "source": [
    "Plot a time series of a given variable obtained from the WMOP model."
   ]
  },
  {
   "cell_type": "code",
   "execution_count": 250,
   "metadata": {
    "collapsed": true
   },
   "outputs": [],
   "source": [
    "import netCDF4\n",
    "import numpy as np\n",
    "import matplotlib.pyplot as plt\n",
    "import logging\n",
    "import datetime\n",
    "import os\n",
    "from geopy.distance import vincenty\n",
    "from calendar import monthrange\n",
    "from scipy import interpolate\n",
    "from matplotlib import rcParams\n",
    "from matplotlib import dates\n",
    "import time\n",
    "%matplotlib inline"
   ]
  },
  {
   "cell_type": "code",
   "execution_count": 259,
   "metadata": {
    "collapsed": true
   },
   "outputs": [],
   "source": [
    "rcParams.update({'font.size': 20})\n",
    "monthloc = dates.MonthLocator()  # every month\n",
    "dayloc = dates.DayLocator(interval=6)\n",
    "dayfmt = dates.DateFormatter('%d %B')"
   ]
  },
  {
   "cell_type": "markdown",
   "metadata": {},
   "source": [
    "# Logging "
   ]
  },
  {
   "cell_type": "code",
   "execution_count": 231,
   "metadata": {
    "collapsed": true
   },
   "outputs": [],
   "source": [
    "def configure_logging():\n",
    "    logger = logging.getLogger(\"timeseries_logger\")\n",
    "    logger.setLevel(logging.WARNING)\n",
    "    # Format for our loglines\n",
    "    formatter = logging.Formatter(\"%(asctime)s - %(name)s - %(levelname)s - %(message)s\")\n",
    "    # Setup console logging\n",
    "    ch = logging.StreamHandler()\n",
    "    ch.setLevel(logging.DEBUG)\n",
    "    ch.setFormatter(formatter)\n",
    "    logger.addHandler(ch)\n",
    "    # Setup file logging as well\n",
    "    fh = logging.FileHandler('/home/ctroupin/logs/WMOP_timeseriesplot.log')\n",
    "    fh.setLevel(logging.DEBUG)\n",
    "    fh.setFormatter(formatter)\n",
    "    logger.addHandler(fh)\n",
    "    return logger"
   ]
  },
  {
   "cell_type": "markdown",
   "metadata": {},
   "source": [
    "# Input parameters"
   ]
  },
  {
   "cell_type": "code",
   "execution_count": 310,
   "metadata": {
    "collapsed": true
   },
   "outputs": [],
   "source": [
    "yearlist = [2014, 2015, 2016]\n",
    "monthlist = [10, 11]\n",
    "loninterp, latinterp = 0.783667, 38.82445\n",
    "variable = 'sea_surface_temperature'"
   ]
  },
  {
   "cell_type": "markdown",
   "metadata": {},
   "source": [
    "# Functions"
   ]
  },
  {
   "cell_type": "markdown",
   "metadata": {},
   "source": [
    "We create a function to extract the time series of a given parameter for the year and month of interest "
   ]
  },
  {
   "cell_type": "code",
   "execution_count": 311,
   "metadata": {
    "collapsed": true
   },
   "outputs": [],
   "source": [
    "logger = configure_logging()"
   ]
  },
  {
   "cell_type": "code",
   "execution_count": 312,
   "metadata": {
    "collapsed": true
   },
   "outputs": [],
   "source": [
    "def get_index_neighbour(coordinates, lon, lat):\n",
    "    '''\n",
    "    Get the indices of the coordinates corresponding to the closest points around the point of interest\n",
    "    imin is the index of the closest longitude grid point smaller than the point of interest\n",
    "    jmin is the index of the closest latitude grid point smaller than the point of interest\n",
    "    \n",
    "    (imin, jmin+1)______________(imin+1, jmin+1)\n",
    "    |                                  |\n",
    "    |                      x           |\n",
    "    |                                  |\n",
    "    |__________________________________|\n",
    "    (imin, jmin)                (imin+1, jmin) \n",
    "    '''\n",
    "    deltalon = abs(lon - coordinates[0])\n",
    "    deltalat = abs(lat - coordinates[1])\n",
    "\n",
    "    imin = np.argmin(deltalon)\n",
    "    jmin = np.argmin(deltalat)\n",
    "\n",
    "    if lon[imin] - coordinates[0] > 0.:   # closest grid point on the right of the point of interest\n",
    "        imin -= 1\n",
    "\n",
    "    if lat[jmin] - coordinates[1] > 0.:   # closest grid point on the above of the point of interest\n",
    "        jmin -= 1\n",
    "    return imin, jmin"
   ]
  },
  {
   "cell_type": "code",
   "execution_count": 313,
   "metadata": {
    "collapsed": true
   },
   "outputs": [],
   "source": [
    "def get_coefficients(coordinates, lon, lat, imin, jmin):\n",
    "    '''Get the coefficient to perform an inverse distance interpolation \n",
    "       using the four closest points.\n",
    "       The order of the coefficients is shown on the schema.\n",
    "       \n",
    "       (1)_______(2)\n",
    "       |          |\n",
    "       |       x  |\n",
    "       |          |\n",
    "       |__________|\n",
    "       (0)       (3) \n",
    "    '''\n",
    "    dist = np.array((vincenty(coordinates, (lon[imin], lat[jmin])).kilometers,\n",
    "                     vincenty(coordinates, (lon[imin], lat[jmin+1])).kilometers,\n",
    "                     vincenty(coordinates, (lon[imin+1], lat[jmin+1])).kilometers,\n",
    "                     vincenty(coordinates, (lon[imin+1], lat[jmin])).kilometers))\n",
    "    \n",
    "    if any(dist==0):\n",
    "        invdist = np.zeros(4)\n",
    "        invdist[dist==0] = 1.\n",
    "    else:\n",
    "        invdist = 1. / dist\n",
    "    \n",
    "    return invdist / invdist.sum()"
   ]
  },
  {
   "cell_type": "code",
   "execution_count": 314,
   "metadata": {
    "collapsed": false
   },
   "outputs": [],
   "source": [
    "def get_variable_WMOP(variable, lon, lat, year, month):\n",
    "    '''\n",
    "    Extract a time series for the selected variable \n",
    "    at the location specified by lon, lat \n",
    "    for the period specified year and month.\n",
    "    The function returns two arrays, one contains the dates, \n",
    "    the other stores the time series\n",
    "    '''\n",
    "\n",
    "    # Create empty arrays\n",
    "    WMOPdate = np.array([])\n",
    "    WMOPvariable = np.array([])\n",
    "\n",
    "    # Convert integers to strings for the data\n",
    "    yyyy = str(year).zfill(4)\n",
    "    mm = str(month).zfill(2)\n",
    "\n",
    "    # Generate thredds directory name\n",
    "    threddsdir = (\"http://thredds.socib.es/thredds/dodsC/operational_models/oceanographical/\"\n",
    "                  \"hydrodynamics/wmop/{0}/{1}/\".format(yyyy, mm))\n",
    "\n",
    "    # Get number of days for that month and year combination\n",
    "    numdays = monthrange(year, month)[-1]\n",
    "\n",
    "    # Loop on the days\n",
    "    \n",
    "    if (year == datetime.datetime.today().year) & (month == datetime.datetime.today().month):\n",
    "        daymax = min(datetime.datetime.today().day, numdays + 1)\n",
    "    else:\n",
    "        daymax = numdays + 1\n",
    "        \n",
    "    for days in range(1, daymax):\n",
    "        \n",
    "        print days\n",
    "        \n",
    "        # Create file name\n",
    "        dd = str(days).zfill(2)\n",
    "        wmopfile = \"roms_wmop_{0}{1}{2}.nc\".format(yyyy, mm, dd)\n",
    "        \n",
    "        \n",
    "        logger.info(\"Working on {0}\".format(wmopfile))\n",
    "\n",
    "        # Get the interpolation coefficients only for the 1st step\n",
    "        if days == 1:\n",
    "            try:\n",
    "                with netCDF4.Dataset(os.path.join(threddsdir, wmopfile)) as nc:\n",
    "                    # Load lon and lat\n",
    "                    lon_variable = nc.get_variables_by_attributes(standard_name='longitude')\n",
    "                    lon_values = lon_variable[0][:]\n",
    "                    lat_variable = nc.get_variables_by_attributes(standard_name='latitude')\n",
    "                    lat_values = lat_variable[0][:]\n",
    "\n",
    "                    # Get coefficients \n",
    "                    i, j = get_index_neighbour((loninterp, latinterp), lon_values, lat_values)\n",
    "                    invdist = get_coefficients((loninterp, latinterp), lon_values, lat_values, i, j)\n",
    "            except IOError:\n",
    "                \n",
    "                logger.error('File does not exist')\n",
    "\n",
    "        try:\n",
    "            with netCDF4.Dataset(os.path.join(threddsdir, wmopfile)) as nc:\n",
    "                time_variable = nc.variables['ocean_time']\n",
    "                time_converted = netCDF4.num2date(time_variable[:8], time_variable.units)\n",
    "\n",
    "                field_variable = nc.get_variables_by_attributes(standard_name=variable)\n",
    "                field_values = field_variable[0][:8, j:j+2, i:i+2]\n",
    "                field_units = variable_name[0].units\n",
    "            \n",
    "            field_interp = invdist[0] * field_values[:, 0, 0] + invdist[1] * field_values[:, 1, 0] + \\\n",
    "                       invdist[2] * field_values[:, 1, 1] + invdist[3] * field_values[:, 0, 1]\n",
    "            logger.debug(field_interp.shape)\n",
    "\n",
    "            WMOPdate = np.concatenate((WMOPdate, time_converted), axis=0)\n",
    "            WMOPvariable = np.concatenate((WMOPvariable, field_interp), axis=0)\n",
    "        \n",
    "        except IOError:\n",
    "            logger.error('File does not exist')\n",
    "            \n",
    "    return WMOPdate, WMOPvariable"
   ]
  },
  {
   "cell_type": "code",
   "execution_count": 315,
   "metadata": {
    "collapsed": false
   },
   "outputs": [
    {
     "name": "stdout",
     "output_type": "stream",
     "text": [
      "1\n",
      "2\n",
      "3\n",
      "4\n",
      "5\n",
      "6\n",
      "7\n",
      "8\n",
      "9\n",
      "10\n",
      "11\n",
      "12\n",
      "13\n",
      "14\n",
      "15\n",
      "16\n",
      "17\n",
      "18\n",
      "19\n",
      "20\n",
      "21\n",
      "22\n",
      "23\n",
      "24\n",
      "25\n",
      "26\n",
      "27\n",
      "28\n",
      "29\n",
      "30\n",
      "31\n",
      "1\n",
      "2\n",
      "3\n",
      "4\n",
      "5\n",
      "6\n",
      "7\n",
      "8\n",
      "9\n",
      "10\n",
      "11\n",
      "12\n",
      "13\n",
      "14\n",
      "15\n",
      "16\n",
      "17\n",
      "18\n",
      "19\n",
      "20\n",
      "21\n",
      "22\n",
      "23\n",
      "24\n",
      "25\n",
      "26\n",
      "27\n",
      "28\n",
      "29\n",
      "30\n",
      "1\n",
      "2\n",
      "3\n",
      "4\n",
      "5\n",
      "6\n",
      "7\n",
      "8\n",
      "9\n",
      "10\n",
      "11\n",
      "12\n",
      "13\n",
      "14\n",
      "15\n",
      "16\n",
      "17\n",
      "18\n",
      "19\n",
      "20\n",
      "21\n",
      "22\n",
      "23\n",
      "24\n",
      "25\n",
      "26\n",
      "27\n",
      "28\n",
      "29\n",
      "30\n",
      "31\n",
      "1\n",
      "2\n",
      "3\n",
      "4\n",
      "5\n",
      "6\n",
      "7\n",
      "8\n",
      "9\n",
      "10\n",
      "11\n",
      "12\n",
      "13\n",
      "14\n",
      "15\n",
      "16\n",
      "17\n",
      "18\n",
      "19\n",
      "20\n",
      "21\n",
      "22\n",
      "23\n",
      "24\n",
      "25\n",
      "26\n",
      "27\n",
      "28\n",
      "29\n",
      "30\n",
      "1\n",
      "2\n",
      "3\n",
      "4\n",
      "5\n",
      "6\n",
      "7\n",
      "8\n",
      "9\n",
      "10\n",
      "11\n",
      "12\n",
      "13\n",
      "14\n",
      "15\n",
      "16\n",
      "17\n",
      "18\n",
      "19\n",
      "20\n",
      "21\n",
      "22\n",
      "23\n",
      "24\n",
      "25\n",
      "26\n",
      "27\n",
      "28\n",
      "29"
     ]
    },
    {
     "name": "stderr",
     "output_type": "stream",
     "text": [
      "2016-11-08 16:33:14,277 - timeseries_logger - ERROR - File does not exist\n",
      "2016-11-08 16:33:14,277 - timeseries_logger - ERROR - File does not exist\n",
      "2016-11-08 16:33:14,277 - timeseries_logger - ERROR - File does not exist\n",
      "2016-11-08 16:33:14,277 - timeseries_logger - ERROR - File does not exist\n",
      "2016-11-08 16:33:14,277 - timeseries_logger - ERROR - File does not exist\n",
      "2016-11-08 16:33:14,277 - timeseries_logger - ERROR - File does not exist\n",
      "ERROR:timeseries_logger:File does not exist\n"
     ]
    },
    {
     "name": "stdout",
     "output_type": "stream",
     "text": [
      "\n",
      "30\n",
      "31\n",
      "1\n",
      "2\n",
      "3\n",
      "4\n",
      "5\n",
      "6\n",
      "7\n"
     ]
    },
    {
     "data": {
      "image/png": "[encoded data removed]",
      "text/plain": [
       "<matplotlib.figure.Figure at 0x37174910>"
      ]
     },
     "metadata": {},
     "output_type": "display_data"
    }
   ],
   "source": [
    "fig = plt.figure(figsize=(12, 8))\n",
    "ax = fig.add_subplot(111)\n",
    "\n",
    "for year in yearlist:\n",
    "    \n",
    "    WMOPdate_all, WMOPvariable_all = np.array([]), np.array([])\n",
    "    \n",
    "    for month in monthlist:\n",
    "        \n",
    "        WMOPdate, WMOPvariable = get_variable_WMOP(variable, loninterp, latinterp, year, month)\n",
    "        WMOPdate_all = np.concatenate((WMOPdate_all, WMOPdate), axis=0)\n",
    "        WMOPvariable_all = np.concatenate((WMOPvariable_all, WMOPvariable), axis=0)\n",
    "        \n",
    "    # Modify the year to overlay plots\n",
    "    for ii in range(0, len(WMOPdate_all)):\n",
    "        WMOPdate_all[ii] = WMOPdate_all[ii].replace(year=yearlist[0])\n",
    "        \n",
    "    plt.plot(WMOPdate_all, WMOPvariable_all, label=str(year))\n",
    "\n",
    "plt.legend()\n",
    "plt.ylabel('$^{\\circ}C$', rotation=0, ha='right')\n",
    "ax.xaxis.set_major_locator(dayloc)\n",
    "ax.xaxis.set_major_formatter(dayfmt)\n",
    "fig.autofmt_xdate()\n",
    "plt.show()"
   ]
  },
  {
   "cell_type": "code",
   "execution_count": 316,
   "metadata": {
    "collapsed": false
   },
   "outputs": [
    {
     "data": {
      "text/plain": [
       "11"
      ]
     },
     "execution_count": 316,
     "metadata": {},
     "output_type": "execute_result"
    }
   ],
   "source": [
    "month"
   ]
  },
  {
   "cell_type": "code",
   "execution_count": 317,
   "metadata": {
    "collapsed": false
   },
   "outputs": [
    {
     "data": {
      "text/plain": [
       "2016"
      ]
     },
     "execution_count": 317,
     "metadata": {},
     "output_type": "execute_result"
    }
   ],
   "source": [
    "year"
   ]
  },
  {
   "cell_type": "code",
   "execution_count": null,
   "metadata": {
    "collapsed": true
   },
   "outputs": [],
   "source": []
  },
  {
   "cell_type": "code",
   "execution_count": null,
   "metadata": {
    "collapsed": true
   },
   "outputs": [],
   "source": []
  }
 ],
 "metadata": {
  "kernelspec": {
   "display_name": "Python 2",
   "language": "python",
   "name": "python2"
  },
  "language_info": {
   "codemirror_mode": {
    "name": "ipython",
    "version": 2
   },
   "file_extension": ".py",
   "mimetype": "text/x-python",
   "name": "python",
   "nbconvert_exporter": "python",
   "pygments_lexer": "ipython2",
   "version": "2.7.5+"
  }
 },
 "nbformat": 4,
 "nbformat_minor": 0
}
