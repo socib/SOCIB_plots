{
 "cells": [
  {
   "cell_type": "markdown",
   "metadata": {},
   "source": [
    "Import modules"
   ]
  },
  {
   "cell_type": "code",
   "execution_count": 39,
   "metadata": {
    "collapsed": true
   },
   "outputs": [],
   "source": [
    "import numpy as np\n",
    "import matplotlib.pyplot as plt\n",
    "%matplotlib inline"
   ]
  },
  {
   "cell_type": "code",
   "execution_count": 98,
   "metadata": {
    "collapsed": true
   },
   "outputs": [],
   "source": [
    "indexfile = \"/home/ctroupin/DataOceano/CMEMS/IndexFiles/NorthWestShelves/index_latest.txt\""
   ]
  },
  {
   "cell_type": "markdown",
   "metadata": {},
   "source": [
    "Read the index file"
   ]
  },
  {
   "cell_type": "code",
   "execution_count": 99,
   "metadata": {
    "collapsed": true
   },
   "outputs": [],
   "source": [
    "def read_index_file_box(indexfile):\n",
    "    dataindex = np.genfromtxt(indexfile, skip_header=6, unpack=True, delimiter=',', dtype=None, \\\n",
    "              names=['catalog_id', 'file_name', 'geospatial_lat_min', 'geospatial_lat_max',\n",
    "                     'geospatial_lon_min', 'geospatial_lon_max',\n",
    "                     'time_coverage_start', 'time_coverage_end', \n",
    "                     'provider', 'date_update', 'data_mode', 'parameters'])\n",
    "    lon_min = dataindex['geospatial_lon_min']\n",
    "    lon_max = dataindex['geospatial_lon_max']\n",
    "    lat_min = dataindex['geospatial_lat_min']\n",
    "    lat_max = dataindex['geospatial_lat_max']\n",
    "    return lon_min, lon_max, lat_min, lat_max"
   ]
  },
  {
   "cell_type": "code",
   "execution_count": 100,
   "metadata": {
    "collapsed": true
   },
   "outputs": [],
   "source": [
    "lon_min, lon_max, lat_min, lat_max = read_index_file_box(indexfile)"
   ]
  },
  {
   "cell_type": "code",
   "execution_count": 101,
   "metadata": {
    "collapsed": false
   },
   "outputs": [
    {
     "name": "stdout",
     "output_type": "stream",
     "text": [
      "31.104015\n"
     ]
    }
   ],
   "source": [
    "print lon_max.max()"
   ]
  },
  {
   "cell_type": "markdown",
   "metadata": {},
   "source": [
    "Generate grid based on resolution"
   ]
  },
  {
   "cell_type": "code",
   "execution_count": 102,
   "metadata": {
    "collapsed": true
   },
   "outputs": [],
   "source": [
    "resolution = 0.5\n",
    "lon_grid = np.array([np.arange(-180., 180., resolution)],)\n",
    "lat_grid = np.array([np.arange(-90., 90., resolution)],)"
   ]
  },
  {
   "cell_type": "markdown",
   "metadata": {},
   "source": [
    "Rectangle is a matrix containg 1's where inside the domain defined by the data coverage (lon/lat min/max). It is computed by a product of 2 vectors. "
   ]
  },
  {
   "cell_type": "code",
   "execution_count": 103,
   "metadata": {
    "collapsed": false
   },
   "outputs": [],
   "source": [
    "def create_rectangle(lon_min, lon_max, lat_min, lat_max, lon_grid, lat_grid, resolution):\n",
    "    lon_vec = np.zeros_like(lon_grid)\n",
    "    lat_vec = np.zeros_like(lat_grid)\n",
    "    lon_vec[(lon_grid >= lon_min - resolution) & (lon_grid <= lon_max + resolution)] = 1\n",
    "    lat_vec[(lat_grid >= lat_min - resolution) & (lat_grid <= lat_max + resolution)] = 1\n",
    "    rectangle = lat_vec.T*lon_vec\n",
    "    return rectangle"
   ]
  },
  {
   "cell_type": "code",
   "execution_count": 104,
   "metadata": {
    "collapsed": false
   },
   "outputs": [],
   "source": [
    "rectangle_sum = np.zeros_like(lat_grid.T*lon_grid)\n",
    "for lon_min0, lon_max0, lat_min0, lat_max0 in zip(lon_min, lon_max, lat_min, lat_max):\n",
    "    rectangle = create_rectangle(lon_min0, lon_max0, lat_min0, lat_max0, lon_grid, lat_grid, resolution)\n",
    "    rectangle_sum += rectangle"
   ]
  },
  {
   "cell_type": "code",
   "execution_count": 106,
   "metadata": {
    "collapsed": false
   },
   "outputs": [
    {
     "data": {
      "text/plain": [
       "(50, 70)"
      ]
     },
     "execution_count": 106,
     "metadata": {},
     "output_type": "execute_result"
    },
    {
     "data": {
      "image/png": "[encoded data removed]",
      "text/plain": [
       "<matplotlib.figure.Figure at 0x1d7076ed0>"
      ]
     },
     "metadata": {},
     "output_type": "display_data"
    }
   ],
   "source": [
    "plt.pcolormesh(lon_grid[0], lat_grid[0], rectangle_sum, cmap='GnBu')\n",
    "plt.xlim(-10, 40)\n",
    "plt.ylim(50, 70)"
   ]
  },
  {
   "cell_type": "code",
   "execution_count": null,
   "metadata": {
    "collapsed": true
   },
   "outputs": [],
   "source": []
  },
  {
   "cell_type": "code",
   "execution_count": null,
   "metadata": {
    "collapsed": true
   },
   "outputs": [],
   "source": []
  }
 ],
 "metadata": {
  "kernelspec": {
   "display_name": "Python 2",
   "language": "python",
   "name": "python2"
  },
  "language_info": {
   "codemirror_mode": {
    "name": "ipython",
    "version": 2
   },
   "file_extension": ".py",
   "mimetype": "text/x-python",
   "name": "python",
   "nbconvert_exporter": "python",
   "pygments_lexer": "ipython2",
   "version": "2.7.5+"
  }
 },
 "nbformat": 4,
 "nbformat_minor": 0
}
