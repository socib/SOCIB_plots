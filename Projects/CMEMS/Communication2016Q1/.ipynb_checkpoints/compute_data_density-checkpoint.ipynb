{
 "cells": [
  {
   "cell_type": "markdown",
   "metadata": {},
   "source": [
    "The goal is to create a data density map based on the information available in the index files.<br>\n",
    "The index files don't contain the data locations, but rectangular boxes in which the data of each file are distributed.<br>\n",
    "We therefore use this information to derive an indication of the data density on a pre-defined grid."
   ]
  },
  {
   "cell_type": "code",
   "execution_count": 52,
   "metadata": {
    "collapsed": true
   },
   "outputs": [],
   "source": [
    "import numpy as np\n",
    "import glob\n",
    "import os\n",
    "import matplotlib.pyplot as plt\n",
    "from mpl_toolkits.basemap import Basemap\n",
    "from matplotlib import rcParams\n",
    "%matplotlib inline"
   ]
  },
  {
   "cell_type": "code",
   "execution_count": 53,
   "metadata": {
    "collapsed": true
   },
   "outputs": [],
   "source": [
    "rcParams.update({'font.size': 22})"
   ]
  },
  {
   "cell_type": "markdown",
   "metadata": {},
   "source": [
    "Let's assume we have all the index files in a common directory."
   ]
  },
  {
   "cell_type": "code",
   "execution_count": 40,
   "metadata": {
    "collapsed": true
   },
   "outputs": [],
   "source": [
    "indexfile_basedir = \"/home/ctroupin/DataOceano/CMEMS/IndexFiles/\"\n",
    "indexfile_dirlist = ['Arctic', 'Baltic', 'BlackSea', 'Global', 'IBI', 'MedSea', 'NorthWestShelves']\n",
    "indexfile_type = 'history'\n",
    "figdir = \"/home/ctroupin/DataOceano/CMEMS/IndexFiles/figures\""
   ]
  },
  {
   "cell_type": "markdown",
   "metadata": {},
   "source": [
    "Generate a list of files to process"
   ]
  },
  {
   "cell_type": "code",
   "execution_count": 41,
   "metadata": {
    "collapsed": false
   },
   "outputs": [],
   "source": [
    "indexfile_list = []\n",
    "for regions in indexfile_dirlist:\n",
    "    indexfile_list.append(sorted(glob.glob(os.path.join(indexfile_basedir + regions, '*' + indexfile_type + '*'))))"
   ]
  },
  {
   "cell_type": "markdown",
   "metadata": {},
   "source": [
    "# Functions "
   ]
  },
  {
   "cell_type": "markdown",
   "metadata": {},
   "source": [
    "Some functions we will use in the code:\n",
    "* read_index_file_box to read the coordinates inside a given domain,\n",
    "* create_rectangle to detect if data are available in a grid cell."
   ]
  },
  {
   "cell_type": "code",
   "execution_count": 42,
   "metadata": {
    "collapsed": true
   },
   "outputs": [],
   "source": [
    "def read_index_file_box(indexfile):\n",
    "    dataindex = np.genfromtxt(indexfile, skip_header=6, unpack=True, delimiter=',', dtype=None, \\\n",
    "              names=['catalog_id', 'file_name', 'geospatial_lat_min', 'geospatial_lat_max',\n",
    "                     'geospatial_lon_min', 'geospatial_lon_max',\n",
    "                     'time_coverage_start', 'time_coverage_end', \n",
    "                     'provider', 'date_update', 'data_mode', 'parameters'])\n",
    "    lon_min = dataindex['geospatial_lon_min']\n",
    "    lon_max = dataindex['geospatial_lon_max']\n",
    "    lat_min = dataindex['geospatial_lat_min']\n",
    "    lat_max = dataindex['geospatial_lat_max']\n",
    "    goodcoord = np.where((lon_max<=180.) & (lon_min>=-180.) & (lat_min>=-90.) & (lat_max<=90.))[0]\n",
    "    return lon_min[goodcoord], lon_max[goodcoord], lat_min[goodcoord], lat_max[goodcoord]"
   ]
  },
  {
   "cell_type": "code",
   "execution_count": 43,
   "metadata": {
    "collapsed": false
   },
   "outputs": [],
   "source": [
    "def create_rectangle(lon_min, lon_max, lat_min, lat_max, lon_grid, lat_grid, resolution):\n",
    "    '''\n",
    "    Rectangle is a matrix containg 1's where inside the domain defined by the data coverage (lon/lat min/max). \n",
    "    It is computed by a product of 2 vectors.\n",
    "    '''\n",
    "    lon_vec = np.zeros_like(lon_grid)\n",
    "    lat_vec = np.zeros_like(lat_grid)\n",
    "    lon_vec[(lon_grid >= lon_min - resolution) & (lon_grid <= lon_max + resolution)] = 1\n",
    "    lat_vec[(lat_grid >= lat_min - resolution) & (lat_grid <= lat_max + resolution)] = 1\n",
    "    rectangle = lat_vec.T*lon_vec\n",
    "    return rectangle"
   ]
  },
  {
   "cell_type": "markdown",
   "metadata": {},
   "source": [
    "# Generate grid based on resolution"
   ]
  },
  {
   "cell_type": "code",
   "execution_count": 44,
   "metadata": {
    "collapsed": true
   },
   "outputs": [],
   "source": [
    "resolution = 1.\n",
    "lon_grid = np.array([np.arange(-180., 180., resolution)],)\n",
    "lat_grid = np.array([np.arange(-90., 90., resolution)],)"
   ]
  },
  {
   "cell_type": "markdown",
   "metadata": {},
   "source": [
    "Prepare the projection (one time is enough)"
   ]
  },
  {
   "cell_type": "code",
   "execution_count": 45,
   "metadata": {
    "collapsed": true
   },
   "outputs": [],
   "source": [
    "m = Basemap(lon_0=0, projection='robin')\n",
    "llon, llat = np.meshgrid(lon_grid[0], lat_grid[0])\n",
    "lonmap, latmap = m(llon, llat)"
   ]
  },
  {
   "cell_type": "markdown",
   "metadata": {},
   "source": [
    "# Loop on the index file"
   ]
  },
  {
   "cell_type": "code",
   "execution_count": 46,
   "metadata": {
    "collapsed": false
   },
   "outputs": [
    {
     "name": "stdout",
     "output_type": "stream",
     "text": [
      "Working on /home/ctroupin/DataOceano/CMEMS/IndexFiles/Arctic/index_history.txt\n",
      "Working on /home/ctroupin/DataOceano/CMEMS/IndexFiles/Baltic/index_history.txt\n",
      "Working on /home/ctroupin/DataOceano/CMEMS/IndexFiles/BlackSea/index_history.txt\n"
     ]
    },
    {
     "ename": "ValueError",
     "evalue": "Some errors were detected !\n    Line #262 (got 12 columns instead of 13)\n    Line #266 (got 12 columns instead of 13)\n    Line #716 (got 12 columns instead of 13)",
     "output_type": "error",
     "traceback": [
      "\u001b[1;31m---------------------------------------------------------------------------\u001b[0m",
      "\u001b[1;31mValueError\u001b[0m                                Traceback (most recent call last)",
      "\u001b[1;32m<ipython-input-46-bd35240b10fa>\u001b[0m in \u001b[0;36m<module>\u001b[1;34m()\u001b[0m\n\u001b[0;32m      2\u001b[0m     \u001b[1;32mprint\u001b[0m\u001b[1;33m(\u001b[0m\u001b[1;34m'Working on %s'\u001b[0m \u001b[1;33m%\u001b[0m\u001b[1;33m(\u001b[0m\u001b[0mindexfile\u001b[0m\u001b[1;33m[\u001b[0m\u001b[1;36m0\u001b[0m\u001b[1;33m]\u001b[0m\u001b[1;33m)\u001b[0m\u001b[1;33m)\u001b[0m\u001b[1;33m\u001b[0m\u001b[0m\n\u001b[0;32m      3\u001b[0m     \u001b[1;31m# Read the coordinates\u001b[0m\u001b[1;33m\u001b[0m\u001b[1;33m\u001b[0m\u001b[0m\n\u001b[1;32m----> 4\u001b[1;33m     \u001b[0mlon_min\u001b[0m\u001b[1;33m,\u001b[0m \u001b[0mlon_max\u001b[0m\u001b[1;33m,\u001b[0m \u001b[0mlat_min\u001b[0m\u001b[1;33m,\u001b[0m \u001b[0mlat_max\u001b[0m \u001b[1;33m=\u001b[0m \u001b[0mread_index_file_box\u001b[0m\u001b[1;33m(\u001b[0m\u001b[0mindexfile\u001b[0m\u001b[1;33m[\u001b[0m\u001b[1;36m0\u001b[0m\u001b[1;33m]\u001b[0m\u001b[1;33m)\u001b[0m\u001b[1;33m\u001b[0m\u001b[0m\n\u001b[0m\u001b[0;32m      5\u001b[0m     \u001b[1;31m# Data count\u001b[0m\u001b[1;33m\u001b[0m\u001b[1;33m\u001b[0m\u001b[0m\n\u001b[0;32m      6\u001b[0m     \u001b[0mrectangle_sum\u001b[0m \u001b[1;33m=\u001b[0m \u001b[0mnp\u001b[0m\u001b[1;33m.\u001b[0m\u001b[0mzeros_like\u001b[0m\u001b[1;33m(\u001b[0m\u001b[0mlat_grid\u001b[0m\u001b[1;33m.\u001b[0m\u001b[0mT\u001b[0m\u001b[1;33m*\u001b[0m\u001b[0mlon_grid\u001b[0m\u001b[1;33m)\u001b[0m\u001b[1;33m\u001b[0m\u001b[0m\n",
      "\u001b[1;32m<ipython-input-42-0cde6ff17132>\u001b[0m in \u001b[0;36mread_index_file_box\u001b[1;34m(indexfile)\u001b[0m\n\u001b[0;32m      3\u001b[0m                      \u001b[1;34m'geospatial_lon_min'\u001b[0m\u001b[1;33m,\u001b[0m \u001b[1;34m'geospatial_lon_max'\u001b[0m\u001b[1;33m,\u001b[0m\u001b[1;33m\u001b[0m\u001b[0m\n\u001b[0;32m      4\u001b[0m                      \u001b[1;34m'time_coverage_start'\u001b[0m\u001b[1;33m,\u001b[0m \u001b[1;34m'time_coverage_end'\u001b[0m\u001b[1;33m,\u001b[0m\u001b[1;33m\u001b[0m\u001b[0m\n\u001b[1;32m----> 5\u001b[1;33m                      'provider', 'date_update', 'data_mode', 'parameters'])\n\u001b[0m\u001b[0;32m      6\u001b[0m     \u001b[0mlon_min\u001b[0m \u001b[1;33m=\u001b[0m \u001b[0mdataindex\u001b[0m\u001b[1;33m[\u001b[0m\u001b[1;34m'geospatial_lon_min'\u001b[0m\u001b[1;33m]\u001b[0m\u001b[1;33m\u001b[0m\u001b[0m\n\u001b[0;32m      7\u001b[0m     \u001b[0mlon_max\u001b[0m \u001b[1;33m=\u001b[0m \u001b[0mdataindex\u001b[0m\u001b[1;33m[\u001b[0m\u001b[1;34m'geospatial_lon_max'\u001b[0m\u001b[1;33m]\u001b[0m\u001b[1;33m\u001b[0m\u001b[0m\n",
      "\u001b[1;32m/usr/local/lib/python2.7/dist-packages/numpy/lib/npyio.pyc\u001b[0m in \u001b[0;36mgenfromtxt\u001b[1;34m(fname, dtype, comments, delimiter, skip_header, skip_footer, converters, missing_values, filling_values, usecols, names, excludelist, deletechars, replace_space, autostrip, case_sensitive, defaultfmt, unpack, usemask, loose, invalid_raise, max_rows)\u001b[0m\n\u001b[0;32m   1764\u001b[0m             \u001b[1;31m# Raise an exception ?\u001b[0m\u001b[1;33m\u001b[0m\u001b[1;33m\u001b[0m\u001b[0m\n\u001b[0;32m   1765\u001b[0m             \u001b[1;32mif\u001b[0m \u001b[0minvalid_raise\u001b[0m\u001b[1;33m:\u001b[0m\u001b[1;33m\u001b[0m\u001b[0m\n\u001b[1;32m-> 1766\u001b[1;33m                 \u001b[1;32mraise\u001b[0m \u001b[0mValueError\u001b[0m\u001b[1;33m(\u001b[0m\u001b[0merrmsg\u001b[0m\u001b[1;33m)\u001b[0m\u001b[1;33m\u001b[0m\u001b[0m\n\u001b[0m\u001b[0;32m   1767\u001b[0m             \u001b[1;31m# Issue a warning ?\u001b[0m\u001b[1;33m\u001b[0m\u001b[1;33m\u001b[0m\u001b[0m\n\u001b[0;32m   1768\u001b[0m             \u001b[1;32melse\u001b[0m\u001b[1;33m:\u001b[0m\u001b[1;33m\u001b[0m\u001b[0m\n",
      "\u001b[1;31mValueError\u001b[0m: Some errors were detected !\n    Line #262 (got 12 columns instead of 13)\n    Line #266 (got 12 columns instead of 13)\n    Line #716 (got 12 columns instead of 13)"
     ]
    }
   ],
   "source": [
    "for indexfile in indexfile_list:\n",
    "    print('Working on %s' %(indexfile[0]))\n",
    "    # Read the coordinates\n",
    "    lon_min, lon_max, lat_min, lat_max = read_index_file_box(indexfile[0])\n",
    "    # Data count\n",
    "    rectangle_sum = np.zeros_like(lat_grid.T*lon_grid)\n",
    "    for lon_min0, lon_max0, lat_min0, lat_max0 in zip(lon_min, lon_max, lat_min, lat_max):\n",
    "        rectangle = create_rectangle(lon_min0, lon_max0, lat_min0, lat_max0, lon_grid, lat_grid, resolution)\n",
    "        rectangle_sum += rectangle\n",
    "    # Plot on the map\n",
    "    lonmean = 0.5*(lon_min + lon_max)\n",
    "    latmean = 0.5*(lat_min + lat_max)\n",
    "    lonmeanmap, latmeanmap = m(lonmean, latmean)\n",
    "\n",
    "    \n",
    "    figname = regions + os.path.basename(indexfile[0])[:-3]\n",
    "    fig = plt.figure(figsize=(15, 10))\n",
    "    m.drawmapboundary(color='w')\n",
    "    m.pcolor(lonmap, latmap, rectangle_sum, cmap=cmap)\n",
    "    #plt.plot(lonmeanmap, latmeanmap, 'wo', markerfacecolor='w', markeredgecolor='w', markersize=0.5)\n",
    "    m.drawcountries(linewidth=0.5, color='w')\n",
    "    m.drawcoastlines(linewidth=0.5, color='w')\n",
    "    m.fillcontinents()\n",
    "    cbar = plt.colorbar()\n",
    "    plt.savefig(os.path.join(figdir, figname))\n",
    "    plt.close()\n",
    "    \n",
    "    \n",
    "    "
   ]
  },
  {
   "cell_type": "code",
   "execution_count": 48,
   "metadata": {
    "collapsed": false
   },
   "outputs": [],
   "source": [
    "aa = \"/home/ctroupin/DataOceano/CMEMS/IndexFiles/Arctic/index_history.txt\""
   ]
  },
  {
   "cell_type": "code",
   "execution_count": 50,
   "metadata": {
    "collapsed": false
   },
   "outputs": [
    {
     "data": {
      "text/plain": [
       "'Arctic'"
      ]
     },
     "execution_count": 50,
     "metadata": {},
     "output_type": "execute_result"
    }
   ],
   "source": [
    "aa.split('/')[-2]"
   ]
  },
  {
   "cell_type": "code",
   "execution_count": 51,
   "metadata": {
    "collapsed": false
   },
   "outputs": [
    {
     "data": {
      "text/plain": [
       "[['/home/ctroupin/DataOceano/CMEMS/IndexFiles/Arctic/index_history.txt'],\n",
       " ['/home/ctroupin/DataOceano/CMEMS/IndexFiles/Baltic/index_history.txt'],\n",
       " ['/home/ctroupin/DataOceano/CMEMS/IndexFiles/BlackSea/index_history.txt'],\n",
       " ['/home/ctroupin/DataOceano/CMEMS/IndexFiles/Global/index_history.txt'],\n",
       " ['/home/ctroupin/DataOceano/CMEMS/IndexFiles/IBI/index_history.txt'],\n",
       " ['/home/ctroupin/DataOceano/CMEMS/IndexFiles/MedSea/index_history.txt'],\n",
       " ['/home/ctroupin/DataOceano/CMEMS/IndexFiles/NorthWestShelves/index_history.txt']]"
      ]
     },
     "execution_count": 51,
     "metadata": {},
     "output_type": "execute_result"
    }
   ],
   "source": [
    "indexfile_list"
   ]
  },
  {
   "cell_type": "code",
   "execution_count": 58,
   "metadata": {
    "collapsed": false
   },
   "outputs": [
    {
     "data": {
      "image/png": "[encoded data removed]",
      "text/plain": [
       "<matplotlib.figure.Figure at 0x5d333d0>"
      ]
     },
     "metadata": {},
     "output_type": "display_data"
    }
   ],
   "source": [
    "plt.hist(latmean)\n",
    "plt.show()"
   ]
  },
  {
   "cell_type": "code",
   "execution_count": 60,
   "metadata": {
    "collapsed": false
   },
   "outputs": [
    {
     "data": {
      "image/png": "[encoded data removed]",
      "text/plain": [
       "<matplotlib.figure.Figure at 0x9366c90>"
      ]
     },
     "metadata": {},
     "output_type": "display_data"
    }
   ],
   "source": [
    "bins = np.arange(-180., 180.00001, 10.)\n",
    "plt.hist(lonmean, bins)\n",
    "plt.show()"
   ]
  },
  {
   "cell_type": "code",
   "execution_count": 64,
   "metadata": {
    "collapsed": false
   },
   "outputs": [
    {
     "data": {
      "image/png": "[encoded data removed]",
      "text/plain": [
       "<matplotlib.figure.Figure at 0x94b9050>"
      ]
     },
     "metadata": {},
     "output_type": "display_data"
    }
   ],
   "source": [
    "bins = np.arange(-180., 180.00001, 10.)\n",
    "fig = plt.figure(figsize=(10, 10))\n",
    "ax = plt.subplot(121)\n",
    "plt.hist(lon_min, bins)\n",
    "ax = plt.subplot(122)\n",
    "plt.hist(lon_max, bins)\n",
    "plt.show()"
   ]
  },
  {
   "cell_type": "code",
   "execution_count": null,
   "metadata": {
    "collapsed": true
   },
   "outputs": [],
   "source": []
  }
 ],
 "metadata": {
  "kernelspec": {
   "display_name": "Python 2",
   "language": "python",
   "name": "python2"
  },
  "language_info": {
   "codemirror_mode": {
    "name": "ipython",
    "version": 2
   },
   "file_extension": ".py",
   "mimetype": "text/x-python",
   "name": "python",
   "nbconvert_exporter": "python",
   "pygments_lexer": "ipython2",
   "version": "2.7.5+"
  }
 },
 "nbformat": 4,
 "nbformat_minor": 0
}
