{
 "cells": [
  {
   "cell_type": "markdown",
   "metadata": {},
   "source": [
    "Extract temperature profiles for each month of the year at specified positions from a SeadataNet climatology."
   ]
  },
  {
   "cell_type": "code",
   "execution_count": 150,
   "metadata": {
    "collapsed": true
   },
   "outputs": [],
   "source": [
    "import numpy as np\n",
    "import glob\n",
    "import os\n",
    "import matplotlib.pyplot as plt\n",
    "import netCDF4\n",
    "import calendar\n",
    "from matplotlib import rcParams\n",
    "from mpl_toolkits.basemap import Basemap\n",
    "from geopy.distance import vincenty\n",
    "%matplotlib inline"
   ]
  },
  {
   "cell_type": "code",
   "execution_count": 153,
   "metadata": {
    "collapsed": false
   },
   "outputs": [],
   "source": [
    "rcParams.update({'font.size': 16})"
   ]
  },
  {
   "cell_type": "code",
   "execution_count": 107,
   "metadata": {
    "collapsed": true
   },
   "outputs": [],
   "source": [
    "coordinatelist = [(2. + 10. / 60., 39. + 21. / 60.)]"
   ]
  },
  {
   "cell_type": "code",
   "execution_count": 165,
   "metadata": {
    "collapsed": false
   },
   "outputs": [
    {
     "data": {
      "text/plain": [
       "'/home/ctroupin/DataOceano/SeaDataNet/Temperature.19002013.4Danl.nc'"
      ]
     },
     "execution_count": 165,
     "metadata": {},
     "output_type": "execute_result"
    }
   ],
   "source": [
    "climdir = \"/home/ctroupin/DataOceano/SeaDataNet\"\n",
    "climfile = os.path.join(climdir, 'Temperature.19002013.4Danl.nc')\n",
    "figdir = '/home/ctroupin/'\n",
    "climfile"
   ]
  },
  {
   "cell_type": "markdown",
   "metadata": {},
   "source": [
    "# Load data and coordinates"
   ]
  },
  {
   "cell_type": "code",
   "execution_count": 11,
   "metadata": {
    "collapsed": true
   },
   "outputs": [],
   "source": [
    "def load_clim(climfile):\n",
    "    '''Load the coordinates (lon, lat, depth, time) from the netCDF file'''\n",
    "    with netCDF4.Dataset(climfile) as nc:\n",
    "        lon = nc.variables['lon'][:]\n",
    "        lat = nc.variables['lat'][:]\n",
    "        depth = nc.variables['depth'][:]\n",
    "        time = nc.variables['time'][:]\n",
    "    return lon, lat, depth, time"
   ]
  },
  {
   "cell_type": "code",
   "execution_count": 116,
   "metadata": {
    "collapsed": true
   },
   "outputs": [],
   "source": [
    "def get_index_neighbour(coordinates, lon, lat):\n",
    "    '''\n",
    "    Get the indices of the coordinates corresponding to the closest points around the point of interest\n",
    "    imin is the index of the closest longitude grid point smaller than the point of interest\n",
    "    jmin is the index of the closest latitude grid point smaller than the point of interest\n",
    "    \n",
    "    (imin, jmin+1)______________(imin+1, jmin+1)\n",
    "    |                                  |\n",
    "    |                      x           |\n",
    "    |                                  |\n",
    "    |__________________________________|\n",
    "    (imin, jmin)                (imin+1, jmin) \n",
    "    '''\n",
    "    deltalon = abs(lon - coordinates[0])\n",
    "    deltalat = abs(lat - coordinates[1])\n",
    "\n",
    "    imin = np.argmin(deltalon)\n",
    "    jmin = np.argmin(deltalat)\n",
    "\n",
    "    if lon[imin] - coordinates[0] > 0.:   # closest grid point on the right of the point of interest\n",
    "        imin -= 1\n",
    "\n",
    "    if lat[jmin] - coordinates[1] > 0.:   # closest grid point on the above of the point of interest\n",
    "        jmin -= 1\n",
    "    return imin, jmin"
   ]
  },
  {
   "cell_type": "code",
   "execution_count": 91,
   "metadata": {
    "collapsed": false
   },
   "outputs": [],
   "source": [
    "def get_coefficients(coordinates, lon, lat, imin, jmin):\n",
    "    '''Get the coefficient to perform an inverse distance interpolation \n",
    "       using the four closest points.\n",
    "       The order of the coefficients is shown on the schema.\n",
    "       \n",
    "       (1)_______(2)\n",
    "       |          |\n",
    "       |       x  |\n",
    "       |          |\n",
    "       |__________|\n",
    "       (0)       (3) \n",
    "    '''\n",
    "    invdist = 1. / np.array((vincenty(coordinates, (lon[imin], lat[jmin])).kilometers,\n",
    "        vincenty(coordinates, (lon[imin], lat[jmin+1])).kilometers,\n",
    "        vincenty(coordinates, (lon[imin+1], lat[jmin+1])).kilometers,\n",
    "        vincenty(coordinates, (lon[imin+1], lat[jmin])).kilometers\n",
    "        ))\n",
    "    return invdist / invdist.sum()"
   ]
  },
  {
   "cell_type": "code",
   "execution_count": 135,
   "metadata": {
    "collapsed": true
   },
   "outputs": [],
   "source": [
    "def get_variable_neighbour(climfile, variable, imin, jmin):\n",
    "    with netCDF4.Dataset(climfile) as nc:\n",
    "        field = nc.variables[variable][:, :, jmin:jmin+2, imin:imin+2]\n",
    "    return field"
   ]
  },
  {
   "cell_type": "code",
   "execution_count": 136,
   "metadata": {
    "collapsed": false
   },
   "outputs": [],
   "source": [
    "lon, lat, depth, time = load_clim(climfile)"
   ]
  },
  {
   "cell_type": "code",
   "execution_count": 137,
   "metadata": {
    "collapsed": false
   },
   "outputs": [
    {
     "name": "stdout",
     "output_type": "stream",
     "text": [
      "(2.1666666666666665, 39.35)\n",
      "(91, 74)\n",
      "[ 0.1879039   0.42040772  0.23505798  0.1566304 ]\n",
      "(12, 33, 2, 2)\n",
      "(12, 33)\n"
     ]
    }
   ],
   "source": [
    "for coordinates in coordinatelist:\n",
    "    print(coordinates)\n",
    "\n",
    "    #Get the indices for the 4 closest grid points\n",
    "    imin, jmin = get_index_neighbour(coordinates, lon, lat)\n",
    "    print(imin, jmin)\n",
    "\n",
    "    # Compute the coefficients for an inverse distance interpolation\n",
    "    invdist = get_coefficients(coordinates, lon, lat, imin, jmin)\n",
    "    print(invdist)\n",
    "\n",
    "    # Extract the field at the neighbour points \n",
    "    field = get_variable_neighbour(climfile, 'Temperature', imin, jmin)\n",
    "    print(field.shape)\n",
    "\n",
    "    # Interpolate the field at the selected position\n",
    "    field_interp = invdist[0] * field[:, :, 0, 0] + invdist[1] * field[:, :, 1, 0] + \\\n",
    "                   invdist[2] * field[:, :, 1, 1] + invdist[3] * field[:, :, 0, 1]\n",
    "        \n",
    "    print(field_interp.shape)"
   ]
  },
  {
   "cell_type": "markdown",
   "metadata": {},
   "source": [
    "# Plot to check stuffs"
   ]
  },
  {
   "cell_type": "code",
   "execution_count": 170,
   "metadata": {
    "collapsed": false
   },
   "outputs": [],
   "source": [
    "fig = plt.figure(figsize=(16, 12))\n",
    "plt.suptitle('Monthly temperature profiles at (' + str(np.round(coordinates[0], 2)) + \n",
    "             '$^{\\circ}$E, ' + str(np.round(coordinates[1], 2)) + '$^{\\circ}$N)', fontsize=24)\n",
    "for m in range(0, 12):\n",
    "    plt.subplot(3, 4, m+1)\n",
    "    plt.title(calendar.month_name[m+1], fontsize=20)\n",
    "    plt.plot(field_interp[m, :], -depth, 'ko-', lw=1.5)\n",
    "    plt.ylim(-75., 0.)\n",
    "fig.tight_layout()\n",
    "fig.subplots_adjust(top=0.88)\n",
    "plt.savefig(os.path.join(figdir, 'temperature_profiles'), dpi=300)\n",
    "plt.close()"
   ]
  },
  {
   "cell_type": "code",
   "execution_count": 133,
   "metadata": {
    "collapsed": false
   },
   "outputs": [
    {
     "data": {
      "image/png": "[encoded data removed]",
      "text/plain": [
       "<matplotlib.figure.Figure at 0x760af10>"
      ]
     },
     "metadata": {},
     "output_type": "display_data"
    }
   ],
   "source": [
    "fig = plt.figure(figsize=(12, 12))\n",
    "plt.plot(field[:,0,0], -depth)\n",
    "plt.plot(field[:,0,1], -depth, 'r')\n",
    "plt.plot(field[:,1,0], -depth, 'b')\n",
    "plt.plot(field[:,1,1], -depth, 'g')\n",
    "plt.plot(field_interp, -depth, 'k', lw=3)\n",
    "plt.ylim(-75, 0)\n",
    "plt.show()"
   ]
  }
 ],
 "metadata": {
  "kernelspec": {
   "display_name": "Python 2",
   "language": "python",
   "name": "python2"
  },
  "language_info": {
   "codemirror_mode": {
    "name": "ipython",
    "version": 2
   },
   "file_extension": ".py",
   "mimetype": "text/x-python",
   "name": "python",
   "nbconvert_exporter": "python",
   "pygments_lexer": "ipython2",
   "version": "2.7.5+"
  }
 },
 "nbformat": 4,
 "nbformat_minor": 0
}
