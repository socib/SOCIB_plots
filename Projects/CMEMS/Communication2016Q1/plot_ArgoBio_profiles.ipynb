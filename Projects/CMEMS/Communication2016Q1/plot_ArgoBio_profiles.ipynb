{
 "cells": [
  {
   "cell_type": "markdown",
   "metadata": {},
   "source": [
    "We plot the data contained in a ARGO profilers measuring biological parameters"
   ]
  },
  {
   "cell_type": "code",
   "execution_count": 1,
   "metadata": {
    "collapsed": true
   },
   "outputs": [],
   "source": [
    "import numpy as np\n",
    "import netCDF4\n",
    "import matplotlib.pyplot as plt\n",
    "import glob\n",
    "import os\n",
    "import seawater\n",
    "import cmocean\n",
    "from matplotlib import rcParams\n",
    "from mpl_toolkits.basemap import Basemap\n",
    "%matplotlib inline"
   ]
  },
  {
   "cell_type": "code",
   "execution_count": 40,
   "metadata": {
    "collapsed": true
   },
   "outputs": [],
   "source": [
    "rcParams.update({'font.size': 16})\n",
    "figdir = \"/home/ctroupin/Projects2/201501_InsTAC/Graphical _Material/2016_Q2/\"\n",
    "datadir = \"/data_local/DataOceano/CMEMS/INSITU_GLO_NRT_OBSERVATIONS_013_030/history/profiler-glider\"\n",
    "dlon, dlat = 2., 1."
   ]
  },
  {
   "cell_type": "code",
   "execution_count": 54,
   "metadata": {
    "collapsed": false
   },
   "outputs": [
    {
     "name": "stdout",
     "output_type": "stream",
     "text": [
      "Working on /data_local/DataOceano/CMEMS/INSITU_GLO_NRT_OBSERVATIONS_013_030/history/profiler-glider/GL_PR_PF_6901646.nc\n",
      "Working on /data_local/DataOceano/CMEMS/INSITU_GLO_NRT_OBSERVATIONS_013_030/history/profiler-glider/GL_PR_PF_6901647.nc\n",
      "Working on /data_local/DataOceano/CMEMS/INSITU_GLO_NRT_OBSERVATIONS_013_030/history/profiler-glider/GL_PR_PF_6901648.nc\n",
      "Working on /data_local/DataOceano/CMEMS/INSITU_GLO_NRT_OBSERVATIONS_013_030/history/profiler-glider/GL_PR_PF_6901649.nc\n",
      "Working on /data_local/DataOceano/CMEMS/INSITU_GLO_NRT_OBSERVATIONS_013_030/history/profiler-glider/GL_PR_PF_6901651.nc\n",
      "Working on /data_local/DataOceano/CMEMS/INSITU_GLO_NRT_OBSERVATIONS_013_030/history/profiler-glider/GL_PR_PF_6901653.nc\n"
     ]
    }
   ],
   "source": [
    "datafilelist = sorted(glob.glob(os.path.join(datadir, '*.nc')))\n",
    "for datafiles in datafilelist:\n",
    "    print('Working on %s' %(datafiles))\n",
    "    figbasename = os.path.basename(datafiles)[:-3]\n",
    "          \n",
    "    # Read the variables from the data file\n",
    "    time, time_units, lon, lat, pressure, temp, temp_qc, psal, psal_qc, chloro, chloro_qc = read_variables(datafiles)\n",
    "    \n",
    "    # Convert time to dates and change the vector to a 2D array\n",
    "    datesarray = convert_time(time, time_units)\n",
    "    \n",
    "    # Compute initial and final dates\n",
    "    dayinit, dayend = get_init_final_dates(datesarray)\n",
    "    \n",
    "    # Apply QC\n",
    "    temp, psal, chloro = apply_qc_variables(temp, temp_qc, psal, psal_qc, chloro, chloro_qc)\n",
    "    \n",
    "    # Convert pressure to depth using [Soaunders (1981)] formula\n",
    "    depth = seawater.eos80.dpth(pressure, np.tile(lat, (pressure.shape[1], 1)).T)\n",
    "    \n",
    "    # Plots:\n",
    "    # -----------------------------\n",
    "    \n",
    "    depthmin, depthmax = 0.0, 1000.0\n",
    "\n",
    "    # Temperature\n",
    "    varname = 'temperature'\n",
    "    tmin, tmax = 4.0, 15.0\n",
    "    cmap = cmocean.cm.temperature\n",
    "    var_units = '$^{\\circ}$C'\n",
    "    extend_type = 'both'\n",
    "    #plot_variable_time_depth(varname, temp, cmap, var_units, tmin, tmax, depthmin, depthmax, extend_type, figbasename)\n",
    "          \n",
    "    # Salinity\n",
    "    varname = 'salinity'\n",
    "    smin, smax = 34.5, 35.5\n",
    "    cmap = cmocean.cm.salinity\n",
    "    var_units = ' '\n",
    "    extend_type = 'both'\n",
    "    #plot_variable_time_depth(varname, psal, cmap, var_units, smin, smax, depthmin, depthmax, extend_type, figbasename)\n",
    "    \n",
    "    # Chlorophyll concentration\n",
    "    varname = 'chlorophyll'\n",
    "    cmap = cmocean.cm.chlorophyll\n",
    "    var_units = 'mg/m$^3$'\n",
    "    chloro_min, chloro_max = 0, 3.0\n",
    "    extend_type = 'max'\n",
    "    #plot_variable_time_depth(varname, chloro, cmap, var_units, chloro_min, chloro_max, depthmin, \n",
    "    #                         depthmax, extend_type, figbasename)\n",
    "\n",
    "    \n",
    "    # T-S diagram\n",
    "    density, density2plot = compute_density()\n",
    "    plot_TS(temp, psal, depth)\n",
    "    \n",
    "    # Trajectory of the profiler\n",
    "    #plot_trajectory(lon, lat, dlon, dlat, figbasename, dayinit, dayend)"
   ]
  },
  {
   "cell_type": "code",
   "execution_count": 43,
   "metadata": {
    "collapsed": false
   },
   "outputs": [],
   "source": [
    "def read_variables(datafiles):\n",
    "    with netCDF4.Dataset(datafiles) as nc:\n",
    "        time = nc.variables['TIME'][:]\n",
    "        time_units = nc.variables['TIME'].units\n",
    "        lon = nc.variables['LONGITUDE'][:]\n",
    "        lat = nc.variables['LATITUDE'][:]\n",
    "        pressure = nc.variables['PRES'][:]\n",
    "        temp = nc.variables['TEMP'][:]\n",
    "        temp_qc = nc.variables['TEMP_QC'][:]\n",
    "        psal = nc.variables['PSAL'][:]\n",
    "        psal_qc = nc.variables['PSAL_QC'][:]\n",
    "        chloro = nc.variables['CPHL_ADJUSTED'][:]\n",
    "        chloro_qc = nc.variables['CPHL_ADJUSTED_QC'][:]\n",
    "        chloro_units = nc.variables['CPHL'].units\n",
    "    return time, time_units, lon, lat, pressure, temp, temp_qc, psal, psal_qc, chloro, chloro_qc"
   ]
  },
  {
   "cell_type": "code",
   "execution_count": 3,
   "metadata": {
    "collapsed": false
   },
   "outputs": [],
   "source": [
    "def convert_time(time, time_units):\n",
    "    '''Convert time to dates and change the vector to a 2D array.'''\n",
    "    dates = netCDF4.num2date(time, time_units)\n",
    "    datesarray = np.tile(dates, (pressure.shape[1], 1)).T\n",
    "    return datesarray"
   ]
  },
  {
   "cell_type": "code",
   "execution_count": 47,
   "metadata": {
    "collapsed": false
   },
   "outputs": [],
   "source": [
    "def get_init_final_dates(datesarray):\n",
    "    '''Compute initial and final dates'''\n",
    "    dayinit = datesarray[0, 0].strftime('%d %B %Y')\n",
    "    dayend = datesarray[-1, 0].strftime('%d %B %Y')\n",
    "    return dayinit, dayend"
   ]
  },
  {
   "cell_type": "code",
   "execution_count": 42,
   "metadata": {
    "collapsed": false
   },
   "outputs": [],
   "source": [
    "def apply_qc_variables(temp, temp_qc, psal, psal_qc, chloro, chloro_qc):\n",
    "    '''Apply the quality flags (we keep only the good values'''\n",
    "    temp = np.ma.masked_where(temp_qc != 1, temp)\n",
    "    psal = np.ma.masked_where(psal_qc != 1, psal)\n",
    "    # chloro = np.ma.masked_where(chloro_qc > 3., chloro)\n",
    "    return temp, psal, chloro"
   ]
  },
  {
   "cell_type": "code",
   "execution_count": 49,
   "metadata": {
    "collapsed": false
   },
   "outputs": [],
   "source": [
    "def plot_variable_time_depth(varname, var2plot, cmap, var_units, var_min, \n",
    "                             var_max, depthmin, depthmax, extendtype, figbasename):\n",
    "    figname = figbasename + '_' + varname\n",
    "    fig = plt.figure(figsize=(15, 10))\n",
    "    plt.scatter(datesarray, pressure, c=var2plot, s=7, \n",
    "                edgecolor='None', cmap=cmap)\n",
    "    plt.xlabel('Time', fontsize=18)\n",
    "    plt.ylabel('Depth\\n(m)', fontsize=18, rotation=0, ha='right')\n",
    "    cbar = plt.colorbar(extend='max')\n",
    "    cbar.set_label(var_units, rotation=0, ha='left')\n",
    "    # cbar.set_clim(var_min, var_max)\n",
    "    ax = plt.gca()\n",
    "    ax.set_ylim(depthmin, depthmax)\n",
    "    ax.invert_yaxis()\n",
    "    fig.autofmt_xdate()\n",
    "    plt.savefig(os.path.join(figdir, figname), dpi=300)\n",
    "    plt.close()"
   ]
  },
  {
   "cell_type": "code",
   "execution_count": 53,
   "metadata": {
    "collapsed": false
   },
   "outputs": [],
   "source": [
    "def plot_TS(temp, psal, depth):\n",
    "    figname = figbasename + '_TSdiagram'\n",
    "    \n",
    "    tmin = np.floor(temp.min())\n",
    "    tmax = np.ceil(temp.max())\n",
    "    smin = np.floor(psal.min())\n",
    "    smax = np.ceil(psal.max())\n",
    "    \n",
    "    # Compute density for different T-S pairs\n",
    "    density2plot = np.arange(24, 30, .5)\n",
    "    ds, dt = 0.05, 0.1\n",
    "    tvec = np.arange(tmin, tmax, dt)\n",
    "    svec = np.arange(smin, smax, ds)\n",
    "    ssvec, ttvec = np.meshgrid(svec, tvec)\n",
    "    density = seawater.eos80.dens0(ssvec, ttvec) - 1000.0\n",
    "    \n",
    "    # Make the plot\n",
    "    fig = plt.figure(figsize=(15, 15))\n",
    "    plt.scatter(psal, temp, s=5, c=depth,\n",
    "               edgecolor='None', cmap=cmocean.cm.swh)\n",
    "    cbar = plt.colorbar()\n",
    "    plt.xlabel('Salinity', fontsize=18)\n",
    "    plt.ylabel('Temperature\\n($^{\\circ}$C)', rotation=0, ha='right', fontsize=18)\n",
    "    cont = plt.contour(svec, tvec, density, levels=density2plot, colors='.65', linestyles='dashed')\n",
    "    plt.clabel(cont,inline=True, fmt='%1.1f')\n",
    "    #plt.xlim(smin, smax)\n",
    "    #plt.ylim(tmin, tmax)\n",
    "    cbar.set_label('Depth\\n(m)', rotation=0, ha='left')\n",
    "    plt.savefig(os.path.join(figdir, figname), dpi=300)\n",
    "    plt.close()"
   ]
  },
  {
   "cell_type": "code",
   "execution_count": 46,
   "metadata": {
    "collapsed": false
   },
   "outputs": [],
   "source": [
    "def plot_trajectory(lon, lat, dlon, dlat, figbasename, dayinit, dayend):\n",
    "    \n",
    "    coordinates = np.floor(lon.min()), np.ceil(lon.max()), np.floor(lat.min()), np.ceil(lat.max())\n",
    "    \n",
    "    m = Basemap(projection='merc', llcrnrlon=coordinates[0], llcrnrlat=coordinates[2],\n",
    "                    urcrnrlon=coordinates[1], urcrnrlat=coordinates[3],\n",
    "                    lat_ts=0.5 * (coordinates[2] + coordinates[3]), resolution='i')\n",
    "    figname = figbasename + '_trajectory'\n",
    "    fig = plt.figure(figsize=(12, 12))\n",
    "\n",
    "    lonproj, latproj = m(lon, lat)\n",
    "    m.plot(lonproj, latproj, 'ko-')\n",
    "    m.plot(lonproj[0], latproj[0], '>g', markersize=15, zorder=2, label='Starting point')\n",
    "    m.plot(lonproj[-1], latproj[-1], 'sr', markersize=15, zorder=2, label='Final point')\n",
    "    m.drawparallels(np.arange(round(coordinates[2]), coordinates[3], dlat), linewidth=0.2,\n",
    "                    labels=[1, 0, 0, 0], fontname='Times New Roman', fontsize=16, zorder=1)\n",
    "    m.drawmeridians(np.arange(round(coordinates[0]), coordinates[1], dlon), linewidth=0.2,\n",
    "                    labels=[0, 0, 0, 1], fontname='Times New Roman', fontsize=16, zorder=1)\n",
    "    m.drawcoastlines()\n",
    "    plt.legend(numpoints=1, fontsize=16, loc=2)\n",
    "    plt.title('Trajectory from %s to %s' %(dayinit, dayend), fontsize=24)\n",
    "    plt.savefig(os.path.join(figdir, figname), dpi=300)\n",
    "    plt.close()"
   ]
  },
  {
   "cell_type": "code",
   "execution_count": null,
   "metadata": {
    "collapsed": true
   },
   "outputs": [],
   "source": []
  }
 ],
 "metadata": {
  "kernelspec": {
   "display_name": "Python 2",
   "language": "python",
   "name": "python2"
  },
  "language_info": {
   "codemirror_mode": {
    "name": "ipython",
    "version": 2
   },
   "file_extension": ".py",
   "mimetype": "text/x-python",
   "name": "python",
   "nbconvert_exporter": "python",
   "pygments_lexer": "ipython2",
   "version": "2.7.5+"
  }
 },
 "nbformat": 4,
 "nbformat_minor": 0
}
