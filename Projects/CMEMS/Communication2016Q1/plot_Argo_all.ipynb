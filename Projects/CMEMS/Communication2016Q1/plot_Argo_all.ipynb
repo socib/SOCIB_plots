{
 "cells": [
  {
   "cell_type": "markdown",
   "metadata": {},
   "source": [
    "We plot the all the ARGO profilers data corresponding to a given month."
   ]
  },
  {
   "cell_type": "code",
   "execution_count": 9,
   "metadata": {
    "collapsed": true
   },
   "outputs": [],
   "source": [
    "import numpy as np\n",
    "import netCDF4\n",
    "import matplotlib.pyplot as plt\n",
    "import glob\n",
    "import os\n",
    "import seawater\n",
    "import cmocean\n",
    "from matplotlib import rcParams\n",
    "from mpl_toolkits.basemap import Basemap\n",
    "%matplotlib inline"
   ]
  },
  {
   "cell_type": "code",
   "execution_count": 10,
   "metadata": {
    "collapsed": true
   },
   "outputs": [],
   "source": [
    "rcParams.update({'font.size': 16})\n",
    "figdir = \"/home/ctroupin/Projects2/201501_InsTAC/Graphical _Material/2016_Q2/Profilers/\"\n",
    "datadir = \"/data_local/DataOceano/CMEMS/INSITU_GLO_NRT_OBSERVATIONS_013_030/monthly/profiler-glider\"\n",
    "dlon, dlat = 2., 1."
   ]
  },
  {
   "cell_type": "markdown",
   "metadata": {},
   "source": [
    "Create rectangular regions where we will check if we have data"
   ]
  },
  {
   "cell_type": "code",
   "execution_count": 14,
   "metadata": {
    "collapsed": false
   },
   "outputs": [],
   "source": [
    "regions = [[0.0, 30., 30., 45.], \n",
    "           [-50, 0.0, 40., 80.],\n",
    "           [-50., 0.0, -20., 0.],\n",
    "           [100., 150., -60., -40.]] "
   ]
  },
  {
   "cell_type": "code",
   "execution_count": null,
   "metadata": {
    "collapsed": false
   },
   "outputs": [],
   "source": [
    "for key, value in regions.iteritems():\n",
    "    print value"
   ]
  },
  {
   "cell_type": "code",
   "execution_count": 24,
   "metadata": {
    "collapsed": false
   },
   "outputs": [
    {
     "name": "stderr",
     "output_type": "stream",
     "text": [
      "/usr/local/lib/python2.7/dist-packages/matplotlib/collections.py:590: FutureWarning: elementwise comparison failed; returning scalar instead, but in the future will perform elementwise comparison\n",
      "  if self._edgecolors == str('face'):\n"
     ]
    },
    {
     "data": {
      "image/png": "[encoded data removed]",
      "text/plain": [
       "<matplotlib.figure.Figure at 0x5cf7850>"
      ]
     },
     "metadata": {},
     "output_type": "display_data"
    }
   ],
   "source": [
    "datafilelist = sorted(glob.glob(os.path.join(datadir, '*.nc')))\n",
    "fig = plt.figure(figsize=(10, 10))\n",
    "for datafiles in datafilelist[0:100]:\n",
    "    # print('Working on %s' %(datafiles))\n",
    "    figbasename = os.path.basename(datafiles)[:-3]\n",
    "          \n",
    "    # Read the variables from the data file\n",
    "    time, time_units, lon, lat, pressure, temp, temp_qc, psal, psal_qc = read_variables(datafiles)\n",
    "    \n",
    "    # Convert time to dates and change the vector to a 2D array\n",
    "    datesarray = convert_time(time, time_units)\n",
    "    \n",
    "    # Compute initial and final dates\n",
    "    dayinit, dayend = get_init_final_dates(datesarray)\n",
    "    \n",
    "    # Apply QC\n",
    "    temp, psal = apply_qc_variables(temp, temp_qc, psal, psal_qc)\n",
    "    \n",
    "    # Convert pressure to depth using [Soaunders (1981)] formula\n",
    "    depth = seawater.eos80.dpth(pressure, np.tile(lat, (pressure.shape[1], 1)).T)\n",
    "    \n",
    "    # Plots:\n",
    "    # -----------------------------\n",
    "    \n",
    "    psal_surf = psal[:, 0]\n",
    "    plt.scatter(lon, lat, s=15, c=psal_surf, edgecolor='None', cmap=cmocean.cm.temperature)\n",
    "plt.grid()\n",
    "plt.show()\n",
    "    # T-S diagram\n",
    "    # density, density2plot = compute_density()\n",
    "    # plot_TS(temp, psal, depth)\n",
    "    \n",
    "    # Trajectory of the profiler\n",
    "    #plot_trajectory(lon, lat, dlon, dlat, figbasename, dayinit, dayend)"
   ]
  },
  {
   "cell_type": "code",
   "execution_count": 16,
   "metadata": {
    "collapsed": false
   },
   "outputs": [],
   "source": [
    "def read_variables(datafiles):\n",
    "    with netCDF4.Dataset(datafiles) as nc:\n",
    "        time = nc.variables['TIME'][:]\n",
    "        time_units = nc.variables['TIME'].units\n",
    "        lon = nc.variables['LONGITUDE'][:]\n",
    "        lat = nc.variables['LATITUDE'][:]\n",
    "        pressure = nc.variables['PRES'][:]\n",
    "        temp = nc.variables['TEMP'][:]\n",
    "        temp_qc = nc.variables['TEMP_QC'][:]\n",
    "        psal = nc.variables['PSAL'][:]\n",
    "        psal_qc = nc.variables['PSAL_QC'][:]\n",
    "    return time, time_units, lon, lat, pressure, temp, temp_qc, psal, psal_qc"
   ]
  },
  {
   "cell_type": "code",
   "execution_count": 17,
   "metadata": {
    "collapsed": false
   },
   "outputs": [],
   "source": [
    "def convert_time(time, time_units):\n",
    "    '''Convert time to dates and change the vector to a 2D array.'''\n",
    "    dates = netCDF4.num2date(time, time_units)\n",
    "    datesarray = np.tile(dates, (pressure.shape[1], 1)).T\n",
    "    return datesarray"
   ]
  },
  {
   "cell_type": "code",
   "execution_count": 18,
   "metadata": {
    "collapsed": false
   },
   "outputs": [],
   "source": [
    "def get_init_final_dates(datesarray):\n",
    "    '''Compute initial and final dates'''\n",
    "    dayinit = datesarray[0, 0].strftime('%d %B %Y')\n",
    "    dayend = datesarray[-1, 0].strftime('%d %B %Y')\n",
    "    return dayinit, dayend"
   ]
  },
  {
   "cell_type": "code",
   "execution_count": 19,
   "metadata": {
    "collapsed": false
   },
   "outputs": [],
   "source": [
    "def apply_qc_variables(temp, temp_qc, psal, psal_qc):\n",
    "    '''Apply the quality flags (we keep only the good values'''\n",
    "    temp = np.ma.masked_where(temp_qc != 1, temp)\n",
    "    psal = np.ma.masked_where(psal_qc != 1, psal)\n",
    "    # chloro = np.ma.masked_where(chloro_qc > 3., chloro)\n",
    "    return temp, psal"
   ]
  },
  {
   "cell_type": "code",
   "execution_count": 20,
   "metadata": {
    "collapsed": false
   },
   "outputs": [],
   "source": [
    "def plot_TS(temp, psal, depth):\n",
    "    figname = figbasename + '_TSdiagram'\n",
    "    \n",
    "    tmin = np.floor(temp.min())\n",
    "    tmax = np.ceil(temp.max())\n",
    "    smin = np.floor(psal.min())\n",
    "    smax = np.ceil(psal.max())\n",
    "    \n",
    "    # Compute density for different T-S pairs\n",
    "    density2plot = np.arange(24, 30, .5)\n",
    "    ds, dt = 0.05, 0.1\n",
    "    tvec = np.arange(tmin, tmax, dt)\n",
    "    svec = np.arange(smin, smax, ds)\n",
    "    ssvec, ttvec = np.meshgrid(svec, tvec)\n",
    "    density = seawater.eos80.dens0(ssvec, ttvec) - 1000.0\n",
    "    \n",
    "    # Make the plot\n",
    "    fig = plt.figure(figsize=(15, 15))\n",
    "    plt.scatter(psal, temp, s=5, c=depth,\n",
    "               edgecolor='None', cmap=cmocean.cm.swh)\n",
    "    cbar = plt.colorbar()\n",
    "    plt.xlabel('Salinity', fontsize=18)\n",
    "    plt.ylabel('Temperature\\n($^{\\circ}$C)', rotation=0, ha='right', fontsize=18)\n",
    "    cont = plt.contour(svec, tvec, density, levels=density2plot, colors='.65', linestyles='dashed')\n",
    "    plt.clabel(cont,inline=True, fmt='%1.1f')\n",
    "    #plt.xlim(smin, smax)\n",
    "    #plt.ylim(tmin, tmax)\n",
    "    cbar.set_label('Depth\\n(m)', rotation=0, ha='left')\n",
    "    plt.savefig(os.path.join(figdir, figname), dpi=300)\n",
    "    plt.close()"
   ]
  },
  {
   "cell_type": "code",
   "execution_count": 21,
   "metadata": {
    "collapsed": false
   },
   "outputs": [],
   "source": [
    "def plot_trajectory(lon, lat, dlon, dlat, figbasename, dayinit, dayend):\n",
    "    \n",
    "    coordinates = np.floor(lon.min()), np.ceil(lon.max()), np.floor(lat.min()), np.ceil(lat.max())\n",
    "    \n",
    "    m = Basemap(projection='merc', llcrnrlon=coordinates[0], llcrnrlat=coordinates[2],\n",
    "                    urcrnrlon=coordinates[1], urcrnrlat=coordinates[3],\n",
    "                    lat_ts=0.5 * (coordinates[2] + coordinates[3]), resolution='i')\n",
    "    figname = figbasename + '_trajectory'\n",
    "    fig = plt.figure(figsize=(12, 12))\n",
    "\n",
    "    lonproj, latproj = m(lon, lat)\n",
    "    m.plot(lonproj, latproj, 'ko-')\n",
    "    m.plot(lonproj[0], latproj[0], '>g', markersize=15, zorder=2, label='Starting point')\n",
    "    m.plot(lonproj[-1], latproj[-1], 'sr', markersize=15, zorder=2, label='Final point')\n",
    "    m.drawparallels(np.arange(round(coordinates[2]), coordinates[3], dlat), linewidth=0.2,\n",
    "                    labels=[1, 0, 0, 0], fontname='Times New Roman', fontsize=16, zorder=1)\n",
    "    m.drawmeridians(np.arange(round(coordinates[0]), coordinates[1], dlon), linewidth=0.2,\n",
    "                    labels=[0, 0, 0, 1], fontname='Times New Roman', fontsize=16, zorder=1)\n",
    "    m.drawcoastlines()\n",
    "    plt.legend(numpoints=1, fontsize=16, loc=2)\n",
    "    plt.title('Trajectory from %s to %s' %(dayinit, dayend), fontsize=24)\n",
    "    plt.savefig(os.path.join(figdir, figname), dpi=300)\n",
    "    plt.close()"
   ]
  },
  {
   "cell_type": "code",
   "execution_count": 26,
   "metadata": {
    "collapsed": false
   },
   "outputs": [
    {
     "data": {
      "text/plain": [
       "array([-46.83399963, -46.77700043, -46.78699875], dtype=float32)"
      ]
     },
     "execution_count": 26,
     "metadata": {},
     "output_type": "execute_result"
    }
   ],
   "source": [
    "lat"
   ]
  },
  {
   "cell_type": "code",
   "execution_count": null,
   "metadata": {
    "collapsed": true
   },
   "outputs": [],
   "source": []
  }
 ],
 "metadata": {
  "kernelspec": {
   "display_name": "Python 2",
   "language": "python",
   "name": "python2"
  },
  "language_info": {
   "codemirror_mode": {
    "name": "ipython",
    "version": 2
   },
   "file_extension": ".py",
   "mimetype": "text/x-python",
   "name": "python",
   "nbconvert_exporter": "python",
   "pygments_lexer": "ipython2",
   "version": "2.7.5+"
  }
 },
 "nbformat": 4,
 "nbformat_minor": 0
}
