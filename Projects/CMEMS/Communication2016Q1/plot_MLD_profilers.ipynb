{
 "cells": [
  {
   "cell_type": "markdown",
   "metadata": {},
   "source": [
    "The goal is to compute and represent the Mixed Layer Depth (MLD) from the profiles acquired by the Argo profilers.<br>\n",
    "To do so, we will use the [python-oceans](https://github.com/pyoceans/python-oceans) packages, which has a function to compute the MLD."
   ]
  },
  {
   "cell_type": "code",
   "execution_count": 16,
   "metadata": {
    "collapsed": false
   },
   "outputs": [
    {
     "data": {
      "text/plain": [
       "'0.2.5'"
      ]
     },
     "execution_count": 16,
     "metadata": {},
     "output_type": "execute_result"
    }
   ],
   "source": [
    "import numpy as np\n",
    "import netCDF4\n",
    "import matplotlib.pyplot as plt\n",
    "import glob\n",
    "import os\n",
    "import seawater\n",
    "import cmocean\n",
    "from matplotlib import rcParams\n",
    "from mpl_toolkits.basemap import Basemap\n",
    "from matplotlib.ticker import FuncFormatter\n",
    "import logging\n",
    "import oceans\n",
    "%matplotlib inline\n",
    "oceans.__version__"
   ]
  },
  {
   "cell_type": "markdown",
   "metadata": {},
   "source": [
    "## Logging"
   ]
  },
  {
   "cell_type": "code",
   "execution_count": 2,
   "metadata": {
    "collapsed": false
   },
   "outputs": [],
   "source": [
    "def configure_log():\n",
    "    logdir = './log/'\n",
    "    if not(os.path.exists(logdir)):\n",
    "        os.mkdir(logdir)\n",
    "    logfilename = os.path.join(logdir, 'computeMLD.log')\n",
    "    # create logger \n",
    "    logger = logging.getLogger(__name__)\n",
    "    logger.setLevel(logging.WARNING)\n",
    "    # create file handler which logs even debug messages\n",
    "    fh = logging.FileHandler(logfilename)\n",
    "    fh.setLevel(logging.DEBUG)\n",
    "    # create console handler with a higher log level\n",
    "    ch = logging.StreamHandler()\n",
    "    ch.setLevel(logging.CRITICAL)\n",
    "    # create formatter and add it to the handlers\n",
    "    formatter = logging.Formatter('%(asctime)s - %(name)s - %(levelname)s - %(message)s')\n",
    "    fh.setFormatter(formatter)\n",
    "    ch.setFormatter(formatter)\n",
    "    # add the handlers to the logger\n",
    "    logger.addHandler(fh)\n",
    "    logger.addHandler(ch)\n",
    "    return logger"
   ]
  },
  {
   "cell_type": "markdown",
   "metadata": {},
   "source": [
    "# Functions to read and plot"
   ]
  },
  {
   "cell_type": "code",
   "execution_count": 3,
   "metadata": {
    "collapsed": false
   },
   "outputs": [],
   "source": [
    "def read_pressure_profiles(datafiles):\n",
    "    '''\n",
    "    Extract the temperature, salinity and coordinates from a netCDF file.\n",
    "    Convert the depth to pressure if necessary.\n",
    "    Keep only the good values (based on quality flags).\n",
    "    '''\n",
    "    with netCDF4.Dataset(datafiles) as nc:\n",
    "        lon = nc.variables['LONGITUDE'][:]\n",
    "        lat = nc.variables['LATITUDE'][:]\n",
    "        try:\n",
    "            pressure = nc.variables['PRES'][:]\n",
    "        except KeyError:\n",
    "            depth = nc.variables['DEPH'][:]\n",
    "            pressure = seawater.eos80.pres(depth, np.tile(lat, (pressure.shape[1], 1)).T)\n",
    "            logger.info('Converting depth to pressure')\n",
    "        try:\n",
    "            temp = nc.variables['TEMP'][:]\n",
    "            temp_qc = nc.variables['TEMP_QC'][:]\n",
    "        except KeyError:\n",
    "            logger.warning('Temperature not available in the profiles')\n",
    "            temp = np.nan * np.ones_like(depth)\n",
    "            temp_qc = np.nan * np.ones_like(temp)\n",
    "        try: \n",
    "            psal = nc.variables['PSAL'][:]\n",
    "            psal_qc = nc.variables['PSAL_QC'][:]\n",
    "        except KeyError:\n",
    "            logger.warning('Salinity not available in the profiles')\n",
    "            psal = np.nan * np.ones_like(temp)\n",
    "            psal_qc = np.nan * np.ones_like(temp)\n",
    "    temp, psal = apply_qc_variables(temp, temp_qc, psal, psal_qc)\n",
    "    return lon, lat, abs(pressure), temp, psal"
   ]
  },
  {
   "cell_type": "code",
   "execution_count": 4,
   "metadata": {
    "collapsed": false
   },
   "outputs": [],
   "source": [
    "def apply_qc_variables(temp, temp_qc, psal, psal_qc):\n",
    "    '''\n",
    "    Apply the quality flags (we keep only the good values)\n",
    "    '''\n",
    "    temp = np.ma.masked_where(temp_qc != 1, temp)\n",
    "    psal = np.ma.masked_where(psal_qc != 1, psal)\n",
    "    # chloro = np.ma.masked_where(chloro_qc > 3., chloro)\n",
    "    return temp, psal"
   ]
  },
  {
   "cell_type": "code",
   "execution_count": 5,
   "metadata": {
    "collapsed": false
   },
   "outputs": [],
   "source": [
    "def compute_mld_profile(pressure, temperature, salinity):\n",
    "    if np.ma.isMaskedArray(pressure):\n",
    "        pressure = pressure.compressed()\n",
    "        MLD, idx_mld = oceans.ocfis.mld(salinity[:len(pressure)], temperature[:len(pressure)], \n",
    "                                    pressure, criterion='temperature')\n",
    "    else:\n",
    "        MLD, idx_mld = oceans.ocfis.mld(salinity, temperature, \n",
    "                                    pressure, criterion='density')\n",
    "    return MLD"
   ]
  },
  {
   "cell_type": "code",
   "execution_count": 12,
   "metadata": {
    "collapsed": false
   },
   "outputs": [],
   "source": [
    "def make_mld_plot(lon, lat, mld, figname, **kwargs):\n",
    "    m = Basemap(projection='robin', lon_0=0, resolution='c')\n",
    "    lon, lat = m(lon, lat)\n",
    "    fig = plt.figure(figsize=(10, 8))\n",
    "    scat = plt.scatter(lon, lat, s=25, c=mld, edgecolor='None', **kwargs)\n",
    "    cbar = plt.colorbar(extend='max')\n",
    "    m.draw_countries()\n",
    "    # plt.show()\n",
    "    plt.savefig(figname, dpi=300)\n",
    "    plt.close()"
   ]
  },
  {
   "cell_type": "code",
   "execution_count": 36,
   "metadata": {
    "collapsed": false
   },
   "outputs": [],
   "source": [
    "def make_mld_hist(mld, figname):\n",
    "    mld = np.array(mld)\n",
    "    mld = np.ma.masked_where(np.isnan(mld), mld)\n",
    "    \n",
    "    bins = np.linspace(0., 150., 16.)\n",
    "    bins = np.append(bins, (500, 750))\n",
    "    plt.figure(figsize=(10,8))\n",
    "    ax = plt.gca()\n",
    "    plt.hist(mld, range=(0, 150.), bins=bins, \n",
    "             histtype='stepfilled', orientation=\"horizontal\", color='k', \n",
    "             normed=True)\n",
    "    plt.xlabel('Profile frequency')\n",
    "    plt.ylabel('Mixed layer\\ndepth (m)', rotation=0, ha='right')\n",
    "    formatter = FuncFormatter(to_percent)\n",
    "    plt.gca().xaxis.set_major_formatter(formatter)\n",
    "    ax.invert_yaxis()\n",
    "    # plt.show()\n",
    "    plt.savefig(figname, dpi=300)\n",
    "    plt.close()"
   ]
  },
  {
   "cell_type": "code",
   "execution_count": 37,
   "metadata": {
    "collapsed": true
   },
   "outputs": [],
   "source": [
    "def to_percent(y, position):\n",
    "    # Ignore the passed in position. This has the effect of scaling the default\n",
    "    # tick locations.\n",
    "    s = str(100 * y)\n",
    "\n",
    "    # The percent symbol needs escaping in latex\n",
    "    if rcParams['text.usetex'] is True:\n",
    "        return s + r'$\\%$'\n",
    "    else:\n",
    "        return s + '%'"
   ]
  },
  {
   "cell_type": "markdown",
   "metadata": {},
   "source": [
    "# Main loop"
   ]
  },
  {
   "cell_type": "code",
   "execution_count": 38,
   "metadata": {
    "collapsed": false
   },
   "outputs": [],
   "source": [
    "def main():\n",
    "    \n",
    "    logger = configure_log()\n",
    "    \n",
    "    figdir = \"/home/ctroupin/Projects2/201501_InsTAC/Graphical _Material/2016_Q2/MLD\"\n",
    "    datadir = \"/data_local/DataOceano/CMEMS/INSITU_GLO_NRT_OBSERVATIONS_013_030/monthly/profiler-glider\"\n",
    "  \n",
    "    if not(os.path.exists(figdir)):\n",
    "        os.mkdir(figdir)\n",
    "        logger.debug('Create figure directory')\n",
    "\n",
    "    datafilelist = sorted(glob.glob(os.path.join(datadir, '*.nc')))\n",
    "    logger.info(\"Working on {0} files\".format(len(datafilelist)))\n",
    "    \n",
    "    logger.info(\"Initialize lon, lat and mld list\")\n",
    "    lon_all = []\n",
    "    lat_all = []\n",
    "    mld_all = []\n",
    "    \n",
    "    # Loop on the files\n",
    "    for datafiles in datafilelist[:500]:\n",
    "\n",
    "        figbasename = os.path.basename(datafiles)[:-3]\n",
    "        logger.info('Working on %s' %(figbasename))\n",
    "        platformtype = figbasename.split('_')[-2]\n",
    "\n",
    "        # Read the variables from the data file\n",
    "        logger.info('Reading variables from netCDF file')\n",
    "        lon, lat, pressure, temp, psal = read_pressure_profiles(datafiles)\n",
    "\n",
    "        if (np.isnan(psal).all()) or (np.isnan(psal).all()):\n",
    "            logger.info('No salinity or/and temperature to plot')\n",
    "        else:\n",
    "            if platformtype == 'PF':\n",
    "                nprofiles = temp.shape[0]\n",
    "                logger.debug('Computing MLD')\n",
    "                logger.debug('Loop on the %s profiles' %(nprofiles))\n",
    "                for i in range(0, nprofiles):\n",
    "                    mld = compute_mld_profile(pressure[i, :], temp[i, :], psal[i, :])\n",
    "                    lon_all.append(lon[i])\n",
    "                    lat_all.append(lat[i])\n",
    "                    mld_all.append(mld)\n",
    "                    \n",
    "    plt.style.use('../../../stylefiles/socib.mplstyle')\n",
    "    logger.info('Creating scatter plot')                \n",
    "    make_mld_plot(lon_all, lat_all, mld_all, os.path.join(figdir, 'MLD_scatter_201605'),\n",
    "                  vmin=5, vmax=150., cmap=cmocean.cm.density)\n",
    "    \n",
    "    logger.info('Histogram') \n",
    "    make_mld_hist(mld_all, os.path.join(figdir, 'MLD_histogram_201605'))"
   ]
  },
  {
   "cell_type": "code",
   "execution_count": 39,
   "metadata": {
    "collapsed": false
   },
   "outputs": [],
   "source": [
    "if __name__ == '__main__':\n",
    "    main()"
   ]
  },
  {
   "cell_type": "code",
   "execution_count": null,
   "metadata": {
    "collapsed": false
   },
   "outputs": [],
   "source": []
  },
  {
   "cell_type": "code",
   "execution_count": null,
   "metadata": {
    "collapsed": true
   },
   "outputs": [],
   "source": []
  }
 ],
 "metadata": {
  "kernelspec": {
   "display_name": "Python 2",
   "language": "python",
   "name": "python2"
  },
  "language_info": {
   "codemirror_mode": {
    "name": "ipython",
    "version": 2
   },
   "file_extension": ".py",
   "mimetype": "text/x-python",
   "name": "python",
   "nbconvert_exporter": "python",
   "pygments_lexer": "ipython2",
   "version": "2.7.5+"
  }
 },
 "nbformat": 4,
 "nbformat_minor": 0
}
