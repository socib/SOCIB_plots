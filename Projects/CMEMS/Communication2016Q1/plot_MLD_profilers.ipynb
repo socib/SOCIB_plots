{
 "cells": [
  {
   "cell_type": "markdown",
   "metadata": {},
   "source": [
    "The goal is to compute and represent the Mixed Layer Depth (MLD) from the profiles acquired by the Argo profilers.<br>\n",
    "To do so, we will use the [python-oceans](https://github.com/pyoceans/python-oceans) packages, which has a function to compute the MLD."
   ]
  },
  {
   "cell_type": "code",
   "execution_count": 1,
   "metadata": {
    "collapsed": false
   },
   "outputs": [
    {
     "data": {
      "text/plain": [
       "'0.2.5'"
      ]
     },
     "execution_count": 1,
     "metadata": {},
     "output_type": "execute_result"
    }
   ],
   "source": [
    "import numpy as np\n",
    "import netCDF4\n",
    "import matplotlib.pyplot as plt\n",
    "import glob\n",
    "import os\n",
    "import seawater\n",
    "import cmocean\n",
    "from matplotlib import rcParams\n",
    "from mpl_toolkits.basemap import Basemap\n",
    "from matplotlib.ticker import FuncFormatter\n",
    "import logging\n",
    "import oceans\n",
    "# %matplotlib inline\n",
    "oceans.__version__"
   ]
  },
  {
   "cell_type": "markdown",
   "metadata": {},
   "source": [
    "## Logging"
   ]
  },
  {
   "cell_type": "code",
   "execution_count": 2,
   "metadata": {
    "collapsed": false
   },
   "outputs": [],
   "source": [
    "def configure_log():\n",
    "    logdir = './log/'\n",
    "    if not(os.path.exists(logdir)):\n",
    "        os.mkdir(logdir)\n",
    "    logfilename = os.path.join(logdir, 'computeMLD.log')\n",
    "    # create logger \n",
    "    logger = logging.getLogger(__name__)\n",
    "    logger.setLevel(logging.INFO)\n",
    "    # create file handler which logs even debug messages\n",
    "    fh = logging.FileHandler(logfilename)\n",
    "    fh.setLevel(logging.WARNING)\n",
    "    # create console handler with a higher log level\n",
    "    ch = logging.StreamHandler()\n",
    "    ch.setLevel(logging.CRITICAL)\n",
    "    # create formatter and add it to the handlers\n",
    "    formatter = logging.Formatter('%(asctime)s - %(name)s - %(levelname)s - %(message)s')\n",
    "    fh.setFormatter(formatter)\n",
    "    ch.setFormatter(formatter)\n",
    "    # add the handlers to the logger\n",
    "    logger.addHandler(fh)\n",
    "    logger.addHandler(ch)\n",
    "    return logger"
   ]
  },
  {
   "cell_type": "markdown",
   "metadata": {},
   "source": [
    "# Functions to read and plot"
   ]
  },
  {
   "cell_type": "code",
   "execution_count": 3,
   "metadata": {
    "collapsed": false
   },
   "outputs": [],
   "source": [
    "def read_pressure_profiles(datafiles):\n",
    "    '''\n",
    "    Extract the temperature, salinity and coordinates from a netCDF file.\n",
    "    Convert the depth to pressure if necessary.\n",
    "    Keep only the good values (based on quality flags).\n",
    "    '''\n",
    "    with netCDF4.Dataset(datafiles) as nc:\n",
    "        lon = nc.variables['LONGITUDE'][:]\n",
    "        lat = nc.variables['LATITUDE'][:]\n",
    "        try:\n",
    "            pressure = nc.variables['PRES'][:]\n",
    "        except KeyError:\n",
    "            depth = nc.variables['DEPH'][:]\n",
    "            pressure = seawater.eos80.pres(depth, np.tile(lat, (depth.shape[1], 1)).T)\n",
    "            logger.info('Converting depth to pressure')\n",
    "        try:\n",
    "            temp = nc.variables['TEMP'][:]\n",
    "            temp_qc = nc.variables['TEMP_QC'][:]\n",
    "        except KeyError:\n",
    "            logger.warning('Temperature not available in the profiles')\n",
    "            temp = np.nan * np.ones_like(pressure)\n",
    "            temp_qc = np.nan * np.ones_like(temp)\n",
    "        try: \n",
    "            psal = nc.variables['PSAL'][:]\n",
    "            psal_qc = nc.variables['PSAL_QC'][:]\n",
    "        except KeyError:\n",
    "            logger.warning('Salinity not available in the profiles')\n",
    "            psal = np.nan * np.ones_like(temp)\n",
    "            psal_qc = np.nan * np.ones_like(temp)\n",
    "    temp, psal = apply_qc_variables(temp, temp_qc, psal, psal_qc)\n",
    "    return lon, lat, abs(pressure), temp, psal"
   ]
  },
  {
   "cell_type": "code",
   "execution_count": 4,
   "metadata": {
    "collapsed": false
   },
   "outputs": [],
   "source": [
    "def apply_qc_variables(temp, temp_qc, psal, psal_qc):\n",
    "    '''\n",
    "    Apply the quality flags (we keep only the good values)\n",
    "    '''\n",
    "    temp = np.ma.masked_where(temp_qc != 1, temp)\n",
    "    psal = np.ma.masked_where(psal_qc != 1, psal)\n",
    "    # chloro = np.ma.masked_where(chloro_qc > 3., chloro)\n",
    "    return temp, psal"
   ]
  },
  {
   "cell_type": "code",
   "execution_count": 5,
   "metadata": {
    "collapsed": false
   },
   "outputs": [],
   "source": [
    "def compute_mld_profile(pressure, temperature, salinity):\n",
    "    if np.ma.isMaskedArray(pressure):\n",
    "        pressure = pressure.compressed()\n",
    "        MLD, idx_mld = oceans.ocfis.mld(salinity[:len(pressure)], temperature[:len(pressure)], \n",
    "                                    pressure, criterion='temperature')\n",
    "    else:\n",
    "        MLD, idx_mld = oceans.ocfis.mld(salinity, temperature, \n",
    "                                    pressure, criterion='density')\n",
    "    return MLD"
   ]
  },
  {
   "cell_type": "code",
   "execution_count": 6,
   "metadata": {
    "collapsed": false
   },
   "outputs": [],
   "source": [
    "def make_mld_plot(lon, lat, mld, figname, figtitle, **kwargs):\n",
    "    m = Basemap(projection='robin', lon_0=0, resolution='c')\n",
    "    lon, lat = m(lon, lat)\n",
    "    fig = plt.figure(figsize=(10, 8))\n",
    "    plt.title(figtitle)\n",
    "    scat = plt.scatter(lon, lat, s=5, c=mld, edgecolor='None', alpha=0.75, **kwargs)\n",
    "    cbar = plt.colorbar(extend='max', shrink=0.55)\n",
    "    cbar.set_label('MLD\\n(m)', rotation=0, ha='left')\n",
    "    cbar.solids.set(alpha=1)\n",
    "    cbar.set_ticks(range(0, 151, 25))\n",
    "    m.fillcontinents(color='grey', zorder=3)\n",
    "    # m.drawcoastlines(linewidth=0.25, zorder=4)\n",
    "    # plt.show()\n",
    "    plt.savefig(figname, dpi=300)\n",
    "    plt.close()"
   ]
  },
  {
   "cell_type": "code",
   "execution_count": 7,
   "metadata": {
    "collapsed": false
   },
   "outputs": [],
   "source": [
    "def make_mld_hist(mld, figname):\n",
    "    mld = np.array(mld)\n",
    "    mld = np.ma.masked_where(np.isnan(mld), mld)\n",
    "    \n",
    "    bins = np.linspace(0., 150., 16.)\n",
    "    # bins = np.append(bins, (500, 750))\n",
    "    plt.figure(figsize=(10,8))\n",
    "    ax = plt.gca()\n",
    "    plt.hist(mld, range=(0, 150.), bins=bins, \n",
    "             histtype='stepfilled', orientation=\"horizontal\", color='k', \n",
    "             )\n",
    "    plt.xlabel('Profile frequency')\n",
    "    plt.ylabel('Mixed layer\\ndepth (m)', rotation=0, ha='right')\n",
    "    ax.invert_yaxis()\n",
    "    # plt.show()\n",
    "    plt.savefig(figname, dpi=300)\n",
    "    plt.close()"
   ]
  },
  {
   "cell_type": "markdown",
   "metadata": {},
   "source": [
    "# Main loop"
   ]
  },
  {
   "cell_type": "code",
   "execution_count": 10,
   "metadata": {
    "collapsed": false
   },
   "outputs": [],
   "source": [
    "def main():\n",
    "\n",
    "    logger = configure_log()\n",
    "    period = '201601'\n",
    "    figdir = \"/home/ctroupin/Projects2/201501_InsTAC/Graphical_Material/2016_Q2/MLD\"\n",
    "    datadir = \"/data_local/DataOceano/CMEMS/INSITU_GLO_NRT_OBSERVATIONS_013_030/monthly/profiler-glider/\" + period\n",
    "    \n",
    "    if not(os.path.exists(figdir)):\n",
    "        os.mkdir(figdir)\n",
    "        logger.debug('Create figure directory')\n",
    "\n",
    "    datafilelist = sorted(glob.glob(os.path.join(datadir, '*.nc')))\n",
    "    nfiles = len(datafilelist)\n",
    "    logger.info(\"Working on {0} files\".format(nfiles))\n",
    "    \n",
    "    logger.info(\"Initialize lon, lat and mld list\")\n",
    "    lon_all = []\n",
    "    lat_all = []\n",
    "    mld_all = []\n",
    "    \n",
    "    # Loop on the files\n",
    "    fcounter = 0\n",
    "    for datafiles in datafilelist[3955:4000]:\n",
    "\n",
    "        fcounter += 1\n",
    "        figbasename = os.path.basename(datafiles)[:-3]\n",
    "        logger.info('Working on file {0} ({1}/{2})'.format(figbasename, fcounter, nfiles))\n",
    "        platformtype = figbasename.split('_')[-2]\n",
    "        \n",
    "        # Check the platform type (PF = profiler or GL = glider)\n",
    "        if platformtype == 'PF':\n",
    "            logger.info('Reading variables from netCDF file')\n",
    "            lon, lat, pressure, temp, psal = read_pressure_profiles(datafiles)\n",
    "            nprofiles, ndepth = temp.shape\n",
    "            \n",
    "            # Check is temp and/or salt exist\n",
    "            if (np.isnan(temp).all()) or (np.isnan(psal).all()):\n",
    "                logger.info('No salinity or/and temperature to plot')\n",
    "            else:\n",
    "                # Check is the profiles have more than one depth\n",
    "                if (ndepth > 3):\n",
    "                    logger.debug('Computing MLD')\n",
    "                    logger.debug('Loop on the %s profiles' %(nprofiles))\n",
    "                \n",
    "                    for i in range(0, nprofiles):\n",
    "                        try:\n",
    "                            mld = compute_mld_profile(pressure[i, :], temp[i, :], psal[i, :])\n",
    "                            lon_all.append(lon[i])\n",
    "                            lat_all.append(lat[i])\n",
    "                            mld_all.append(mld)\n",
    "                        except IndexError:\n",
    "                            logger.error('arrays used as indices must be of integer (or boolean) type')\n",
    "                else:\n",
    "                    logger.info('Not enough depth levels to compute MLD')\n",
    "                \n",
    "                    \n",
    "    plt.style.use('../../../stylefiles/socib.mplstyle')\n",
    "    logger.info('Creating scatter plot')                \n",
    "    make_mld_plot(lon_all, lat_all, mld_all, os.path.join(figdir, 'MLD_scatter_' + period), 'January 2016',\n",
    "                  vmin=5, vmax=150., cmap=cmocean.cm.density)\n",
    "    \n",
    "    logger.info('Histogram') \n",
    "    make_mld_hist(mld_all, os.path.join(figdir, 'MLD_histogram' + period))"
   ]
  },
  {
   "cell_type": "code",
   "execution_count": 11,
   "metadata": {
    "collapsed": false
   },
   "outputs": [
    {
     "name": "stderr",
     "output_type": "stream",
     "text": [
      "INFO:__main__:Working on 6530 files\n",
      "INFO:__main__:Initialize lon, lat and mld list\n",
      "INFO:__main__:Working on file GL_201601_TS_PF_1900957 (1/6530)\n",
      "INFO:__main__:Reading variables from netCDF file\n",
      "INFO:__main__:Not enough depth levels to compute MLD\n",
      "INFO:__main__:Working on file GL_201601_TS_PF_1900966 (2/6530)\n",
      "INFO:__main__:Reading variables from netCDF file\n",
      "INFO:__main__:Not enough depth levels to compute MLD\n",
      "INFO:__main__:Working on file GL_201601_TS_PF_1900968 (3/6530)\n",
      "INFO:__main__:Reading variables from netCDF file\n",
      "INFO:__main__:Not enough depth levels to compute MLD\n",
      "INFO:__main__:Working on file GL_201601_TS_PF_1900969 (4/6530)\n",
      "INFO:__main__:Reading variables from netCDF file\n",
      "INFO:__main__:Not enough depth levels to compute MLD\n",
      "INFO:__main__:Working on file GL_201601_TS_PF_1900973 (5/6530)\n",
      "INFO:__main__:Reading variables from netCDF file\n",
      "INFO:__main__:Not enough depth levels to compute MLD\n",
      "INFO:__main__:Working on file GL_201601_TS_PF_1900974 (6/6530)\n",
      "INFO:__main__:Reading variables from netCDF file\n",
      "INFO:__main__:Not enough depth levels to compute MLD\n",
      "INFO:__main__:Working on file GL_201601_TS_PF_1900975 (7/6530)\n",
      "INFO:__main__:Reading variables from netCDF file\n",
      "INFO:__main__:Not enough depth levels to compute MLD\n",
      "INFO:__main__:Working on file GL_201601_TS_PF_1900976 (8/6530)\n",
      "INFO:__main__:Reading variables from netCDF file\n",
      "INFO:__main__:Not enough depth levels to compute MLD\n",
      "INFO:__main__:Working on file GL_201601_TS_PF_1900977 (9/6530)\n",
      "INFO:__main__:Reading variables from netCDF file\n",
      "INFO:__main__:Not enough depth levels to compute MLD\n",
      "INFO:__main__:Working on file GL_201601_TS_PF_1900978 (10/6530)\n",
      "INFO:__main__:Reading variables from netCDF file\n",
      "INFO:__main__:Not enough depth levels to compute MLD\n",
      "INFO:__main__:Working on file GL_201601_TS_PF_1900979 (11/6530)\n",
      "INFO:__main__:Reading variables from netCDF file\n",
      "INFO:__main__:Not enough depth levels to compute MLD\n",
      "INFO:__main__:Working on file GL_201601_TS_PF_1900980 (12/6530)\n",
      "INFO:__main__:Reading variables from netCDF file\n",
      "INFO:__main__:Not enough depth levels to compute MLD\n",
      "INFO:__main__:Working on file GL_201601_TS_PF_1900989 (13/6530)\n",
      "INFO:__main__:Reading variables from netCDF file\n",
      "INFO:__main__:Not enough depth levels to compute MLD\n",
      "INFO:__main__:Working on file GL_201601_TS_PF_1900998 (14/6530)\n",
      "INFO:__main__:Reading variables from netCDF file\n",
      "INFO:__main__:Not enough depth levels to compute MLD\n",
      "INFO:__main__:Working on file GL_201601_TS_PF_1901000 (15/6530)\n",
      "INFO:__main__:Reading variables from netCDF file\n",
      "INFO:__main__:Not enough depth levels to compute MLD\n",
      "INFO:__main__:Working on file GL_201601_TS_PF_1901001 (16/6530)\n",
      "INFO:__main__:Reading variables from netCDF file\n",
      "INFO:__main__:Not enough depth levels to compute MLD\n",
      "INFO:__main__:Working on file GL_201601_TS_PF_1901002 (17/6530)\n",
      "INFO:__main__:Reading variables from netCDF file\n",
      "INFO:__main__:Not enough depth levels to compute MLD\n",
      "INFO:__main__:Working on file GL_201601_TS_PF_1901004 (18/6530)\n",
      "INFO:__main__:Reading variables from netCDF file\n",
      "INFO:__main__:Not enough depth levels to compute MLD\n",
      "INFO:__main__:Working on file GL_201601_TS_PF_1901005 (19/6530)\n",
      "INFO:__main__:Reading variables from netCDF file\n",
      "INFO:__main__:Not enough depth levels to compute MLD\n",
      "INFO:__main__:Working on file GL_201601_TS_PF_1901049 (20/6530)\n",
      "INFO:__main__:Reading variables from netCDF file\n",
      "INFO:__main__:Not enough depth levels to compute MLD\n",
      "INFO:__main__:Working on file GL_201601_TS_PF_1901117 (21/6530)\n",
      "INFO:__main__:Reading variables from netCDF file\n",
      "INFO:__main__:Not enough depth levels to compute MLD\n",
      "INFO:__main__:Working on file GL_201601_TS_PF_1901118 (22/6530)\n",
      "INFO:__main__:Reading variables from netCDF file\n",
      "INFO:__main__:Not enough depth levels to compute MLD\n",
      "INFO:__main__:Working on file GL_201601_TS_PF_1901126 (23/6530)\n",
      "INFO:__main__:Reading variables from netCDF file\n",
      "INFO:__main__:Not enough depth levels to compute MLD\n",
      "INFO:__main__:Working on file GL_201601_TS_PF_1901127 (24/6530)\n",
      "INFO:__main__:Reading variables from netCDF file\n",
      "INFO:__main__:Not enough depth levels to compute MLD\n",
      "INFO:__main__:Working on file GL_201601_TS_PF_1901128 (25/6530)\n",
      "INFO:__main__:Reading variables from netCDF file\n",
      "INFO:__main__:Not enough depth levels to compute MLD\n",
      "INFO:__main__:Working on file GL_201601_TS_PF_1901130 (26/6530)\n",
      "INFO:__main__:Reading variables from netCDF file\n",
      "INFO:__main__:Not enough depth levels to compute MLD\n",
      "INFO:__main__:Working on file GL_201601_TS_PF_1901131 (27/6530)\n",
      "INFO:__main__:Reading variables from netCDF file\n",
      "INFO:__main__:Not enough depth levels to compute MLD\n",
      "INFO:__main__:Working on file GL_201601_TS_PF_1901145 (28/6530)\n",
      "INFO:__main__:Reading variables from netCDF file\n",
      "INFO:__main__:Not enough depth levels to compute MLD\n",
      "INFO:__main__:Working on file GL_201601_TS_PF_1901153 (29/6530)\n",
      "INFO:__main__:Reading variables from netCDF file\n",
      "INFO:__main__:Not enough depth levels to compute MLD\n",
      "INFO:__main__:Working on file GL_201601_TS_PF_1901154 (30/6530)\n",
      "INFO:__main__:Reading variables from netCDF file\n",
      "INFO:__main__:Not enough depth levels to compute MLD\n",
      "INFO:__main__:Working on file GL_201601_TS_PF_1901155 (31/6530)\n",
      "INFO:__main__:Reading variables from netCDF file\n",
      "INFO:__main__:Not enough depth levels to compute MLD\n",
      "INFO:__main__:Working on file GL_201601_TS_PF_1901157 (32/6530)\n",
      "INFO:__main__:Reading variables from netCDF file\n",
      "INFO:__main__:Not enough depth levels to compute MLD\n",
      "INFO:__main__:Working on file GL_201601_TS_PF_1901159 (33/6530)\n",
      "INFO:__main__:Reading variables from netCDF file\n",
      "INFO:__main__:Not enough depth levels to compute MLD\n",
      "INFO:__main__:Working on file GL_201601_TS_PF_1901163 (34/6530)\n",
      "INFO:__main__:Reading variables from netCDF file\n",
      "INFO:__main__:Not enough depth levels to compute MLD\n",
      "INFO:__main__:Working on file GL_201601_TS_PF_1901165 (35/6530)\n",
      "INFO:__main__:Reading variables from netCDF file\n",
      "INFO:__main__:Not enough depth levels to compute MLD\n",
      "INFO:__main__:Working on file GL_201601_TS_PF_1901204 (36/6530)\n",
      "INFO:__main__:Reading variables from netCDF file\n",
      "WARNING:__main__:Temperature not available in the profiles\n",
      "WARNING:__main__:Salinity not available in the profiles\n",
      "INFO:__main__:Not enough depth levels to compute MLD\n",
      "INFO:__main__:Working on file GL_201601_TS_PF_1901320 (37/6530)\n",
      "INFO:__main__:Reading variables from netCDF file\n",
      "INFO:__main__:Not enough depth levels to compute MLD\n",
      "INFO:__main__:Working on file GL_201601_TS_PF_1901324 (38/6530)\n",
      "INFO:__main__:Reading variables from netCDF file\n",
      "INFO:__main__:Not enough depth levels to compute MLD\n",
      "INFO:__main__:Working on file GL_201601_TS_PF_1901325 (39/6530)\n",
      "INFO:__main__:Reading variables from netCDF file\n",
      "INFO:__main__:Not enough depth levels to compute MLD\n",
      "INFO:__main__:Working on file GL_201601_TS_PF_1901330 (40/6530)\n",
      "INFO:__main__:Reading variables from netCDF file\n",
      "INFO:__main__:Not enough depth levels to compute MLD\n",
      "INFO:__main__:Working on file GL_201601_TS_PF_1901358 (41/6530)\n",
      "INFO:__main__:Reading variables from netCDF file\n",
      "WARNING:__main__:Temperature not available in the profiles\n",
      "WARNING:__main__:Salinity not available in the profiles\n",
      "INFO:__main__:Not enough depth levels to compute MLD\n",
      "INFO:__main__:Working on file GL_201601_TS_PF_1901359 (42/6530)\n",
      "INFO:__main__:Reading variables from netCDF file\n",
      "WARNING:__main__:Temperature not available in the profiles\n",
      "WARNING:__main__:Salinity not available in the profiles\n",
      "INFO:__main__:Not enough depth levels to compute MLD\n",
      "INFO:__main__:Working on file GL_201601_TS_PF_1901361 (43/6530)\n",
      "INFO:__main__:Reading variables from netCDF file\n",
      "WARNING:__main__:Temperature not available in the profiles\n",
      "WARNING:__main__:Salinity not available in the profiles\n",
      "INFO:__main__:Not enough depth levels to compute MLD\n",
      "INFO:__main__:Working on file GL_201601_TS_PF_1901365 (44/6530)\n",
      "INFO:__main__:Reading variables from netCDF file\n",
      "WARNING:__main__:Temperature not available in the profiles\n",
      "WARNING:__main__:Salinity not available in the profiles\n",
      "INFO:__main__:Not enough depth levels to compute MLD\n",
      "INFO:__main__:Working on file GL_201601_TS_PF_1901369 (45/6530)\n",
      "INFO:__main__:Reading variables from netCDF file\n",
      "INFO:__main__:Not enough depth levels to compute MLD\n",
      "INFO:__main__:Creating scatter plot\n",
      "INFO:__main__:Histogram\n"
     ]
    }
   ],
   "source": [
    "if __name__ == '__main__':\n",
    "    logger = configure_log()\n",
    "    main()"
   ]
  },
  {
   "cell_type": "code",
   "execution_count": 54,
   "metadata": {
    "collapsed": false
   },
   "outputs": [
    {
     "name": "stderr",
     "output_type": "stream",
     "text": [
      "WARNING:__main__:Temperature not available in the profiles\n",
      "WARNING:__main__:Salinity not available in the profiles\n"
     ]
    }
   ],
   "source": [
    "period = '201601'\n",
    "figdir = \"/home/ctroupin/Projects2/201501_InsTAC/Graphical_Material/2016_Q2/MLD\"\n",
    "datadir = \"/data_local/DataOceano/CMEMS/INSITU_GLO_NRT_OBSERVATIONS_013_030/monthly/profiler-glider/\" + period\n",
    "datafile = 'GL_201601_TS_PF_1901204.nc'\n",
    "lon, lat, pressure, temp, psal = read_pressure_profiles(os.path.join(datadir, datafile))"
   ]
  }
 ],
 "metadata": {
  "kernelspec": {
   "display_name": "Python 2",
   "language": "python",
   "name": "python2"
  },
  "language_info": {
   "codemirror_mode": {
    "name": "ipython",
    "version": 2
   },
   "file_extension": ".py",
   "mimetype": "text/x-python",
   "name": "python",
   "nbconvert_exporter": "python",
   "pygments_lexer": "ipython2",
   "version": "2.7.5+"
  }
 },
 "nbformat": 4,
 "nbformat_minor": 0
}
