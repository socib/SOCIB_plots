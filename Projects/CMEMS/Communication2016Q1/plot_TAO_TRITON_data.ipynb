{
 "cells": [
  {
   "cell_type": "code",
   "execution_count": 1,
   "metadata": {
    "collapsed": true
   },
   "outputs": [],
   "source": [
    "import numpy as np\n",
    "import os\n",
    "import glob\n",
    "import netCDF4\n",
    "import matplotlib.pyplot as plt\n",
    "from mpl_toolkits.basemap import Basemap\n",
    "%matplotlib inline"
   ]
  },
  {
   "cell_type": "code",
   "execution_count": 2,
   "metadata": {
    "collapsed": true
   },
   "outputs": [],
   "source": [
    "datadir = \"/data_local/DataOceano/CMEMS/INSITU_GLO_NRT_OBSERVATIONS_013_030\"\n",
    "figdir = \"/data_local/DataOceano/CMEMS/INSITU_GLO_NRT_OBSERVATIONS_013_030/figures\"\n",
    "datafilename ='*nc'"
   ]
  },
  {
   "cell_type": "code",
   "execution_count": 3,
   "metadata": {
    "collapsed": true
   },
   "outputs": [],
   "source": [
    "if not os.path.exists(figdir):\n",
    "    os.mkdir(figdir)"
   ]
  },
  {
   "cell_type": "markdown",
   "metadata": {},
   "source": [
    "Create a list of files"
   ]
  },
  {
   "cell_type": "code",
   "execution_count": 4,
   "metadata": {
    "collapsed": false
   },
   "outputs": [
    {
     "name": "stdout",
     "output_type": "stream",
     "text": [
      "5 file(s) in the list\n"
     ]
    }
   ],
   "source": [
    "filelist = sorted(glob.glob(os.path.join(datadir, datafilename)))\n",
    "print(\"%d file(s) in the list\" %len(filelist))"
   ]
  },
  {
   "cell_type": "markdown",
   "metadata": {},
   "source": [
    "## Read file information"
   ]
  },
  {
   "cell_type": "code",
   "execution_count": 5,
   "metadata": {
    "collapsed": false
   },
   "outputs": [],
   "source": [
    "def readdataQC(datafile):\n",
    "    with netCDF4.Dataset(datafile) as nc:\n",
    "        time = nc.variables['TIME'][:]\n",
    "        time_units = nc.variables['TIME'].units\n",
    "        depth = nc.variables['DEPH'][:]\n",
    "        depthQC = nc.variables['DEPH_QC'][:]\n",
    "        timearray = np.tile(time, (depth.shape[1],1))\n",
    "        temperature = nc.variables['TEMP'][:]\n",
    "        temperatureQC = nc.variables['TEMP_QC'][:]\n",
    "        temperature = np.ma.masked_where(temperatureQC!=1, temperature)\n",
    "        depth = np.ma.masked_where(depthQC!=1, depth)\n",
    "        dates = netCDF4.num2date(time, time_units)\n",
    "        datesarray = np.tile(dates, (depth.shape[1],1))\n",
    "    return timearray, datesarray, depth, temperature"
   ]
  },
  {
   "cell_type": "markdown",
   "metadata": {},
   "source": [
    "## Create plot"
   ]
  },
  {
   "cell_type": "code",
   "execution_count": 6,
   "metadata": {
    "collapsed": false
   },
   "outputs": [],
   "source": [
    "def plot_depth_time_temp(timearray, depth, temperature):\n",
    "    fig = plt.figure(figsize=(15,8))\n",
    "    plt.subplot(131)\n",
    "    plt.pcolormesh(depth.T)\n",
    "    plt.colorbar()\n",
    "    plt.subplot(132)\n",
    "    plt.pcolormesh(timearray)\n",
    "    plt.colorbar()\n",
    "    plt.subplot(133)\n",
    "    plt.pcolormesh(temperature.T)\n",
    "    plt.colorbar()"
   ]
  },
  {
   "cell_type": "code",
   "execution_count": 7,
   "metadata": {
    "collapsed": false
   },
   "outputs": [],
   "source": [
    "def plot_temp(datesarray, depth, temperature):\n",
    "    fig = plt.figure(figsize=(15,8))\n",
    "    plt.pcolor(datesarray, depth.T, temperature.T)\n",
    "    # plt.xlim(timearray.min(), timearray.max())\n",
    "    plt.ylim(depth.min(), depth.max())\n",
    "    ax = plt.gca()\n",
    "    ax.invert_yaxis()\n",
    "    fig.autofmt_xdate()\n",
    "    return plt"
   ]
  },
  {
   "cell_type": "code",
   "execution_count": 20,
   "metadata": {
    "collapsed": true
   },
   "outputs": [],
   "source": [
    "def plot_surface_temp(datesarray, temperature):\n",
    "    print datesarray.shape\n",
    "    print temperature.T.shape\n",
    "    fig = plt.figure(figsize=(15,8))\n",
    "    plt.plot(temperature[:,0].T)\n",
    "    # fig.autofmt_xdate()\n",
    "    return plt"
   ]
  },
  {
   "cell_type": "markdown",
   "metadata": {},
   "source": [
    "# Main loop"
   ]
  },
  {
   "cell_type": "code",
   "execution_count": 21,
   "metadata": {
    "collapsed": false
   },
   "outputs": [
    {
     "name": "stdout",
     "output_type": "stream",
     "text": [
      "/data_local/DataOceano/CMEMS/INSITU_GLO_NRT_OBSERVATIONS_013_030/GL_TS_MO_T0N110W.nc\n",
      "(22, 101203)\n",
      "(22, 101203)\n",
      "/data_local/DataOceano/CMEMS/INSITU_GLO_NRT_OBSERVATIONS_013_030/GL_TS_MO_T0N140W.nc\n",
      "(15, 10840)\n",
      "(15, 10840)\n",
      "/data_local/DataOceano/CMEMS/INSITU_GLO_NRT_OBSERVATIONS_013_030/GL_TS_MO_T0N155W.nc\n",
      "(13, 150765)\n",
      "(13, 150765)\n",
      "/data_local/DataOceano/CMEMS/INSITU_GLO_NRT_OBSERVATIONS_013_030/GL_TS_MO_T0N170W.nc\n",
      "(19, 219480)\n",
      "(19, 219480)\n",
      "/data_local/DataOceano/CMEMS/INSITU_GLO_NRT_OBSERVATIONS_013_030/GL_TS_MO_T0N180W.nc\n",
      "(13, 216115)\n",
      "(13, 216115)\n"
     ]
    }
   ],
   "source": [
    "for datafile in filelist:\n",
    "    print datafile\n",
    "    timearray, datesarray, depth, temperature = readdataQC(datafile)\n",
    "    #plt = plot_temp(datesarray, depth, temperature)\n",
    "    #figname = os.path.basename(datafile).replace('.','_') + '.png'\n",
    "    #print figname\n",
    "    #plt.savefig(os.path.join(figdir, figname))\n",
    "    #plt.close()\n",
    "    figname = os.path.basename(datafile).replace('.','_') + '_timeseries.png'\n",
    "    plt = plot_surface_temp(datesarray, temperature)\n",
    "    plt.savefig(os.path.join(figdir, figname))\n",
    "    plt.close()"
   ]
  },
  {
   "cell_type": "code",
   "execution_count": null,
   "metadata": {
    "collapsed": true
   },
   "outputs": [],
   "source": []
  }
 ],
 "metadata": {
  "kernelspec": {
   "display_name": "Python 2",
   "language": "python",
   "name": "python2"
  },
  "language_info": {
   "codemirror_mode": {
    "name": "ipython",
    "version": 2
   },
   "file_extension": ".py",
   "mimetype": "text/x-python",
   "name": "python",
   "nbconvert_exporter": "python",
   "pygments_lexer": "ipython2",
   "version": "2.7.5+"
  }
 },
 "nbformat": 4,
 "nbformat_minor": 0
}
