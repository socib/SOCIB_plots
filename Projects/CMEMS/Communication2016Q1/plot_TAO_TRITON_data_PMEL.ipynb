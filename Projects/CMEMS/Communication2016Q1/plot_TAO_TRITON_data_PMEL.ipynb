{
 "cells": [
  {
   "cell_type": "code",
   "execution_count": 53,
   "metadata": {
    "collapsed": true
   },
   "outputs": [],
   "source": [
    "import numpy as np\n",
    "import os\n",
    "import glob\n",
    "import netCDF4\n",
    "import matplotlib.pyplot as plt\n",
    "from mpl_toolkits.basemap import Basemap\n",
    "%matplotlib inline\n",
    "import matplotlib as mpl\n",
    "mpl.rcParams.update({'font.size': 20, 'font.family': 'Times New Roman'})"
   ]
  },
  {
   "cell_type": "code",
   "execution_count": 43,
   "metadata": {
    "collapsed": true
   },
   "outputs": [],
   "source": [
    "datadir = \"/data_local/TAOTRITON\"\n",
    "figdir = \"/data_local/TAOTRITON/figures\"\n",
    "datafilename ='*cdf'"
   ]
  },
  {
   "cell_type": "code",
   "execution_count": 47,
   "metadata": {
    "collapsed": true
   },
   "outputs": [],
   "source": [
    "cmap = plt.cm.YlOrRd"
   ]
  },
  {
   "cell_type": "markdown",
   "metadata": {},
   "source": [
    "Create a list of files"
   ]
  },
  {
   "cell_type": "code",
   "execution_count": 45,
   "metadata": {
    "collapsed": false
   },
   "outputs": [
    {
     "name": "stdout",
     "output_type": "stream",
     "text": [
      "13 file(s) in the list\n"
     ]
    }
   ],
   "source": [
    "filelist = sorted(glob.glob(os.path.join(datadir, datafilename)))\n",
    "print(\"%d file(s) in the list\" %len(filelist))"
   ]
  },
  {
   "cell_type": "markdown",
   "metadata": {},
   "source": [
    "Create figure directory if necessary"
   ]
  },
  {
   "cell_type": "code",
   "execution_count": 46,
   "metadata": {
    "collapsed": true
   },
   "outputs": [],
   "source": [
    "if not os.path.exists(figdir):\n",
    "    os.mkdir(figdir)"
   ]
  },
  {
   "cell_type": "markdown",
   "metadata": {},
   "source": [
    "## Read file information"
   ]
  },
  {
   "cell_type": "code",
   "execution_count": null,
   "metadata": {
    "collapsed": false
   },
   "outputs": [],
   "source": [
    "def readdata(datafile):\n",
    "    with netCDF4.Dataset(datafile) as nc:\n",
    "        time = nc.variables['time'][:]\n",
    "        time_units = nc.variables['time'].units\n",
    "        depth = nc.variables['depth'][:]\n",
    "        temperature = nc.variables['T_20'][:]\n",
    "        #temperatureQC = nc.variables['QT_5020'][:]\n",
    "        #temperature = np.ma.masked_where(temperatureQC!=1, temperature)\n",
    "        dates = netCDF4.num2date(time, units=time_units)\n",
    "    return dates, depth, temperature"
   ]
  },
  {
   "cell_type": "markdown",
   "metadata": {},
   "source": [
    "## Make a plot"
   ]
  },
  {
   "cell_type": "code",
   "execution_count": 56,
   "metadata": {
    "collapsed": false
   },
   "outputs": [],
   "source": [
    "def plotdata(dates, depth, temperature):\n",
    "    fig = plt.figure(figsize=(8, 8))\n",
    "    plt.pcolor(dates, depth, temperature[:,:,0,0].T, cmap=cmap)\n",
    "    plt.colorbar()\n",
    "    plt.xlabel('Time')\n",
    "    plt.ylabel('Depth (m)')\n",
    "    ax = plt.gca()\n",
    "    ax.invert_yaxis()\n",
    "    fig.autofmt_xdate()\n",
    "    return plt"
   ]
  },
  {
   "cell_type": "markdown",
   "metadata": {
    "collapsed": true
   },
   "source": [
    "# Main loop"
   ]
  },
  {
   "cell_type": "code",
   "execution_count": null,
   "metadata": {
    "collapsed": false
   },
   "outputs": [
    {
     "name": "stdout",
     "output_type": "stream",
     "text": [
      "/data_local/TAOTRITON/t0.7n110w_dy.cdf\n",
      "t0_7n110w_dy_cdf.png\n",
      "/data_local/TAOTRITON/t0.7s110w_dy.cdf\n",
      "t0_7s110w_dy_cdf.png\n",
      "/data_local/TAOTRITON/t0n110.5w_dy.cdf\n",
      "t0n110_5w_dy_cdf.png\n",
      "/data_local/TAOTRITON/t0n110w_dy.cdf"
     ]
    }
   ],
   "source": [
    "for datafile in filelist:\n",
    "    print datafile\n",
    "    dates, depth, temperature = readdata(datafile)\n",
    "    plt = plotdata(dates, depth, temperature)\n",
    "    figname = os.path.basename(datafile).replace('.','_') + '.png'\n",
    "    print figname\n",
    "    plt.savefig(os.path.join(figdir, figname))\n",
    "    plt.close()"
   ]
  },
  {
   "cell_type": "code",
   "execution_count": null,
   "metadata": {
    "collapsed": true
   },
   "outputs": [],
   "source": []
  }
 ],
 "metadata": {
  "kernelspec": {
   "display_name": "Python 2",
   "language": "python",
   "name": "python2"
  },
  "language_info": {
   "codemirror_mode": {
    "name": "ipython",
    "version": 2
   },
   "file_extension": ".py",
   "mimetype": "text/x-python",
   "name": "python",
   "nbconvert_exporter": "python",
   "pygments_lexer": "ipython2",
   "version": "2.7.5+"
  }
 },
 "nbformat": 4,
 "nbformat_minor": 0
}
