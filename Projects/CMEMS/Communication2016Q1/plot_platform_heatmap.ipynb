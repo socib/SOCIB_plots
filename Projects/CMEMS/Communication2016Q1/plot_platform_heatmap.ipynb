{
 "cells": [
  {
   "cell_type": "markdown",
   "metadata": {},
   "source": [
    "**Goal:** plot a heatmap based on the platform locations.<br>\n",
    "We can use the tools developed in plot_TS_diagram_all."
   ]
  },
  {
   "cell_type": "code",
   "execution_count": 1,
   "metadata": {
    "collapsed": false
   },
   "outputs": [
    {
     "name": "stderr",
     "output_type": "stream",
     "text": [
      "INFO:plot_TS_diagram_all:+++ Start new run +++\n"
     ]
    }
   ],
   "source": [
    "import plot_TS_diagram_all\n",
    "import folium\n",
    "import glob\n",
    "import logging\n",
    "import numpy as np\n",
    "import os\n",
    "import logging\n",
    "from geopy.geocoders import Nominatim\n",
    "from folium import plugins"
   ]
  },
  {
   "cell_type": "code",
   "execution_count": 2,
   "metadata": {
    "collapsed": true
   },
   "outputs": [],
   "source": [
    "def configure_log():\n",
    "    logdir = './log/'\n",
    "    if not(os.path.exists(logdir)):\n",
    "        os.mkdir(logdir)\n",
    "    logfilename = os.path.join(logdir, 'Profiler_heatmap.log')\n",
    "\n",
    "    # create logger \n",
    "    logger = logging.getLogger(__name__)\n",
    "    logger.setLevel(logging.WARNING)\n",
    "    # create file handler which logs even debug messages\n",
    "    fh = logging.FileHandler(logfilename)\n",
    "    fh.setLevel(logging.DEBUG)\n",
    "    # create console handler with a higher log level\n",
    "    #ch = logging.StreamHandler()\n",
    "    #ch.setLevel(logging.CRITICAL)\n",
    "    # create formatter and add it to the handlers\n",
    "    formatter = logging.Formatter('%(asctime)s - %(name)s - %(levelname)s - %(message)s')\n",
    "    fh.setFormatter(formatter)\n",
    "    #ch.setFormatter(formatter)\n",
    "    # add the handlers to the logger\n",
    "    logger.addHandler(fh)\n",
    "    #logger.addHandler(ch)\n",
    "    logger.info('+++ Start new run +++')\n",
    "    return logger"
   ]
  },
  {
   "cell_type": "code",
   "execution_count": 21,
   "metadata": {
    "collapsed": true
   },
   "outputs": [],
   "source": [
    "def main():\n",
    "    \n",
    "    datadir = \"/data_local/DataOceano/CMEMS/INSITU_GLO_NRT_OBSERVATIONS_013_030/monthly/profiler-glider/201601\"\n",
    "    outputdir = \"/home/ctroupin/public_html/LeafletMaps\"\n",
    "    tile_url='http://services.arcgisonline.com/ArcGIS/rest/services/Canvas/World_Dark_Gray_Base/MapServer/tile/{z}/{y}/{x}'\n",
    "\n",
    "    logger = configure_log()\n",
    "        \n",
    "    if not(os.path.exists(outputdir)):\n",
    "        os.mkdir(outputdir)\n",
    "        logger.debug('Create output directory:')\n",
    "        logger.debug(outputdir)\n",
    "\n",
    "    datafilelist = sorted(glob.glob(os.path.join(datadir, '*.nc')))\n",
    "    logger.info(\"Working on {0} files\".format(len(datafilelist)))\n",
    "    \n",
    "    logger.info('Creating a new map')\n",
    "    map_platform = folium.Map(location=[0.0, 0.0], zoom_start=4,\n",
    "                              tiles=tile_url, attr='World Ocean Base')\n",
    "\n",
    "    # Loop on the files\n",
    "    coords_all = []\n",
    "    for datafiles in datafilelist:\n",
    "\n",
    "        figbasename = os.path.basename(datafiles)[:-3]\n",
    "        logger.info('Working on %s' %(figbasename))\n",
    "        platformtype = figbasename.split('_')[-2]\n",
    "\n",
    "        # Read the variables from the data file\n",
    "        logger.info('Reading variables from netCDF file')\n",
    "        time, time_units, lon, lat, depth, temp, psal = plot_TS_diagram_all.read_variables(datafiles)\n",
    "        \n",
    "        try:\n",
    "\n",
    "            coords = [(lati, loni) for loni, lati in zip(lon, lat)]\n",
    "            # folium.PolyLine(coords, color=\"red\", weight=3).add_to(map_platform)\n",
    "            coords_all.append((lat.mean(), lon.mean()))\n",
    "            # folium.plugins.HeatMap(coords, radius=10).add_to(map_platform)\n",
    "        except ValueError:\n",
    "            logger.error('Problem with coordinates in file %s' %(figbasename))\n",
    "\n",
    "        \n",
    "    #folium.plugins.HeatMap(coords_all).add_to(map_platform)\n",
    "    #for cc in coords_all:\n",
    "    #    folium.Marker(cc).add_to(map_platform)\n",
    "    folium.plugins.HeatMap(coords_all, radius=10, blur=5).add_to(map_platform)\n",
    "    logger.info('Saving leaflet map in %s directory' %(outputdir))\n",
    "    map_platform.save(os.path.join(outputdir, 'test2.html'))\n",
    "    map_platform"
   ]
  },
  {
   "cell_type": "code",
   "execution_count": 22,
   "metadata": {
    "collapsed": false
   },
   "outputs": [
    {
     "name": "stderr",
     "output_type": "stream",
     "text": [
      "ERROR:__main__:Problem with coordinates in file GL_201605_PR_PF_1901423\n",
      "ERROR:__main__:Problem with coordinates in file GL_201605_PR_PF_2902497\n",
      "ERROR:__main__:Problem with coordinates in file GL_201605_PR_PF_4901298\n",
      "ERROR:__main__:Problem with coordinates in file GL_201605_PR_PF_4901579\n",
      "ERROR:__main__:Problem with coordinates in file GL_201605_PR_PF_4901652\n",
      "ERROR:__main__:Problem with coordinates in file GL_201605_PR_PF_4902085\n",
      "ERROR:__main__:Problem with coordinates in file GL_201605_PR_PF_4902102\n",
      "ERROR:__main__:Problem with coordinates in file GL_201605_PR_PF_4902134\n",
      "ERROR:__main__:Problem with coordinates in file GL_201605_PR_PF_5902078\n",
      "ERROR:__main__:Problem with coordinates in file GL_201605_PR_PF_5903436\n",
      "ERROR:__main__:Problem with coordinates in file GL_201605_PR_PF_5903887\n",
      "ERROR:__main__:Problem with coordinates in file GL_201605_PR_PF_5903974\n",
      "ERROR:__main__:Problem with coordinates in file GL_201605_PR_PF_5903982\n",
      "ERROR:__main__:Problem with coordinates in file GL_201605_PR_PF_5903987\n",
      "ERROR:__main__:Problem with coordinates in file GL_201605_PR_PF_5904659\n",
      "WARNING:plot_TS_diagram_all:Salinity not available in the profiles\n",
      "WARNING:plot_TS_diagram_all:Salinity not available in the profiles\n",
      "WARNING:plot_TS_diagram_all:Salinity not available in the profiles\n",
      "WARNING:plot_TS_diagram_all:Salinity not available in the profiles\n",
      "WARNING:plot_TS_diagram_all:Salinity not available in the profiles\n",
      "WARNING:plot_TS_diagram_all:Salinity not available in the profiles\n",
      "WARNING:plot_TS_diagram_all:Salinity not available in the profiles\n",
      "WARNING:plot_TS_diagram_all:Salinity not available in the profiles\n",
      "WARNING:plot_TS_diagram_all:Salinity not available in the profiles\n",
      "WARNING:plot_TS_diagram_all:Salinity not available in the profiles\n",
      "WARNING:plot_TS_diagram_all:Salinity not available in the profiles\n",
      "WARNING:plot_TS_diagram_all:Salinity not available in the profiles\n"
     ]
    }
   ],
   "source": [
    "if __name__ == \"__main__\":\n",
    "    main()"
   ]
  },
  {
   "cell_type": "code",
   "execution_count": null,
   "metadata": {
    "collapsed": true
   },
   "outputs": [],
   "source": []
  }
 ],
 "metadata": {
  "kernelspec": {
   "display_name": "Python 2",
   "language": "python",
   "name": "python2"
  },
  "language_info": {
   "codemirror_mode": {
    "name": "ipython",
    "version": 2
   },
   "file_extension": ".py",
   "mimetype": "text/x-python",
   "name": "python",
   "nbconvert_exporter": "python",
   "pygments_lexer": "ipython2",
   "version": "2.7.5+"
  }
 },
 "nbformat": 4,
 "nbformat_minor": 0
}
