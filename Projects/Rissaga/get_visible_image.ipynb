{
 "cells": [
  {
   "cell_type": "code",
   "execution_count": 47,
   "metadata": {
    "collapsed": true
   },
   "outputs": [],
   "source": [
    "import requests\n",
    "import shutil\n",
    "import datetime\n",
    "import os"
   ]
  },
  {
   "cell_type": "markdown",
   "metadata": {},
   "source": [
    "Download visible images from https://worldview.earthdata.nasa.gov using MODIS Aqua, Terra, or VIIRS SNPP."
   ]
  },
  {
   "cell_type": "code",
   "execution_count": 57,
   "metadata": {
    "collapsed": false
   },
   "outputs": [],
   "source": [
    "urlbase = (\"http://map2.vis.earthdata.nasa.gov/image-download\"\n",
    "       \"?TIME=timeimage&\"\n",
    "       \"extent=-3.0847678764712523,34.724051833786476,5.669138373528748,41.017020583786476&\"\n",
    "       \"epsg=4326&\"\n",
    "       \"layers=LAYER,Coastlines&\"\n",
    "       \"opacities=1,1&\"\n",
    "       \"worldfile=false&\"\n",
    "       \"format=image/jpeg&\"\n",
    "       \"width=996&height=716\")\n",
    "urlbase2 = (\"http://map2.vis.earthdata.nasa.gov/image-download\"\n",
    "       \"?TIME=timeimage&\"\n",
    "       \"extent=-3.0847678764712523,34.724051833786476,5.669138373528748,41.017020583786476&\"\n",
    "       \"epsg=4326&\"\n",
    "       \"layers=LAYER,Coastlines&\"\n",
    "       \"opacities=1,1&\"\n",
    "       \"worldfile=false&\"\n",
    "       \"format=image/jpeg&\"\n",
    "       \"width=996&height=716\")\n",
    "\n",
    "layerlist = ['MODIS_Aqua_CorrectedReflectance_TrueColor', \n",
    "             'VIIRS_SNPP_CorrectedReflectance_TrueColor',\n",
    "             'MODIS_Terra_CorrectedReflectance_TrueColor']         \n",
    "\n",
    "http://map2.vis.earthdata.nasa.gov/image-download?TIME=2016022&\n",
    "    extent=-1.5232772478772887,35.47685181135699,6.589027439622711,42.53446899885699&epsg=4326&\n",
    "    layers=VIIRS_SNPP_CorrectedReflectance_TrueColor,Coastlines&\n",
    "    opacities=1,1&\n",
    "    worldfile=false&format=image/jpeg&width=185&height=161"
   ]
  },
  {
   "cell_type": "code",
   "execution_count": 51,
   "metadata": {
    "collapsed": true
   },
   "outputs": [],
   "source": [
    "figdir = \"/home/ctroupin/Projects/1-Internal/201530627_Rissaga/images/visible/\""
   ]
  },
  {
   "cell_type": "code",
   "execution_count": 52,
   "metadata": {
    "collapsed": true
   },
   "outputs": [],
   "source": [
    "rissagadates = [(2016, 2, 7, 11, 13, 0), (2016, 4, 1, 5, 41, 0), (2015, 9, 19, 4, 0, 0), (2015, 8, 1, 2, 21, 0),\n",
    "                (2015, 7, 30, 15, 56, 0), (2015, 6, 14, 19, 5, 0), (2015, 6, 12, 4, 50, 0), (2015, 5, 6, 3, 3, 0),\n",
    "                (2015, 5, 5, 23, 4, 0), (2015, 4, 22, 13, 50, 0)]"
   ]
  },
  {
   "cell_type": "code",
   "execution_count": 59,
   "metadata": {
    "collapsed": true
   },
   "outputs": [],
   "source": [
    "def generate_timefile(datetuple):\n",
    "    ddate = datetime.datetime(datetuple[0], datetuple[1], datetuple[2])\n",
    "    return str(dd[0]) + str(ddate.timetuple().tm_yday).zfill(3)"
   ]
  },
  {
   "cell_type": "code",
   "execution_count": 71,
   "metadata": {
    "collapsed": false
   },
   "outputs": [],
   "source": [
    "def generate_figname(datetuple, layer, figdir):\n",
    "    sensor = layer.split('_')[0] + '_' + layer.split('_')[1] \n",
    "    timestring = str(datetuple[0]) + str(datetuple[1]).zfill(2) \\\n",
    "                 + str(datetuple[2]).zfill(2) + '_' + sensor + '_visible.jpg'\n",
    "    figname = os.path.join(figdir, timestring)\n",
    "    return figname"
   ]
  },
  {
   "cell_type": "code",
   "execution_count": 72,
   "metadata": {
    "collapsed": true
   },
   "outputs": [],
   "source": [
    "def download_fig(url, figname):\n",
    "    r = requests.get(url, stream=True)\n",
    "    if r.status_code == 200:\n",
    "        with open(figname, 'wb') as f:\n",
    "            r.raw.decode_content = True\n",
    "            shutil.copyfileobj(r.raw, f)   "
   ]
  },
  {
   "cell_type": "code",
   "execution_count": 78,
   "metadata": {
    "collapsed": false
   },
   "outputs": [
    {
     "name": "stdout",
     "output_type": "stream",
     "text": [
      "http://map2.vis.earthdata.nasa.gov/image-download?TIME=2015038&extent=-3.0847678764712523,34.724051833786476,5.669138373528748,41.017020583786476&epsg=4326&layers=VIIRS_SNPP_CorrectedReflectance_TrueColor,Coastlines&opacities=1,1&worldfile=false&format=image/jpeg&width=996&height=716\n",
      "/home/ctroupin/Projects/1-Internal/201530627_Rissaga/images/visible/20160207_VIIRS_SNPP_visible.jpg\n",
      "http://map2.vis.earthdata.nasa.gov/image-download?TIME=2015038&extent=-3.0847678764712523,34.724051833786476,5.669138373528748,41.017020583786476&epsg=4326&layers=MODIS_Terra_CorrectedReflectance_TrueColor,Coastlines&opacities=1,1&worldfile=false&format=image/jpeg&width=996&height=716\n",
      "/home/ctroupin/Projects/1-Internal/201530627_Rissaga/images/visible/20160207_MODIS_Terra_visible.jpg\n",
      "http://map2.vis.earthdata.nasa.gov/image-download?TIME=2015092&extent=-3.0847678764712523,34.724051833786476,5.669138373528748,41.017020583786476&epsg=4326&layers=VIIRS_SNPP_CorrectedReflectance_TrueColor,Coastlines&opacities=1,1&worldfile=false&format=image/jpeg&width=996&height=716\n",
      "/home/ctroupin/Projects/1-Internal/201530627_Rissaga/images/visible/20160401_VIIRS_SNPP_visible.jpg\n",
      "http://map2.vis.earthdata.nasa.gov/image-download?TIME=2015092&extent=-3.0847678764712523,34.724051833786476,5.669138373528748,41.017020583786476&epsg=4326&layers=MODIS_Terra_CorrectedReflectance_TrueColor,Coastlines&opacities=1,1&worldfile=false&format=image/jpeg&width=996&height=716\n",
      "/home/ctroupin/Projects/1-Internal/201530627_Rissaga/images/visible/20160401_MODIS_Terra_visible.jpg\n",
      "http://map2.vis.earthdata.nasa.gov/image-download?TIME=2015262&extent=-3.0847678764712523,34.724051833786476,5.669138373528748,41.017020583786476&epsg=4326&layers=VIIRS_SNPP_CorrectedReflectance_TrueColor,Coastlines&opacities=1,1&worldfile=false&format=image/jpeg&width=996&height=716\n",
      "/home/ctroupin/Projects/1-Internal/201530627_Rissaga/images/visible/20150919_VIIRS_SNPP_visible.jpg\n",
      "http://map2.vis.earthdata.nasa.gov/image-download?TIME=2015262&extent=-3.0847678764712523,34.724051833786476,5.669138373528748,41.017020583786476&epsg=4326&layers=MODIS_Terra_CorrectedReflectance_TrueColor,Coastlines&opacities=1,1&worldfile=false&format=image/jpeg&width=996&height=716\n",
      "/home/ctroupin/Projects/1-Internal/201530627_Rissaga/images/visible/20150919_MODIS_Terra_visible.jpg\n",
      "http://map2.vis.earthdata.nasa.gov/image-download?TIME=2015213&extent=-3.0847678764712523,34.724051833786476,5.669138373528748,41.017020583786476&epsg=4326&layers=VIIRS_SNPP_CorrectedReflectance_TrueColor,Coastlines&opacities=1,1&worldfile=false&format=image/jpeg&width=996&height=716\n",
      "/home/ctroupin/Projects/1-Internal/201530627_Rissaga/images/visible/20150801_VIIRS_SNPP_visible.jpg\n",
      "http://map2.vis.earthdata.nasa.gov/image-download?TIME=2015213&extent=-3.0847678764712523,34.724051833786476,5.669138373528748,41.017020583786476&epsg=4326&layers=MODIS_Terra_CorrectedReflectance_TrueColor,Coastlines&opacities=1,1&worldfile=false&format=image/jpeg&width=996&height=716\n",
      "/home/ctroupin/Projects/1-Internal/201530627_Rissaga/images/visible/20150801_MODIS_Terra_visible.jpg\n",
      "http://map2.vis.earthdata.nasa.gov/image-download?TIME=2015211&extent=-3.0847678764712523,34.724051833786476,5.669138373528748,41.017020583786476&epsg=4326&layers=VIIRS_SNPP_CorrectedReflectance_TrueColor,Coastlines&opacities=1,1&worldfile=false&format=image/jpeg&width=996&height=716\n",
      "/home/ctroupin/Projects/1-Internal/201530627_Rissaga/images/visible/20150730_VIIRS_SNPP_visible.jpg\n",
      "http://map2.vis.earthdata.nasa.gov/image-download?TIME=2015211&extent=-3.0847678764712523,34.724051833786476,5.669138373528748,41.017020583786476&epsg=4326&layers=MODIS_Terra_CorrectedReflectance_TrueColor,Coastlines&opacities=1,1&worldfile=false&format=image/jpeg&width=996&height=716\n",
      "/home/ctroupin/Projects/1-Internal/201530627_Rissaga/images/visible/20150730_MODIS_Terra_visible.jpg\n",
      "http://map2.vis.earthdata.nasa.gov/image-download?TIME=2015165&extent=-3.0847678764712523,34.724051833786476,5.669138373528748,41.017020583786476&epsg=4326&layers=VIIRS_SNPP_CorrectedReflectance_TrueColor,Coastlines&opacities=1,1&worldfile=false&format=image/jpeg&width=996&height=716\n",
      "/home/ctroupin/Projects/1-Internal/201530627_Rissaga/images/visible/20150614_VIIRS_SNPP_visible.jpg\n",
      "http://map2.vis.earthdata.nasa.gov/image-download?TIME=2015165&extent=-3.0847678764712523,34.724051833786476,5.669138373528748,41.017020583786476&epsg=4326&layers=MODIS_Terra_CorrectedReflectance_TrueColor,Coastlines&opacities=1,1&worldfile=false&format=image/jpeg&width=996&height=716\n",
      "/home/ctroupin/Projects/1-Internal/201530627_Rissaga/images/visible/20150614_MODIS_Terra_visible.jpg\n",
      "http://map2.vis.earthdata.nasa.gov/image-download?TIME=2015163&extent=-3.0847678764712523,34.724051833786476,5.669138373528748,41.017020583786476&epsg=4326&layers=VIIRS_SNPP_CorrectedReflectance_TrueColor,Coastlines&opacities=1,1&worldfile=false&format=image/jpeg&width=996&height=716\n",
      "/home/ctroupin/Projects/1-Internal/201530627_Rissaga/images/visible/20150612_VIIRS_SNPP_visible.jpg\n",
      "http://map2.vis.earthdata.nasa.gov/image-download?TIME=2015163&extent=-3.0847678764712523,34.724051833786476,5.669138373528748,41.017020583786476&epsg=4326&layers=MODIS_Terra_CorrectedReflectance_TrueColor,Coastlines&opacities=1,1&worldfile=false&format=image/jpeg&width=996&height=716\n",
      "/home/ctroupin/Projects/1-Internal/201530627_Rissaga/images/visible/20150612_MODIS_Terra_visible.jpg\n",
      "http://map2.vis.earthdata.nasa.gov/image-download?TIME=2015126&extent=-3.0847678764712523,34.724051833786476,5.669138373528748,41.017020583786476&epsg=4326&layers=VIIRS_SNPP_CorrectedReflectance_TrueColor,Coastlines&opacities=1,1&worldfile=false&format=image/jpeg&width=996&height=716\n",
      "/home/ctroupin/Projects/1-Internal/201530627_Rissaga/images/visible/20150506_VIIRS_SNPP_visible.jpg\n",
      "http://map2.vis.earthdata.nasa.gov/image-download?TIME=2015126&extent=-3.0847678764712523,34.724051833786476,5.669138373528748,41.017020583786476&epsg=4326&layers=MODIS_Terra_CorrectedReflectance_TrueColor,Coastlines&opacities=1,1&worldfile=false&format=image/jpeg&width=996&height=716\n",
      "/home/ctroupin/Projects/1-Internal/201530627_Rissaga/images/visible/20150506_MODIS_Terra_visible.jpg\n",
      "http://map2.vis.earthdata.nasa.gov/image-download?TIME=2015125&extent=-3.0847678764712523,34.724051833786476,5.669138373528748,41.017020583786476&epsg=4326&layers=VIIRS_SNPP_CorrectedReflectance_TrueColor,Coastlines&opacities=1,1&worldfile=false&format=image/jpeg&width=996&height=716\n",
      "/home/ctroupin/Projects/1-Internal/201530627_Rissaga/images/visible/20150505_VIIRS_SNPP_visible.jpg\n",
      "http://map2.vis.earthdata.nasa.gov/image-download?TIME=2015125&extent=-3.0847678764712523,34.724051833786476,5.669138373528748,41.017020583786476&epsg=4326&layers=MODIS_Terra_CorrectedReflectance_TrueColor,Coastlines&opacities=1,1&worldfile=false&format=image/jpeg&width=996&height=716\n",
      "/home/ctroupin/Projects/1-Internal/201530627_Rissaga/images/visible/20150505_MODIS_Terra_visible.jpg\n",
      "http://map2.vis.earthdata.nasa.gov/image-download?TIME=2015112&extent=-3.0847678764712523,34.724051833786476,5.669138373528748,41.017020583786476&epsg=4326&layers=VIIRS_SNPP_CorrectedReflectance_TrueColor,Coastlines&opacities=1,1&worldfile=false&format=image/jpeg&width=996&height=716\n",
      "/home/ctroupin/Projects/1-Internal/201530627_Rissaga/images/visible/20150422_VIIRS_SNPP_visible.jpg\n",
      "http://map2.vis.earthdata.nasa.gov/image-download?TIME=2015112&extent=-3.0847678764712523,34.724051833786476,5.669138373528748,41.017020583786476&epsg=4326&layers=MODIS_Terra_CorrectedReflectance_TrueColor,Coastlines&opacities=1,1&worldfile=false&format=image/jpeg&width=996&height=716\n",
      "/home/ctroupin/Projects/1-Internal/201530627_Rissaga/images/visible/20150422_MODIS_Terra_visible.jpg\n"
     ]
    }
   ],
   "source": [
    "for timetuple in rissagadates:\n",
    "    timefile = generate_timefile(timetuple)\n",
    "    for layer in layerlist[-2:]:\n",
    "        url2load = urlbase.replace('timeimage', timefile)\n",
    "        url2load = url2load.replace('LAYER', layer)\n",
    "        figname = generate_figname(timetuple, layer, figdir)\n",
    "        print url2load\n",
    "        print figname\n",
    "        #download_fig(url2load, figname)"
   ]
  },
  {
   "cell_type": "code",
   "execution_count": null,
   "metadata": {
    "collapsed": true
   },
   "outputs": [],
   "source": [
    "http://map2.vis.earthdata.nasa.gov/image-download?\n",
    "    TIME=2015038&extent=-3.0847678764712523,34.724051833786476,5.669138373528748,41.017020583786476&\n",
    "    epsg=4326&layers=VIIRS_SNPP_CorrectedReflectance_TrueColor,Coastlines&opacities=1,1&\n",
    "    worldfile=false&format=image/jpeg&width=996&height=716\n",
    "    "
   ]
  },
  {
   "cell_type": "code",
   "execution_count": 82,
   "metadata": {
    "collapsed": false
   },
   "outputs": [],
   "source": [
    "ttt = (\"http://map2.vis.earthdata.nasa.gov/image-download?\"\n",
    "    \"TIME=2015038&extent=-1.5232772478772887,35.47685181135699,6.589027439622711,42.53446899885699&\"\n",
    "    \"epsg=4326&layers=VIIRS_SNPP_CorrectedReflectance_TrueColor,Coastlines&opacities=1,1&\"\n",
    "    \"worldfile=false&format=image/jpeg&width=185&height=161\")"
   ]
  },
  {
   "cell_type": "code",
   "execution_count": 83,
   "metadata": {
    "collapsed": false
   },
   "outputs": [
    {
     "data": {
      "text/plain": [
       "'http://map2.vis.earthdata.nasa.gov/image-download?TIME=2015038&extent=-1.5232772478772887,35.47685181135699,6.589027439622711,42.53446899885699&epsg=4326&layers=VIIRS_SNPP_CorrectedReflectance_TrueColor,Coastlines&opacities=1,1&worldfile=false&format=image/jpeg&width=185&height=161'"
      ]
     },
     "execution_count": 83,
     "metadata": {},
     "output_type": "execute_result"
    }
   ],
   "source": [
    "ttt"
   ]
  },
  {
   "cell_type": "code",
   "execution_count": null,
   "metadata": {
    "collapsed": true
   },
   "outputs": [],
   "source": []
  }
 ],
 "metadata": {
  "kernelspec": {
   "display_name": "Python 2",
   "language": "python",
   "name": "python2"
  },
  "language_info": {
   "codemirror_mode": {
    "name": "ipython",
    "version": 2
   },
   "file_extension": ".py",
   "mimetype": "text/x-python",
   "name": "python",
   "nbconvert_exporter": "python",
   "pygments_lexer": "ipython2",
   "version": "2.7.5+"
  }
 },
 "nbformat": 4,
 "nbformat_minor": 0
}
