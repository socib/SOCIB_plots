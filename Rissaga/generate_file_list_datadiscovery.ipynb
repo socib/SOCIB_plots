{
 "cells": [
  {
   "cell_type": "code",
   "execution_count": 83,
   "metadata": {
    "collapsed": true
   },
   "outputs": [],
   "source": [
    "import requests\n",
    "import json\n",
    "import pprint\n",
    "\n",
    "r = requests.get(\n",
    "    \"http://apps.socib.es/DataDiscovery/list-platforms?\"\n",
    "    \"init_datetime=2015-04-21T000000&\"\n",
    "    \"end_datetime=2015-04-23T000000&\"\n",
    "    \"parameter=sea_water_pressure\"\n",
    "    )"
   ]
  },
  {
   "cell_type": "code",
   "execution_count": 84,
   "metadata": {
    "collapsed": false
   },
   "outputs": [],
   "source": [
    "aa = r.json()"
   ]
  },
  {
   "cell_type": "code",
   "execution_count": 94,
   "metadata": {
    "collapsed": false
   },
   "outputs": [
    {
     "name": "stdout",
     "output_type": "stream",
     "text": [
      "Coastal Station\n",
      "{u'platformType': u'Coastal Station', u'lastTimeSampleReceived': 1429747200, u'jsonInstrumentList': [{u'instrumentType': u'Current profiler', u'lastTimeSampleReceived': 1429747200, u'jsonDeploymentList': [{u'productsByProcessingLevel': {u'L0': [u'http://thredds.socib.es/thredds/dodsC/mooring/current_profiler/station_ciutadella-ime_awac001/L0/2015/dep0001_station-ciutadella_ime-awac001_L0_2015-04.nc'], u'L1': [u'http://thredds.socib.es/thredds/dodsC/mooring/current_profiler/station_ciutadella-ime_awac001/L1/2015/dep0001_station-ciutadella_ime-awac001_L1_2015-04.nc']}, u'initialDate': u'2014-09-22T10:00:00', u'endDate': u'N/A', u'id': 431, u'name': u'IME-AWAC001_SOCIB_ENL_StationCiutadella_Sep2014'}], u'id': 123, u'name': u'IME-AWAC001'}], u'id': 254, u'name': u'Station_Ciutadella'}\n",
      " \n",
      "Coastal Station\n",
      "{u'platformType': u'Coastal Station', u'lastTimeSampleReceived': 1429747200, u'jsonInstrumentList': [{u'instrumentType': u'Conductivity and Temperature Recorder', u'lastTimeSampleReceived': 1429747200, u'jsonDeploymentList': [{u'productsByProcessingLevel': {u'L0': [u'http://thredds.socib.es/thredds/dodsC/mooring/conductivity_and_temperature_recorder/station_lamola-scb_sbe37001/L0/2015/dep0002_station-lamola_scb-sbe37001_L0_2015-04.nc'], u'L1': [u'http://thredds.socib.es/thredds/dodsC/mooring/conductivity_and_temperature_recorder/station_lamola-scb_sbe37001/L1/2015/dep0002_station-lamola_scb-sbe37001_L1_2015-04.nc']}, u'initialDate': u'2015-03-11T14:30:00', u'endDate': u'N/A', u'id': 463, u'name': u'SCB-SBE37001_SOCIB_ENL_LaMola_Mar2015'}], u'id': 35, u'name': u'SCB-SBE37001'}], u'id': 15, u'name': u'Station_LaMola'}\n",
      " \n",
      "Sea Level\n",
      "{u'lastTimeSampleReceived': 1429747200, u'name': u'Station_Andratx', u'jsonPlatformProductList': [{u'lastTimeSampleReceived': 1429747200, u'endDate': u'2015-10-16T07:34:39', u'name': u'Sea Level', u'initialDate': u'2011-06-02T00:00:00', u'productType': u'Sea Level', u'productsByProcessingLevel': {u'L1': [u'http://thredds.socib.es/thredds/dodsC/mooring/sea_level/station_andratx/L1/2015/dep20110602_station-andratx_L1_2015-04.nc']}}], u'id': 26, u'jsonInstrumentList': [{u'instrumentType': u'Tide gauge', u'lastTimeSampleReceived': 1429747200, u'jsonDeploymentList': [{u'productsByProcessingLevel': {u'L0': [u'http://thredds.socib.es/thredds/dodsC/mooring/tide_gauge/station_andratx-ime_sbe26004/L0/2015/dep0001_station-andratx_ime-sbe26004_L0_2015-04.nc'], u'L1': [u'http://thredds.socib.es/thredds/dodsC/mooring/tide_gauge/station_andratx-ime_sbe26004/L1/2015/dep0001_station-andratx_ime-sbe26004_L1_2015-04.nc']}, u'initialDate': u'2012-10-08T10:00:00', u'endDate': u'2015-10-16T07:34:37', u'id': 108, u'name': u'IME-SBE26004_SOCIB_ENL_StationAndratx_Oct2012'}], u'id': 105, u'name': u'IME-SBE26004'}], u'platformType': u'Sea Level'}\n",
      " \n",
      "Sea Level\n",
      "{u'platformType': u'Sea Level', u'lastTimeSampleReceived': 1429747200, u'jsonPlatformProductList': [{u'lastTimeSampleReceived': 1429747200, u'endDate': u'N/A', u'name': u'Sea Level', u'initialDate': u'2011-07-01T00:00:00', u'productType': u'Sea Level', u'productsByProcessingLevel': {u'L1': [u'http://thredds.socib.es/thredds/dodsC/mooring/sea_level/station_pollensa/L1/2015/dep20110701_station-pollensa_L1_2015-04.nc']}}], u'id': 14, u'name': u'Station_Pollensa'}\n",
      " \n"
     ]
    },
    {
     "ename": "KeyError",
     "evalue": "'jsonInstrumentList'",
     "output_type": "error",
     "traceback": [
      "\u001b[1;31m---------------------------------------------------------------------------\u001b[0m",
      "\u001b[1;31mKeyError\u001b[0m                                  Traceback (most recent call last)",
      "\u001b[1;32m<ipython-input-94-c44ab22c8dab>\u001b[0m in \u001b[0;36m<module>\u001b[1;34m()\u001b[0m\n\u001b[0;32m      5\u001b[0m         \u001b[1;32mprint\u001b[0m \u001b[0mplatforms\u001b[0m\u001b[1;33m\u001b[0m\u001b[0m\n\u001b[0;32m      6\u001b[0m         \u001b[1;32mprint\u001b[0m \u001b[1;34m\" \"\u001b[0m\u001b[1;33m\u001b[0m\u001b[0m\n\u001b[1;32m----> 7\u001b[1;33m         \u001b[0mfilelist\u001b[0m\u001b[1;33m.\u001b[0m\u001b[0mextend\u001b[0m\u001b[1;33m(\u001b[0m\u001b[0mplatforms\u001b[0m\u001b[1;33m[\u001b[0m\u001b[1;34m'jsonInstrumentList'\u001b[0m\u001b[1;33m]\u001b[0m\u001b[1;33m[\u001b[0m\u001b[1;36m0\u001b[0m\u001b[1;33m]\u001b[0m\u001b[1;33m[\u001b[0m\u001b[1;34m'jsonDeploymentList'\u001b[0m\u001b[1;33m]\u001b[0m\u001b[1;33m[\u001b[0m\u001b[1;36m0\u001b[0m\u001b[1;33m]\u001b[0m\u001b[1;33m[\u001b[0m\u001b[1;34m'productsByProcessingLevel'\u001b[0m\u001b[1;33m]\u001b[0m\u001b[1;33m[\u001b[0m\u001b[1;34m'L1'\u001b[0m\u001b[1;33m]\u001b[0m\u001b[1;33m[\u001b[0m\u001b[1;33m:\u001b[0m\u001b[1;33m]\u001b[0m\u001b[1;33m)\u001b[0m\u001b[1;33m\u001b[0m\u001b[0m\n\u001b[0m",
      "\u001b[1;31mKeyError\u001b[0m: 'jsonInstrumentList'"
     ]
    }
   ],
   "source": [
    "filelist = []\n",
    "for platforms in aa:\n",
    "    if platforms['platformType'] in ['Coastal Station', 'Sea Level']:\n",
    "        print platforms['platformType']\n",
    "        print platforms\n",
    "        print \" \"\n",
    "        filelist.extend(platforms['jsonInstrumentList'][0]['jsonDeploymentList'][0]['productsByProcessingLevel']['L1'][:])"
   ]
  },
  {
   "cell_type": "code",
   "execution_count": 77,
   "metadata": {
    "collapsed": false
   },
   "outputs": [],
   "source": [
    "filelist = [s for s in filelist if \"mooring\" in s] "
   ]
  },
  {
   "cell_type": "code",
   "execution_count": 78,
   "metadata": {
    "collapsed": false
   },
   "outputs": [
    {
     "data": {
      "text/plain": [
       "[u'http://thredds.socib.es/thredds/dodsC/mooring/current_profiler/station_ciutadella-ime_awac001/L1/2016/dep0001_station-ciutadella_ime-awac001_L1_2016-01.nc',\n",
       " u'http://thredds.socib.es/thredds/dodsC/mooring/current_profiler/station_ciutadella-ime_awac001/L1/2016/dep0001_station-ciutadella_ime-awac001_L1_2016-02.nc',\n",
       " u'http://thredds.socib.es/thredds/dodsC/mooring/conductivity_and_temperature_recorder/station_lamola-scb_sbe37001/L1/2016/dep0002_station-lamola_scb-sbe37001_L1_2016-02.nc',\n",
       " u'http://thredds.socib.es/thredds/dodsC/mooring/tide_gauge/station_andratx-ime_sbe26004/L1/2016/dep0002_station-andratx_ime-sbe26004_L1_2016-01.nc',\n",
       " u'http://thredds.socib.es/thredds/dodsC/mooring/tide_gauge/station_andratx-ime_sbe26004/L1/2016/dep0002_station-andratx_ime-sbe26004_L1_2016-02.nc',\n",
       " u'http://thredds.socib.es/thredds/dodsC/mooring/tide_gauge/station_coloniasantpere-pib_sbe54004/L1/2016/dep0001_station-coloniasantpere_pib-sbe54004_L1_2016-01.nc',\n",
       " u'http://thredds.socib.es/thredds/dodsC/mooring/tide_gauge/station_coloniasantpere-pib_sbe54004/L1/2016/dep0001_station-coloniasantpere_pib-sbe54004_L1_2016-02.nc',\n",
       " u'http://thredds.socib.es/thredds/dodsC/mooring/tide_gauge/station_pollensa-ime_sbe26003/L1/2016/dep0002_station-pollensa_ime-sbe26003_L1_2016-02.nc',\n",
       " u'http://thredds.socib.es/thredds/dodsC/mooring/tide_gauge/station_sarapita-scb_sbe26003/L1/2016/dep0001_station-sarapita_scb-sbe26003_L1_2016-01.nc',\n",
       " u'http://thredds.socib.es/thredds/dodsC/mooring/tide_gauge/station_sarapita-scb_sbe26003/L1/2016/dep0001_station-sarapita_scb-sbe26003_L1_2016-02.nc']"
      ]
     },
     "execution_count": 78,
     "metadata": {},
     "output_type": "execute_result"
    }
   ],
   "source": [
    "filelist"
   ]
  },
  {
   "cell_type": "code",
   "execution_count": 87,
   "metadata": {
    "collapsed": false
   },
   "outputs": [
    {
     "data": {
      "text/plain": [
       "{u'id': 254,\n",
       " u'jsonInstrumentList': [{u'id': 123,\n",
       "   u'instrumentType': u'Current profiler',\n",
       "   u'jsonDeploymentList': [{u'endDate': u'N/A',\n",
       "     u'id': 431,\n",
       "     u'initialDate': u'2014-09-22T10:00:00',\n",
       "     u'name': u'IME-AWAC001_SOCIB_ENL_StationCiutadella_Sep2014',\n",
       "     u'productsByProcessingLevel': {u'L0': [u'http://thredds.socib.es/thredds/dodsC/mooring/current_profiler/station_ciutadella-ime_awac001/L0/2015/dep0001_station-ciutadella_ime-awac001_L0_2015-04.nc'],\n",
       "      u'L1': [u'http://thredds.socib.es/thredds/dodsC/mooring/current_profiler/station_ciutadella-ime_awac001/L1/2015/dep0001_station-ciutadella_ime-awac001_L1_2015-04.nc']}}],\n",
       "   u'lastTimeSampleReceived': 1429747200,\n",
       "   u'name': u'IME-AWAC001'}],\n",
       " u'lastTimeSampleReceived': 1429747200,\n",
       " u'name': u'Station_Ciutadella',\n",
       " u'platformType': u'Coastal Station'}"
      ]
     },
     "execution_count": 87,
     "metadata": {},
     "output_type": "execute_result"
    }
   ],
   "source": [
    "aa[0]"
   ]
  },
  {
   "cell_type": "code",
   "execution_count": null,
   "metadata": {
    "collapsed": true
   },
   "outputs": [],
   "source": []
  }
 ],
 "metadata": {
  "kernelspec": {
   "display_name": "Python 2",
   "language": "python",
   "name": "python2"
  },
  "language_info": {
   "codemirror_mode": {
    "name": "ipython",
    "version": 2
   },
   "file_extension": ".py",
   "mimetype": "text/x-python",
   "name": "python",
   "nbconvert_exporter": "python",
   "pygments_lexer": "ipython2",
   "version": "2.7.5+"
  }
 },
 "nbformat": 4,
 "nbformat_minor": 0
}
