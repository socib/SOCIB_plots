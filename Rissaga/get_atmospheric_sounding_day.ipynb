{
 "cells": [
  {
   "cell_type": "markdown",
   "metadata": {},
   "source": [
    "Download atmospheric sounding data from [University of Wyoming](http://weather.uwyo.edu/upperair/sounding.html).<br>\n",
    "The format is slightly modified in order to fit the specification of the [skewt](https://pypi.python.org/pypi/SkewT) package."
   ]
  },
  {
   "cell_type": "markdown",
   "metadata": {},
   "source": [
    "# Import packages"
   ]
  },
  {
   "cell_type": "code",
   "execution_count": 5,
   "metadata": {
    "collapsed": true
   },
   "outputs": [],
   "source": [
    "import urllib2\n",
    "from skewt import SkewT\n",
    "import re\n",
    "import os\n",
    "from datetime import datetime\n",
    "from BeautifulSoup import BeautifulSoup\n",
    "%matplotlib inline"
   ]
  },
  {
   "cell_type": "markdown",
   "metadata": {},
   "source": [
    "# User input"
   ]
  },
  {
   "cell_type": "code",
   "execution_count": 39,
   "metadata": {
    "collapsed": true
   },
   "outputs": [],
   "source": [
    "year, month, day = 2016, 2, 7\n",
    "stationnum = '08302'\n",
    "outputdir = '/home/ctroupin/Projects/1-Internal/201530627_Rissaga/soundings/'"
   ]
  },
  {
   "cell_type": "markdown",
   "metadata": {},
   "source": [
    "# Create data files"
   ]
  },
  {
   "cell_type": "markdown",
   "metadata": {},
   "source": [
    "Create the 2 URL's corresponding to the data files:"
   ]
  },
  {
   "cell_type": "code",
   "execution_count": 40,
   "metadata": {
    "collapsed": true
   },
   "outputs": [],
   "source": [
    "baseurl = 'http://weather.uwyo.edu/cgi-bin/sounding?region=europe&TYPE=TEXT%3ALIST&YEAR='\n",
    "dataurllist = [baseurl + str(year) + '&MONTH=' + str(month).zfill(2) + \n",
    "            '&FROM=' + str(day).zfill(2) +'00' + '&TO=' + str(day).zfill(2) \n",
    "            + '00' + '&STNM=' + stationnum, \n",
    "            baseurl + str(year) + '&MONTH=' + str(month).zfill(2) + \n",
    "            '&FROM=' + str(day).zfill(2) +'12' + '&TO=' + str(day).zfill(2) \n",
    "            + '12' + '&STNM=' + stationnum]"
   ]
  },
  {
   "cell_type": "markdown",
   "metadata": {},
   "source": [
    "Form output file names (2 per day)"
   ]
  },
  {
   "cell_type": "code",
   "execution_count": 41,
   "metadata": {
    "collapsed": false
   },
   "outputs": [],
   "source": [
    "outputfilename1 = ('sounding%s%s%s_%s.dat' %(str(year), str(month).zfill(2), str(day).zfill(2) +'00', stationnum))\n",
    "outputfilename2 = ('sounding%s%s%s_%s.dat' %(str(year), str(month).zfill(2), str(day).zfill(2) +'12', stationnum))\n",
    "outputfile1 = os.path.join(outputdir, outputfilename1)\n",
    "outputfile2 = os.path.join(outputdir, outputfilename2)\n",
    "outputfiles = [outputfile1, outputfile2]"
   ]
  },
  {
   "cell_type": "markdown",
   "metadata": {},
   "source": [
    "Read the html, modify the first line and write a new data file"
   ]
  },
  {
   "cell_type": "code",
   "execution_count": 42,
   "metadata": {
    "collapsed": true
   },
   "outputs": [],
   "source": [
    "for dataurl, outputfile in zip(dataurllist, outputfiles):\n",
    "    page = urllib2.urlopen(dataurl)\n",
    "    page_content = page.read()\n",
    "    page_content = BeautifulSoup(page_content).text\n",
    "    page_content = page_content.split('\\n')\n",
    "    first_line = page_content[0]\n",
    "    data = page_content[1:]\n",
    "    match = re.search('Data(\\d{5}.*\\d{4})', first_line)\n",
    "    if match:\n",
    "        firstline = match.group(1)\n",
    "    with open(outputfile, 'w') as f:\n",
    "        f.write('\\n')\n",
    "        f.write(firstline + '\\n')\n",
    "        f.write('\\n')\n",
    "        f.write('-----------------------------------------------------------------------------\\n')\n",
    "        f.writelines('\\n'.join(data))"
   ]
  },
  {
   "cell_type": "code",
   "execution_count": null,
   "metadata": {
    "collapsed": true
   },
   "outputs": [],
   "source": []
  },
  {
   "cell_type": "code",
   "execution_count": null,
   "metadata": {
    "collapsed": true
   },
   "outputs": [],
   "source": []
  },
  {
   "cell_type": "code",
   "execution_count": null,
   "metadata": {
    "collapsed": true
   },
   "outputs": [],
   "source": []
  }
 ],
 "metadata": {
  "kernelspec": {
   "display_name": "Python 2",
   "language": "python",
   "name": "python2"
  },
  "language_info": {
   "codemirror_mode": {
    "name": "ipython",
    "version": 2
   },
   "file_extension": ".py",
   "mimetype": "text/x-python",
   "name": "python",
   "nbconvert_exporter": "python",
   "pygments_lexer": "ipython2",
   "version": "2.7.5+"
  }
 },
 "nbformat": 4,
 "nbformat_minor": 0
}
