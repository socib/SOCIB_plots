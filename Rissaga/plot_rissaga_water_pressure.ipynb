{
 "cells": [
  {
   "cell_type": "code",
   "execution_count": 1,
   "metadata": {
    "collapsed": true
   },
   "outputs": [],
   "source": [
    "import os\n",
    "import glob\n",
    "import numpy as np\n",
    "import netCDF4 as netcdf\n",
    "import matplotlib.pyplot as plt\n",
    "from mpl_toolkits.basemap import Basemap\n",
    "from matplotlib  import colors\n",
    "import datetime, time, calendar\n",
    "import matplotlib.text as text"
   ]
  },
  {
   "cell_type": "code",
   "execution_count": 2,
   "metadata": {
    "collapsed": true
   },
   "outputs": [],
   "source": [
    "figdir='/home/ctroupin/Projects/201530627_Rissaga/20160207/SeaWaterPressure/'\n",
    "figbasename='rissaga_p_'"
   ]
  },
  {
   "cell_type": "code",
   "execution_count": 18,
   "metadata": {
    "collapsed": true
   },
   "outputs": [],
   "source": [
    "# Define time limits for the plot\n",
    "timeinit,timeend = datetime.datetime(2016, 2, 7, 9, 0), datetime.datetime(2016, 2, 7, 14, 0)\n",
    "tmin,tmax = time.mktime(timeinit.timetuple()), time.mktime(timeend.timetuple())\n",
    "ciutadellafile = 'http://thredds.socib.es/thredds/dodsC/mooring/current_profiler/station_ciutadella-ime_awac001/L1/dep0001_station-ciutadella_ime-awac001_L1_latest.nc'"
   ]
  },
  {
   "cell_type": "code",
   "execution_count": 19,
   "metadata": {
    "collapsed": false
   },
   "outputs": [],
   "source": [
    "with netcdf.Dataset(ciutadellafile,'r+', format='NETCDF4') as nc:\n",
    "    pressure_time=nc.variables['time'][:]\n",
    "    goodtime=np.where(np.logical_and((pressure_time<=tmax),(pressure_time>=tmin)))[0]\n",
    "    pressure=nc.variables['WTR_PRE'][goodtime]\n",
    "    pressure_time=pressure_time[goodtime]"
   ]
  },
  {
   "cell_type": "code",
   "execution_count": 20,
   "metadata": {
    "collapsed": false
   },
   "outputs": [],
   "source": [
    "ii = 1\n",
    "for tt, press in zip(pressure_time, pressure):\n",
    "    fig = plt.figure(num=None, figsize=(10, 6))\n",
    "    #fig.patch.set_alpha(0.)\n",
    "    plt.plot(pressure_time, pressure, 'k')\n",
    "    plt.plot(tt, press, 'ro', ms=10)\n",
    "    #plt.title(time.strftime(\"%H:%M:%S\", time.gmtime(tt)))\n",
    "    plt.axis('off')\n",
    "\n",
    "    plt.savefig(figdir+figbasename+str(ii).zfill(4), dpi=300, facecolor='None', edgecolor='w',\n",
    "         transparent=True, bbox_inches='tight', pad_inches=0.1)\n",
    "    ii += 1\n",
    "    plt.close()"
   ]
  },
  {
   "cell_type": "code",
   "execution_count": 17,
   "metadata": {
    "collapsed": false
   },
   "outputs": [
    {
     "data": {
      "text/plain": [
       "60.0"
      ]
     },
     "execution_count": 17,
     "metadata": {},
     "output_type": "execute_result"
    }
   ],
   "source": [
    "1452427080. - 1452427020."
   ]
  },
  {
   "cell_type": "code",
   "execution_count": null,
   "metadata": {
    "collapsed": true
   },
   "outputs": [],
   "source": []
  }
 ],
 "metadata": {
  "kernelspec": {
   "display_name": "Python 2",
   "language": "python",
   "name": "python2"
  },
  "language_info": {
   "codemirror_mode": {
    "name": "ipython",
    "version": 2
   },
   "file_extension": ".py",
   "mimetype": "text/x-python",
   "name": "python",
   "nbconvert_exporter": "python",
   "pygments_lexer": "ipython2",
   "version": "2.7.5+"
  }
 },
 "nbformat": 4,
 "nbformat_minor": 0
}
