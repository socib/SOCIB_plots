{
 "cells": [
  {
   "cell_type": "markdown",
   "metadata": {
    "collapsed": true
   },
   "source": [
    "Read the data files from [Geonica](http://webtrans.geonica.com) and create a unique file containing all the time instances."
   ]
  },
  {
   "cell_type": "code",
   "execution_count": 28,
   "metadata": {
    "collapsed": true
   },
   "outputs": [],
   "source": [
    "import glob\n",
    "import os\n",
    "import numpy as np\n",
    "from datetime import datetime\n",
    "import matplotlib.pyplot as plt\n",
    "%matplotlib inline"
   ]
  },
  {
   "cell_type": "code",
   "execution_count": 2,
   "metadata": {
    "collapsed": true
   },
   "outputs": [],
   "source": [
    "datadir = \"/home/ctroupin/Projects/1-Internal/201530627_Rissaga/data_geonica\""
   ]
  },
  {
   "cell_type": "markdown",
   "metadata": {},
   "source": [
    "Generate list of files:"
   ]
  },
  {
   "cell_type": "code",
   "execution_count": 3,
   "metadata": {
    "collapsed": false
   },
   "outputs": [],
   "source": [
    "filelist = glob.glob(os.path.join(datadir, '*/*csv'))"
   ]
  },
  {
   "cell_type": "markdown",
   "metadata": {},
   "source": [
    "## Reading function"
   ]
  },
  {
   "cell_type": "markdown",
   "metadata": {},
   "source": [
    "Create a specific function to read the properly the files, as sometimes the pressure is missing."
   ]
  },
  {
   "cell_type": "code",
   "execution_count": 41,
   "metadata": {
    "collapsed": false
   },
   "outputs": [],
   "source": [
    "valex = -999.\n",
    "def readvariables(datafile, valex):\n",
    "    date = []\n",
    "    pressure = []\n",
    "    sealevel_min, sealevel_mean, sealevel_max = [], [], []\n",
    "    with open(datafile, 'r') as f:\n",
    "        firstline = f.readline()\n",
    "        for lines in f.readlines():\n",
    "            linesplit = lines.split(';')\n",
    "            if not linesplit[1]:\n",
    "                print(\"String is empty\")\n",
    "                pressure.append(valex)\n",
    "            else:\n",
    "                pressure.append(float(linesplit[1].replace(\",\", \".\")))\n",
    "            date.append(datetime.strptime(linesplit[0], '%d/%m/%Y %H:%M:%S'))\n",
    "            sealevel_mean.append(float(linesplit[2].replace(\",\", \".\")))\n",
    "            sealevel_max.append(float(linesplit[3].replace(\",\", \".\")))\n",
    "            sealevel_min.append(float(linesplit[4].replace(\",\", \".\")))\n",
    "    return date, pressure, sealevel_mean, sealevel_min, sealevel_max"
   ]
  },
  {
   "cell_type": "code",
   "execution_count": 4,
   "metadata": {
    "collapsed": false
   },
   "outputs": [
    {
     "name": "stdout",
     "output_type": "stream",
     "text": [
      "Menorca (Terminal)_30-09-2013_31-10-2013.csv\n"
     ]
    }
   ],
   "source": [
    "for datafile in filelist[0:1]:\n",
    "    print os.path.split(datafile)[-1]\n",
    "    date, pressure, sealevel_min, sealevel_mean, sealevel_max = readvariables(datafile, valex):"
   ]
  },
  {
   "cell_type": "markdown",
   "metadata": {},
   "source": [
    "Create a function to convert the read values (decimal separator = comma) to a list of floats."
   ]
  },
  {
   "cell_type": "code",
   "execution_count": 72,
   "metadata": {
    "collapsed": false
   },
   "outputs": [],
   "source": [
    "sealevel_min = formatvariables(sealevel_min)\n",
    "sealevel_max = formatvariables(sealevel_max)"
   ]
  },
  {
   "cell_type": "code",
   "execution_count": 38,
   "metadata": {
    "collapsed": false
   },
   "outputs": [],
   "source": [
    "plt.plot(sealevel_min)\n",
    "plt.show()"
   ]
  },
  {
   "cell_type": "code",
   "execution_count": 33,
   "metadata": {
    "collapsed": true
   },
   "outputs": [],
   "source": [
    "datafile = \"/data_local/Projects/1-Internal/201530627_Rissaga/data_geonica/tttt.txt\""
   ]
  },
  {
   "cell_type": "code",
   "execution_count": 40,
   "metadata": {
    "collapsed": false
   },
   "outputs": [
    {
     "data": {
      "image/png": "[encoded data removed]",
      "text/plain": [
       "<matplotlib.figure.Figure at 0x5d3e350>"
      ]
     },
     "metadata": {},
     "output_type": "display_data"
    }
   ],
   "source": [
    "plt.plot(date, pressure)\n",
    "plt.show()"
   ]
  },
  {
   "cell_type": "code",
   "execution_count": null,
   "metadata": {
    "collapsed": true
   },
   "outputs": [],
   "source": []
  }
 ],
 "metadata": {
  "kernelspec": {
   "display_name": "Python 2",
   "language": "python",
   "name": "python2"
  },
  "language_info": {
   "codemirror_mode": {
    "name": "ipython",
    "version": 2
   },
   "file_extension": ".py",
   "mimetype": "text/x-python",
   "name": "python",
   "nbconvert_exporter": "python",
   "pygments_lexer": "ipython2",
   "version": "2.7.5+"
  }
 },
 "nbformat": 4,
 "nbformat_minor": 0
}
