{
 "cells": [
  {
   "cell_type": "code",
   "execution_count": 1,
   "metadata": {
    "collapsed": false
   },
   "outputs": [],
   "source": [
    "import os\n",
    "import bz2\n",
    "import numpy as np\n",
    "import matplotlib.pyplot as plt\n",
    "import netCDF4\n",
    "from calendar import monthrange\n",
    "import matplotlib as mpl\n",
    "from mpl_toolkits.basemap import Basemap\n",
    "mpl.style.use('../stylefiles/socib.mplstyle')\n",
    "%matplotlib inline"
   ]
  },
  {
   "cell_type": "code",
   "execution_count": 2,
   "metadata": {
    "collapsed": true
   },
   "outputs": [],
   "source": [
    "sstmin, sstmax = 19., 29.\n",
    "lonmin, lonmax, latmin, latmax = -7.0, 36.0, 30.0, 47.0\n",
    "odyssea_dir = \"/data_local/Satellite/SST_Odyssea\"\n",
    "figdir = \"/data_local/Satellite/figures/SST_comparison\""
   ]
  },
  {
   "cell_type": "code",
   "execution_count": 3,
   "metadata": {
    "collapsed": true
   },
   "outputs": [],
   "source": [
    "m = Basemap(projection='merc', llcrnrlon=lonmin, llcrnrlat=latmin + 0.1,\n",
    "                    urcrnrlon=lonmax,urcrnrlat=latmax,  \n",
    "                    lat_ts=0.5 * (latmin + latmax),\n",
    "                    resolution='c')"
   ]
  },
  {
   "cell_type": "code",
   "execution_count": 4,
   "metadata": {
    "collapsed": false
   },
   "outputs": [],
   "source": [
    "def extract_bz2(datafile, datafileout):\n",
    "    with open(datafile_ODYSSEA, \"rb\") as f_in:\n",
    "        with open(datafileout, \"wb\") as f_out:\n",
    "            f_out.write(bz2.decompress(f_in.read()))"
   ]
  },
  {
   "cell_type": "code",
   "execution_count": 5,
   "metadata": {
    "collapsed": false
   },
   "outputs": [],
   "source": [
    "def load_sst(datafile):\n",
    "    with netCDF4.Dataset(datafile) as nc:\n",
    "        sst = nc.variables['analysed_sst'][:].squeeze()\n",
    "        lon = nc.variables['lon'][:]\n",
    "        lat = nc.variables['lat'][:]\n",
    "    return lon, lat, sst"
   ]
  },
  {
   "cell_type": "code",
   "execution_count": 6,
   "metadata": {
    "collapsed": false
   },
   "outputs": [],
   "source": [
    "def plot_sst_comparison(lonMUR, latMUR, sstMUR, \n",
    "                        lonODYSSEA, latODYSSEA, sstODYSSEA,\n",
    "                        lonOISST, latOISST, sstOISST, \n",
    "                        figtitle, figname, **kwargs):\n",
    "    \n",
    "    sstmin, sstmax = 19.5, 28.5\n",
    "    fig = plt.figure(figsize=(8, 12))\n",
    "    plt.suptitle(figtitle, fontsize=22)\n",
    "    \n",
    "    plt.subplot(311)\n",
    "    plt.title('MUR', fontsize=18)\n",
    "    pcm = m.pcolormesh(lonMUR, latMUR, sstMUR - 273.15, \n",
    "                       vmin=sstmin, vmax=sstmax, cmap=plt.cm.RdYlBu_r)\n",
    "    plt.subplot(312)\n",
    "    plt.title('ODYSSEA', fontsize=18)\n",
    "    m.pcolormesh(lonODYSSEA, latODYSSEA, sstODYSSEA - 273.15, \n",
    "                 vmin=sstmin, vmax=sstmax, cmap=plt.cm.RdYlBu_r)\n",
    "    plt.subplot(313)\n",
    "    plt.title('MyOcean', fontsize=18)\n",
    "    m.pcolormesh(lonOISST, latOISST, sstOISST - 273.15, \n",
    "                 vmin=sstmin, vmax=sstmax, cmap=plt.cm.RdYlBu_r)\n",
    "\n",
    "    fig.subplots_adjust(right=0.85)\n",
    "    cbar_ax = fig.add_axes([0.875, 0.15, 0.05, 0.7])\n",
    "    cbar = fig.colorbar(pcm, cax=cbar_ax, cmap=plt.cm.RdYlBu_r, extend='both')\n",
    "    cbar.set_label('$^{\\circ}$C', rotation=0, ha='left')\n",
    "    plt.savefig(figname, dpi=300)\n",
    "    # plt.show()\n",
    "    plt.close()"
   ]
  },
  {
   "cell_type": "code",
   "execution_count": 7,
   "metadata": {
    "collapsed": false
   },
   "outputs": [
    {
     "ename": "RuntimeError",
     "evalue": "No such file or directory",
     "output_type": "error",
     "traceback": [
      "\u001b[1;31m---------------------------------------------------------------------------\u001b[0m",
      "\u001b[1;31mRuntimeError\u001b[0m                              Traceback (most recent call last)",
      "\u001b[1;32m<ipython-input-7-49ca0f8d4170>\u001b[0m in \u001b[0;36m<module>\u001b[1;34m()\u001b[0m\n\u001b[0;32m     35\u001b[0m             \u001b[0mdatafile_ODYSSEA_out\u001b[0m\u001b[1;33m\u001b[0m\u001b[0m\n\u001b[0;32m     36\u001b[0m \u001b[1;33m\u001b[0m\u001b[0m\n\u001b[1;32m---> 37\u001b[1;33m             \u001b[0mlonMUR\u001b[0m\u001b[1;33m,\u001b[0m \u001b[0mlatMUR\u001b[0m\u001b[1;33m,\u001b[0m \u001b[0msstMUR\u001b[0m \u001b[1;33m=\u001b[0m \u001b[0mload_sst\u001b[0m\u001b[1;33m(\u001b[0m\u001b[0mdatafile_MUR\u001b[0m\u001b[1;33m)\u001b[0m\u001b[1;33m\u001b[0m\u001b[0m\n\u001b[0m\u001b[0;32m     38\u001b[0m             \u001b[0mlonOISST\u001b[0m\u001b[1;33m,\u001b[0m \u001b[0mlatOISST\u001b[0m\u001b[1;33m,\u001b[0m \u001b[0msstOISST\u001b[0m \u001b[1;33m=\u001b[0m \u001b[0mload_sst\u001b[0m\u001b[1;33m(\u001b[0m\u001b[0mdatafile_OISST\u001b[0m\u001b[1;33m)\u001b[0m\u001b[1;33m\u001b[0m\u001b[0m\n\u001b[0;32m     39\u001b[0m             \u001b[0mlonODYSSEA\u001b[0m\u001b[1;33m,\u001b[0m \u001b[0mlatODYSSEA\u001b[0m\u001b[1;33m,\u001b[0m \u001b[0msstODYSSEA\u001b[0m \u001b[1;33m=\u001b[0m \u001b[0mload_sst\u001b[0m\u001b[1;33m(\u001b[0m\u001b[0mdatafile_ODYSSEA_out\u001b[0m\u001b[1;33m)\u001b[0m\u001b[1;33m\u001b[0m\u001b[0m\n",
      "\u001b[1;32m<ipython-input-5-952250f1470e>\u001b[0m in \u001b[0;36mload_sst\u001b[1;34m(datafile)\u001b[0m\n\u001b[0;32m      1\u001b[0m \u001b[1;32mdef\u001b[0m \u001b[0mload_sst\u001b[0m\u001b[1;33m(\u001b[0m\u001b[0mdatafile\u001b[0m\u001b[1;33m)\u001b[0m\u001b[1;33m:\u001b[0m\u001b[1;33m\u001b[0m\u001b[0m\n\u001b[1;32m----> 2\u001b[1;33m     \u001b[1;32mwith\u001b[0m \u001b[0mnetCDF4\u001b[0m\u001b[1;33m.\u001b[0m\u001b[0mDataset\u001b[0m\u001b[1;33m(\u001b[0m\u001b[0mdatafile\u001b[0m\u001b[1;33m)\u001b[0m \u001b[1;32mas\u001b[0m \u001b[0mnc\u001b[0m\u001b[1;33m:\u001b[0m\u001b[1;33m\u001b[0m\u001b[0m\n\u001b[0m\u001b[0;32m      3\u001b[0m         \u001b[0msst\u001b[0m \u001b[1;33m=\u001b[0m \u001b[0mnc\u001b[0m\u001b[1;33m.\u001b[0m\u001b[0mvariables\u001b[0m\u001b[1;33m[\u001b[0m\u001b[1;34m'analysed_sst'\u001b[0m\u001b[1;33m]\u001b[0m\u001b[1;33m[\u001b[0m\u001b[1;33m:\u001b[0m\u001b[1;33m]\u001b[0m\u001b[1;33m.\u001b[0m\u001b[0msqueeze\u001b[0m\u001b[1;33m(\u001b[0m\u001b[1;33m)\u001b[0m\u001b[1;33m\u001b[0m\u001b[0m\n\u001b[0;32m      4\u001b[0m         \u001b[0mlon\u001b[0m \u001b[1;33m=\u001b[0m \u001b[0mnc\u001b[0m\u001b[1;33m.\u001b[0m\u001b[0mvariables\u001b[0m\u001b[1;33m[\u001b[0m\u001b[1;34m'lon'\u001b[0m\u001b[1;33m]\u001b[0m\u001b[1;33m[\u001b[0m\u001b[1;33m:\u001b[0m\u001b[1;33m]\u001b[0m\u001b[1;33m\u001b[0m\u001b[0m\n\u001b[0;32m      5\u001b[0m         \u001b[0mlat\u001b[0m \u001b[1;33m=\u001b[0m \u001b[0mnc\u001b[0m\u001b[1;33m.\u001b[0m\u001b[0mvariables\u001b[0m\u001b[1;33m[\u001b[0m\u001b[1;34m'lat'\u001b[0m\u001b[1;33m]\u001b[0m\u001b[1;33m[\u001b[0m\u001b[1;33m:\u001b[0m\u001b[1;33m]\u001b[0m\u001b[1;33m\u001b[0m\u001b[0m\n",
      "\u001b[1;32mnetCDF4/_netCDF4.pyx\u001b[0m in \u001b[0;36mnetCDF4._netCDF4.Dataset.__init__ (netCDF4/_netCDF4.c:9551)\u001b[1;34m()\u001b[0m\n",
      "\u001b[1;31mRuntimeError\u001b[0m: No such file or directory"
     ]
    }
   ],
   "source": [
    "# Loop on time\n",
    "yearstart, yearend = 2016, 2016\n",
    "monthstart, monthend = 8, 8\n",
    "daystart, dayend = 1, 11\n",
    "\n",
    "for yy in range(yearstart, yearend + 1):\n",
    "    year = str(yy)\n",
    "    for mm in range(monthstart, monthend + 1):\n",
    "        month = str(mm).zfill(2)\n",
    " \n",
    "        if mm == monthstart:\n",
    "            daystart0 = daystart\n",
    "            dayend0 = monthrange(yy, mm)[1]\n",
    "        elif mm == monthend:\n",
    "            daystart0 = 1\n",
    "            dayend0 = dayend\n",
    "        else:\n",
    "            daystart0 = daystart\n",
    "            dayend0 = dayend\n",
    "                \n",
    "        for dd in range(daystart0, dayend0 + 1):\n",
    "            day = str(dd).zfill(2)\n",
    "            \n",
    "            datafile_MUR = (\"/data/current/opendap/observational/satellite/ocean_temperature/jpl/sst/L4\"\n",
    "                            \"/{0}/{1}/{0}{1}{2}-JPL-L4UHfnd-GLOB-v01-fv04-MUR.nc\".format(year, month, day))\n",
    "            datafile_ODYSSEA = (\"/data/current/opendap/observational/satellite/ocean_temperature/ifremer/sst/L4\"\n",
    "                                \"/{0}/{1}/{0}{1}{2}-IFR-L4_GHRSST-SSTfnd-ODYSSEA-\"\n",
    "                                \"MED_002-v2.0-fv1.0.nc.bz2\".format(year, month, day))\n",
    "            datafile_OISST = (\"/data/current/opendap/observational/satellite/ocean_temperature/myocean/sst/L4\"\n",
    "                              \"/{0}/{1}/{0}{1}{2}000000-GOS-L4_GHRSST-SSTfnd-\"\n",
    "                              \"OISST_HR_NRT-MED-v02.0-fv02.0.nc\".format(year, month, day))\n",
    "\n",
    "            datafile_ODYSSEA_out = os.path.join(odyssea_dir, os.path.basename(datafile_ODYSSEA).split('.')[0] + '.nc')\n",
    "            extract_bz2(datafile_ODYSSEA, datafile_ODYSSEA_out)\n",
    "            datafile_ODYSSEA_out\n",
    "            \n",
    "            lonMUR, latMUR, sstMUR = load_sst(datafile_MUR)\n",
    "            lonOISST, latOISST, sstOISST = load_sst(datafile_OISST)\n",
    "            lonODYSSEA, latODYSSEA, sstODYSSEA = load_sst(datafile_ODYSSEA_out)\n",
    "            \n",
    "            \n",
    "            llonMUR, llatMUR = np.meshgrid(lonMUR, latMUR)\n",
    "            lonMUR, latMUR = m(llonMUR, llatMUR)\n",
    "            llonOISST, llatOISST = np.meshgrid(lonOISST, latOISST)\n",
    "            lonOISST, latOISST = m(llonOISST, llatOISST)\n",
    "            llonODYSSEA, llatODYSSEA = np.meshgrid(lonODYSSEA, latODYSSEA)\n",
    "            lonODYSSEA, latODYSSEA = m(llonODYSSEA, llatODYSSEA)\n",
    "            \n",
    "            figtitle = '{0}-{1}-{2}'.format(year, month, day)\n",
    "            figname = os.path.join(figdir, 'sst_comparison_{0}_{1}_{2}'.format(year, month, day))\n",
    "            \n",
    "            plot_sst_comparison(lonMUR, latMUR, sstMUR, \n",
    "                        lonODYSSEA, latODYSSEA, sstODYSSEA,\n",
    "                        lonOISST, latOISST, sstOISST, \n",
    "                        figtitle, figname, vmin=sstmin, vmax=sstmax)"
   ]
  },
  {
   "cell_type": "code",
   "execution_count": 132,
   "metadata": {
    "collapsed": false
   },
   "outputs": [
    {
     "data": {
      "text/plain": [
       "'2016_07_30'"
      ]
     },
     "execution_count": 132,
     "metadata": {},
     "output_type": "execute_result"
    }
   ],
   "source": []
  },
  {
   "cell_type": "code",
   "execution_count": 104,
   "metadata": {
    "collapsed": false
   },
   "outputs": [],
   "source": []
  },
  {
   "cell_type": "code",
   "execution_count": null,
   "metadata": {
    "collapsed": true
   },
   "outputs": [],
   "source": []
  }
 ],
 "metadata": {
  "kernelspec": {
   "display_name": "Python 2",
   "language": "python",
   "name": "python2"
  },
  "language_info": {
   "codemirror_mode": {
    "name": "ipython",
    "version": 2
   },
   "file_extension": ".py",
   "mimetype": "text/x-python",
   "name": "python",
   "nbconvert_exporter": "python",
   "pygments_lexer": "ipython2",
   "version": "2.7.5+"
  }
 },
 "nbformat": 4,
 "nbformat_minor": 0
}
