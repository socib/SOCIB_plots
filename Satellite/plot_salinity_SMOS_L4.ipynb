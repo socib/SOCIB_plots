{
 "cells": [
  {
   "cell_type": "code",
   "execution_count": 1,
   "metadata": {
    "collapsed": true
   },
   "outputs": [],
   "source": [
    "import os\n",
    "import glob\n",
    "import numpy as np\n",
    "import matplotlib.pyplot as plt\n",
    "from mpl_toolkits.basemap import Basemap\n",
    "from matplotlib  import colors\n",
    "import load_functions\n",
    "%matplotlib inline"
   ]
  },
  {
   "cell_type": "code",
   "execution_count": 2,
   "metadata": {
    "collapsed": true
   },
   "outputs": [],
   "source": [
    "figdir = '/data_local/Satellite/Salinity/SMOS/figures'\n",
    "salinityfile = '/data_local/Satellite/Salinity/SMOS/BEC_L4_SST_B_20160630T004729_20160709T005029_2013001_005_200.nc'\n",
    "\n",
    "# Create figure directory if neccesary\n",
    "if not(os.path.exists(figdir)):\n",
    "    os.makedirs(figdir)\n",
    "    \n",
    "figname = os.path.basename(salinityfile)[:-3]\n",
    "figname = os.path.join(figdir, figname)"
   ]
  },
  {
   "cell_type": "markdown",
   "metadata": {},
   "source": [
    "Options for the plot"
   ]
  },
  {
   "cell_type": "code",
   "execution_count": 23,
   "metadata": {
    "collapsed": false
   },
   "outputs": [],
   "source": [
    "cmap=plt.cm.RdYlBu_r\n",
    "\n",
    "vmin = 34.\n",
    "vmax = 40.\n",
    "bounds = np.arange(vmin, vmax + 0.01, 5)\n",
    "norm = colors.Normalize(vmin=vmin, vmax=vmax + 0.01)\n",
    "levels2plot = np.arange(vmin, vmax, 0.05)"
   ]
  },
  {
   "cell_type": "markdown",
   "metadata": {},
   "source": [
    "Prepare projection (global)"
   ]
  },
  {
   "cell_type": "code",
   "execution_count": 24,
   "metadata": {
    "collapsed": false
   },
   "outputs": [],
   "source": [
    "lonmap = 0.\n",
    "latmap = 20.\n",
    "\n",
    "# Create basemap then used for the plot\n",
    "m = Basemap(projection='ortho', lat_0 = latmap, lon_0 = lonmap, \n",
    "            resolution = 'c')"
   ]
  },
  {
   "cell_type": "markdown",
   "metadata": {},
   "source": [
    "# Load the salinity from the file"
   ]
  },
  {
   "cell_type": "code",
   "execution_count": 5,
   "metadata": {
    "collapsed": false
   },
   "outputs": [],
   "source": [
    "lon, lat, psal = load_functions.load_salinity_L4_SMOS(salinityfile)"
   ]
  },
  {
   "cell_type": "markdown",
   "metadata": {},
   "source": [
    "# Make the plot"
   ]
  },
  {
   "cell_type": "code",
   "execution_count": 10,
   "metadata": {
    "collapsed": true
   },
   "outputs": [],
   "source": [
    "llon, llat  = np.meshgrid(lon, lat)\n",
    "x, y = m(llon, llat)"
   ]
  },
  {
   "cell_type": "code",
   "execution_count": 25,
   "metadata": {
    "collapsed": false
   },
   "outputs": [],
   "source": [
    "MM = 5\n",
    "fig = plt.figure()\n",
    "ax = fig.add_subplot(111)\n",
    "m.ax = ax\n",
    "\n",
    "contour = m.contourf(x[::MM, ::MM], y[::MM, ::MM], psal[::MM, ::MM], \n",
    "                     levels2plot, cmap=cmap, norm=norm, extend='both')\n",
    "\n",
    "m.bluemarble()\n",
    "m.drawcountries(linewidth=0.25)\n",
    "cb = plt.colorbar(contour)\n",
    "cb.set_clim(vmin, vmax)\n",
    "plt.savefig(figname, dpi=300, facecolor='w', edgecolor='w',\n",
    "         transparent=False, bbox_inches='tight', pad_inches=0.1)\n",
    "# plt.show()\n",
    "plt.close()"
   ]
  }
 ],
 "metadata": {
  "kernelspec": {
   "display_name": "Python 2",
   "language": "python",
   "name": "python2"
  },
  "language_info": {
   "codemirror_mode": {
    "name": "ipython",
    "version": 2
   },
   "file_extension": ".py",
   "mimetype": "text/x-python",
   "name": "python",
   "nbconvert_exporter": "python",
   "pygments_lexer": "ipython2",
   "version": "2.7.5+"
  }
 },
 "nbformat": 4,
 "nbformat_minor": 0
}
